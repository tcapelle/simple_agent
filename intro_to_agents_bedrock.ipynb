{
 "cells": [
  {
   "cell_type": "markdown",
   "id": "85671824",
   "metadata": {},
   "source": [
    "# Introduction to Building LLM Agents with Tools and Tracing\n",
    "\n",
    "This script walks through the process of building a simple LLM-powered agent that can use tools (functions) to answer questions. We'll cover:\n",
    "1. Making basic LLM calls.\n",
    "2. Introducing Weave for tracing and observability.\n",
    "3. Defining tools for the LLM (manually and automatically).\n",
    "4. Implementing a basic agentic loop.\n",
    "5. Structuring the agent using Python classes.\n",
    "6. Running the agent on a multi-step task."
   ]
  },
  {
   "cell_type": "markdown",
   "id": "803fbc4f",
   "metadata": {},
   "source": [
    "**Prerequisites:**\n",
    "Make sure you have the necessary libraries installed:\n",
    "```bash\n",
    "!pip install weave requests boto3\n",
    "```\n"
   ]
  },
  {
   "cell_type": "code",
   "execution_count": 1,
   "id": "96d103af",
   "metadata": {},
   "outputs": [],
   "source": [
    "# Global Configuration & Setup\n",
    "import inspect\n",
    "import json\n",
    "import os\n",
    "import requests\n",
    "import weave # Must import weave before litellm for auto-patching\n",
    "from enum import Enum\n",
    "from pydantic import BaseModel, Field\n",
    "from rich.pretty import pprint\n",
    "from typing import Any, Callable, Dict, List, get_type_hints"
   ]
  },
  {
   "cell_type": "code",
   "execution_count": 2,
   "id": "fb464f85",
   "metadata": {},
   "outputs": [],
   "source": [
    "# you need to request access to the model on the Bedrock UI\n",
    "CLAUDE_MODEL = \"us.anthropic.claude-sonnet-4-20250514-v1:0\""
   ]
  },
  {
   "cell_type": "markdown",
   "id": "78cf6667",
   "metadata": {},
   "source": [
    "Define a model to use, as we are going to use tool calling you need a capable model like `claude-4`"
   ]
  },
  {
   "cell_type": "markdown",
   "id": "d48c55be",
   "metadata": {},
   "source": [
    "Let's log to [W&B Weave](https://weave-docs.wandb.ai/). Weights & Biases (W&B) Weave is a framework for tracking, experimenting with, evaluating, deploying, and improving LLM-based applications. Designed for flexibility and scalability, Weave supports every stage of your LLM application development workflow:\n",
    "\n",
    "- Tracing & Monitoring: Track LLM calls and application logic to debug and analyze production systems.\n",
    "- Systematic Iteration: Refine and iterate on prompts, datasets, and models.\n",
    "- Experimentation: Experiment with different models and prompts in the LLM Playground.\n",
    "- Evaluation: Use custom or pre-built scorers alongside our comparison tools to systematically assess and enhance application performance.\n",
    "- Guardrails: Protect your application with pre- and post-safeguards for content moderation, prompt safety, and more."
   ]
  },
  {
   "cell_type": "code",
   "execution_count": 3,
   "id": "e70b57d9",
   "metadata": {},
   "outputs": [
    {
     "name": "stdout",
     "output_type": "stream",
     "text": [
      "weave version 0.51.54 is available!  To upgrade, please run:\n",
      " $ pip install weave --upgrade\n",
      "Logged in as Weights & Biases user: capecape.\n",
      "View Weave data at https://wandb.ai/capecape/reliable-agents/weave\n"
     ]
    },
    {
     "data": {
      "text/plain": [
       "<weave.trace.weave_client.WeaveClient at 0x1312bf710>"
      ]
     },
     "execution_count": 3,
     "metadata": {},
     "output_type": "execute_result"
    }
   ],
   "source": [
    "\n",
    "# Initialize a Weave project. Traces will be sent here.\n",
    "# You can view them in the Weave UI (usually runs locally).\n",
    "weave.init('reliable-agents')"
   ]
  },
  {
   "cell_type": "markdown",
   "id": "13266e05",
   "metadata": {},
   "source": [
    "## 1. Basic LLM Call with Bedrock Converse API \n",
    "\n",
    "Let's start with a simple call to the LLM using/\n",
    "\n",
    "![](br_images/01_traces.png)"
   ]
  },
  {
   "cell_type": "code",
   "execution_count": 4,
   "id": "3d5284ae",
   "metadata": {},
   "outputs": [
    {
     "name": "stdout",
     "output_type": "stream",
     "text": [
      "🍩 https://wandb.ai/capecape/reliable-agents/r/call/0197abcd-0833-7f63-85ba-1c62ed3abda6\n"
     ]
    },
    {
     "data": {
      "text/html": [
       "<pre style=\"white-space:pre;overflow-x:auto;line-height:normal;font-family:Menlo,'DejaVu Sans Mono',consolas,'Courier New',monospace\"><span style=\"font-weight: bold\">{</span>\n",
       "<span style=\"color: #7fbf7f; text-decoration-color: #7fbf7f\">│   </span><span style=\"color: #008000; text-decoration-color: #008000\">'ResponseMetadata'</span>: <span style=\"font-weight: bold\">{</span>\n",
       "<span style=\"color: #7fbf7f; text-decoration-color: #7fbf7f\">│   │   </span><span style=\"color: #008000; text-decoration-color: #008000\">'RequestId'</span>: <span style=\"color: #008000; text-decoration-color: #008000\">'fb6193eb-6bc2-4166-a740-6d1e9cd0bf81'</span>,\n",
       "<span style=\"color: #7fbf7f; text-decoration-color: #7fbf7f\">│   │   </span><span style=\"color: #008000; text-decoration-color: #008000\">'HTTPStatusCode'</span>: <span style=\"color: #008080; text-decoration-color: #008080; font-weight: bold\">200</span>,\n",
       "<span style=\"color: #7fbf7f; text-decoration-color: #7fbf7f\">│   │   </span><span style=\"color: #008000; text-decoration-color: #008000\">'HTTPHeaders'</span>: <span style=\"font-weight: bold\">{</span>\n",
       "<span style=\"color: #7fbf7f; text-decoration-color: #7fbf7f\">│   │   │   </span><span style=\"color: #008000; text-decoration-color: #008000\">'date'</span>: <span style=\"color: #008000; text-decoration-color: #008000\">'Thu, 26 Jun 2025 10:33:59 GMT'</span>,\n",
       "<span style=\"color: #7fbf7f; text-decoration-color: #7fbf7f\">│   │   │   </span><span style=\"color: #008000; text-decoration-color: #008000\">'content-type'</span>: <span style=\"color: #008000; text-decoration-color: #008000\">'application/json'</span>,\n",
       "<span style=\"color: #7fbf7f; text-decoration-color: #7fbf7f\">│   │   │   </span><span style=\"color: #008000; text-decoration-color: #008000\">'content-length'</span>: <span style=\"color: #008000; text-decoration-color: #008000\">'1794'</span>,\n",
       "<span style=\"color: #7fbf7f; text-decoration-color: #7fbf7f\">│   │   │   </span><span style=\"color: #008000; text-decoration-color: #008000\">'connection'</span>: <span style=\"color: #008000; text-decoration-color: #008000\">'keep-alive'</span>,\n",
       "<span style=\"color: #7fbf7f; text-decoration-color: #7fbf7f\">│   │   │   </span><span style=\"color: #008000; text-decoration-color: #008000\">'x-amzn-requestid'</span>: <span style=\"color: #008000; text-decoration-color: #008000\">'fb6193eb-6bc2-4166-a740-6d1e9cd0bf81'</span>\n",
       "<span style=\"color: #7fbf7f; text-decoration-color: #7fbf7f\">│   │   </span><span style=\"font-weight: bold\">}</span>,\n",
       "<span style=\"color: #7fbf7f; text-decoration-color: #7fbf7f\">│   │   </span><span style=\"color: #008000; text-decoration-color: #008000\">'RetryAttempts'</span>: <span style=\"color: #008080; text-decoration-color: #008080; font-weight: bold\">0</span>\n",
       "<span style=\"color: #7fbf7f; text-decoration-color: #7fbf7f\">│   </span><span style=\"font-weight: bold\">}</span>,\n",
       "<span style=\"color: #7fbf7f; text-decoration-color: #7fbf7f\">│   </span><span style=\"color: #008000; text-decoration-color: #008000\">'output'</span>: <span style=\"font-weight: bold\">{</span>\n",
       "<span style=\"color: #7fbf7f; text-decoration-color: #7fbf7f\">│   │   </span><span style=\"color: #008000; text-decoration-color: #008000\">'message'</span>: <span style=\"font-weight: bold\">{</span>\n",
       "<span style=\"color: #7fbf7f; text-decoration-color: #7fbf7f\">│   │   │   </span><span style=\"color: #008000; text-decoration-color: #008000\">'role'</span>: <span style=\"color: #008000; text-decoration-color: #008000\">'assistant'</span>,\n",
       "<span style=\"color: #7fbf7f; text-decoration-color: #7fbf7f\">│   │   │   </span><span style=\"color: #008000; text-decoration-color: #008000\">'content'</span>: <span style=\"font-weight: bold\">[</span>\n",
       "<span style=\"color: #7fbf7f; text-decoration-color: #7fbf7f\">│   │   │   │   </span><span style=\"font-weight: bold\">{</span>\n",
       "<span style=\"color: #7fbf7f; text-decoration-color: #7fbf7f\">│   │   │   │   │   </span><span style=\"color: #008000; text-decoration-color: #008000\">'text'</span>: <span style=\"color: #008000; text-decoration-color: #008000\">\"Hello! Great question! An AI agent is a system designed to perceive its environment, make decisions, and take actions to achieve specific goals. Here's how they typically work:\\n\\n## Core Components:\\n\\n**1. Perception**\\n- Sensors or input mechanisms to gather information from the environment\\n- Could be cameras, microphones, text inputs, data feeds, etc.\\n\\n**2. Decision-Making Engine**\\n- Processing unit (often neural networks, rule-based systems, or hybrid approaches)\\n- Evaluates current state and determines best actions\\n- May use techniques like machine learning, reinforcement learning, or classical AI\\n\\n**3. Action Mechanism**\\n- Ways to interact with and modify the environment\\n- Could be physical actuators, software commands, generating text/images, etc.\\n\\n## Basic Cycle:\\n1. **Observe** the current state of the environment\\n2. **Process** that information using its knowledge/training\\n3. **Decide** on the best action to take\\n4. **Act** to influence the environment\\n5. **Learn** from the results (in adaptive systems)\\n6. Repeat the cycle\\n\\n## Types of AI Agents:\\n- **Reactive**: Respond directly to current inputs\\n- **Deliberative**: Plan ahead using internal models\\n- **Learning**: Improve performance over time\\n- **Multi-agent**: Multiple agents working together\\n\\nThe sophistication can range from simple rule-following bots to complex systems like autonomous vehicles or conversational AI like myself!\\n\\nWould you like me to elaborate on any particular aspect?\"</span>\n",
       "<span style=\"color: #7fbf7f; text-decoration-color: #7fbf7f\">│   │   │   │   </span><span style=\"font-weight: bold\">}</span>\n",
       "<span style=\"color: #7fbf7f; text-decoration-color: #7fbf7f\">│   │   │   </span><span style=\"font-weight: bold\">]</span>\n",
       "<span style=\"color: #7fbf7f; text-decoration-color: #7fbf7f\">│   │   </span><span style=\"font-weight: bold\">}</span>\n",
       "<span style=\"color: #7fbf7f; text-decoration-color: #7fbf7f\">│   </span><span style=\"font-weight: bold\">}</span>,\n",
       "<span style=\"color: #7fbf7f; text-decoration-color: #7fbf7f\">│   </span><span style=\"color: #008000; text-decoration-color: #008000\">'stopReason'</span>: <span style=\"color: #008000; text-decoration-color: #008000\">'end_turn'</span>,\n",
       "<span style=\"color: #7fbf7f; text-decoration-color: #7fbf7f\">│   </span><span style=\"color: #008000; text-decoration-color: #008000\">'usage'</span>: <span style=\"font-weight: bold\">{</span>\n",
       "<span style=\"color: #7fbf7f; text-decoration-color: #7fbf7f\">│   │   </span><span style=\"color: #008000; text-decoration-color: #008000\">'inputTokens'</span>: <span style=\"color: #008080; text-decoration-color: #008080; font-weight: bold\">27</span>,\n",
       "<span style=\"color: #7fbf7f; text-decoration-color: #7fbf7f\">│   │   </span><span style=\"color: #008000; text-decoration-color: #008000\">'outputTokens'</span>: <span style=\"color: #008080; text-decoration-color: #008080; font-weight: bold\">338</span>,\n",
       "<span style=\"color: #7fbf7f; text-decoration-color: #7fbf7f\">│   │   </span><span style=\"color: #008000; text-decoration-color: #008000\">'totalTokens'</span>: <span style=\"color: #008080; text-decoration-color: #008080; font-weight: bold\">365</span>,\n",
       "<span style=\"color: #7fbf7f; text-decoration-color: #7fbf7f\">│   │   </span><span style=\"color: #008000; text-decoration-color: #008000\">'cacheReadInputTokens'</span>: <span style=\"color: #008080; text-decoration-color: #008080; font-weight: bold\">0</span>,\n",
       "<span style=\"color: #7fbf7f; text-decoration-color: #7fbf7f\">│   │   </span><span style=\"color: #008000; text-decoration-color: #008000\">'cacheWriteInputTokens'</span>: <span style=\"color: #008080; text-decoration-color: #008080; font-weight: bold\">0</span>\n",
       "<span style=\"color: #7fbf7f; text-decoration-color: #7fbf7f\">│   </span><span style=\"font-weight: bold\">}</span>,\n",
       "<span style=\"color: #7fbf7f; text-decoration-color: #7fbf7f\">│   </span><span style=\"color: #008000; text-decoration-color: #008000\">'metrics'</span>: <span style=\"font-weight: bold\">{</span><span style=\"color: #008000; text-decoration-color: #008000\">'latencyMs'</span>: <span style=\"color: #008080; text-decoration-color: #008080; font-weight: bold\">7744</span><span style=\"font-weight: bold\">}</span>\n",
       "<span style=\"font-weight: bold\">}</span>\n",
       "</pre>\n"
      ],
      "text/plain": [
       "\u001b[1m{\u001b[0m\n",
       "\u001b[2;32m│   \u001b[0m\u001b[32m'ResponseMetadata'\u001b[0m: \u001b[1m{\u001b[0m\n",
       "\u001b[2;32m│   │   \u001b[0m\u001b[32m'RequestId'\u001b[0m: \u001b[32m'fb6193eb-6bc2-4166-a740-6d1e9cd0bf81'\u001b[0m,\n",
       "\u001b[2;32m│   │   \u001b[0m\u001b[32m'HTTPStatusCode'\u001b[0m: \u001b[1;36m200\u001b[0m,\n",
       "\u001b[2;32m│   │   \u001b[0m\u001b[32m'HTTPHeaders'\u001b[0m: \u001b[1m{\u001b[0m\n",
       "\u001b[2;32m│   │   │   \u001b[0m\u001b[32m'date'\u001b[0m: \u001b[32m'Thu, 26 Jun 2025 10:33:59 GMT'\u001b[0m,\n",
       "\u001b[2;32m│   │   │   \u001b[0m\u001b[32m'content-type'\u001b[0m: \u001b[32m'application/json'\u001b[0m,\n",
       "\u001b[2;32m│   │   │   \u001b[0m\u001b[32m'content-length'\u001b[0m: \u001b[32m'1794'\u001b[0m,\n",
       "\u001b[2;32m│   │   │   \u001b[0m\u001b[32m'connection'\u001b[0m: \u001b[32m'keep-alive'\u001b[0m,\n",
       "\u001b[2;32m│   │   │   \u001b[0m\u001b[32m'x-amzn-requestid'\u001b[0m: \u001b[32m'fb6193eb-6bc2-4166-a740-6d1e9cd0bf81'\u001b[0m\n",
       "\u001b[2;32m│   │   \u001b[0m\u001b[1m}\u001b[0m,\n",
       "\u001b[2;32m│   │   \u001b[0m\u001b[32m'RetryAttempts'\u001b[0m: \u001b[1;36m0\u001b[0m\n",
       "\u001b[2;32m│   \u001b[0m\u001b[1m}\u001b[0m,\n",
       "\u001b[2;32m│   \u001b[0m\u001b[32m'output'\u001b[0m: \u001b[1m{\u001b[0m\n",
       "\u001b[2;32m│   │   \u001b[0m\u001b[32m'message'\u001b[0m: \u001b[1m{\u001b[0m\n",
       "\u001b[2;32m│   │   │   \u001b[0m\u001b[32m'role'\u001b[0m: \u001b[32m'assistant'\u001b[0m,\n",
       "\u001b[2;32m│   │   │   \u001b[0m\u001b[32m'content'\u001b[0m: \u001b[1m[\u001b[0m\n",
       "\u001b[2;32m│   │   │   │   \u001b[0m\u001b[1m{\u001b[0m\n",
       "\u001b[2;32m│   │   │   │   │   \u001b[0m\u001b[32m'text'\u001b[0m: \u001b[32m\"Hello! Great question! An AI agent is a system designed to perceive its environment, make decisions, and take actions to achieve specific goals. Here's how they typically work:\\n\\n## Core Components:\\n\\n**1. Perception**\\n- Sensors or input mechanisms to gather information from the environment\\n- Could be cameras, microphones, text inputs, data feeds, etc.\\n\\n**2. Decision-Making Engine**\\n- Processing unit \u001b[0m\u001b[32m(\u001b[0m\u001b[32moften neural networks, rule-based systems, or hybrid approaches\u001b[0m\u001b[32m)\u001b[0m\u001b[32m\\n- Evaluates current state and determines best actions\\n- May use techniques like machine learning, reinforcement learning, or classical AI\\n\\n**3. Action Mechanism**\\n- Ways to interact with and modify the environment\\n- Could be physical actuators, software commands, generating text/images, etc.\\n\\n## Basic Cycle:\\n1. **Observe** the current state of the environment\\n2. **Process** that information using its knowledge/training\\n3. **Decide** on the best action to take\\n4. **Act** to influence the environment\\n5. **Learn** from the results \u001b[0m\u001b[32m(\u001b[0m\u001b[32min adaptive systems\u001b[0m\u001b[32m)\u001b[0m\u001b[32m\\n6. Repeat the cycle\\n\\n## Types of AI Agents:\\n- **Reactive**: Respond directly to current inputs\\n- **Deliberative**: Plan ahead using internal models\\n- **Learning**: Improve performance over time\\n- **Multi-agent**: Multiple agents working together\\n\\nThe sophistication can range from simple rule-following bots to complex systems like autonomous vehicles or conversational AI like myself!\\n\\nWould you like me to elaborate on any particular aspect?\"\u001b[0m\n",
       "\u001b[2;32m│   │   │   │   \u001b[0m\u001b[1m}\u001b[0m\n",
       "\u001b[2;32m│   │   │   \u001b[0m\u001b[1m]\u001b[0m\n",
       "\u001b[2;32m│   │   \u001b[0m\u001b[1m}\u001b[0m\n",
       "\u001b[2;32m│   \u001b[0m\u001b[1m}\u001b[0m,\n",
       "\u001b[2;32m│   \u001b[0m\u001b[32m'stopReason'\u001b[0m: \u001b[32m'end_turn'\u001b[0m,\n",
       "\u001b[2;32m│   \u001b[0m\u001b[32m'usage'\u001b[0m: \u001b[1m{\u001b[0m\n",
       "\u001b[2;32m│   │   \u001b[0m\u001b[32m'inputTokens'\u001b[0m: \u001b[1;36m27\u001b[0m,\n",
       "\u001b[2;32m│   │   \u001b[0m\u001b[32m'outputTokens'\u001b[0m: \u001b[1;36m338\u001b[0m,\n",
       "\u001b[2;32m│   │   \u001b[0m\u001b[32m'totalTokens'\u001b[0m: \u001b[1;36m365\u001b[0m,\n",
       "\u001b[2;32m│   │   \u001b[0m\u001b[32m'cacheReadInputTokens'\u001b[0m: \u001b[1;36m0\u001b[0m,\n",
       "\u001b[2;32m│   │   \u001b[0m\u001b[32m'cacheWriteInputTokens'\u001b[0m: \u001b[1;36m0\u001b[0m\n",
       "\u001b[2;32m│   \u001b[0m\u001b[1m}\u001b[0m,\n",
       "\u001b[2;32m│   \u001b[0m\u001b[32m'metrics'\u001b[0m: \u001b[1m{\u001b[0m\u001b[32m'latencyMs'\u001b[0m: \u001b[1;36m7744\u001b[0m\u001b[1m}\u001b[0m\n",
       "\u001b[1m}\u001b[0m\n"
      ]
     },
     "metadata": {},
     "output_type": "display_data"
    }
   ],
   "source": [
    "import boto3\n",
    "from weave.integrations.bedrock.bedrock_sdk import patch_client\n",
    "\n",
    "# Create and patch the Bedrock client\n",
    "client = boto3.client(\"bedrock-runtime\")\n",
    "patch_client(client)\n",
    "\n",
    "messages = [{\"role\": \"user\", \"content\": [{\"text\": \"Hello, LLM! How does an AI agent work?\"}]}]\n",
    "\n",
    "# call the model using the converse API\n",
    "response = client.converse(\n",
    "    modelId=CLAUDE_MODEL,\n",
    "    system=[{\"text\": \"You are a helpful AI assistant.\"}],\n",
    "    messages=messages,\n",
    "    inferenceConfig={\"maxTokens\": 400},\n",
    ")\n",
    "pprint(response)"
   ]
  },
  {
   "cell_type": "markdown",
   "id": "795ead84",
   "metadata": {},
   "source": [
    "To get your LLM calls traces, you need to call `patch_client(client)` on the `boto3` Bedrock Runtime client. You can follow the link to your Weave dashboard and see the trace, including the input messages, output response, latency, model used, etc. This is invaluable for debugging and monitoring."
   ]
  },
  {
   "cell_type": "code",
   "execution_count": null,
   "id": "eb90b937",
   "metadata": {},
   "outputs": [
    {
     "name": "stdout",
     "output_type": "stream",
     "text": [
      "🍩 https://wandb.ai/capecape/reliable-agents/r/call/0197abcd-f2f4-7e32-8d24-b2607fbef161\n"
     ]
    },
    {
     "data": {
      "text/html": [
       "<pre style=\"white-space:pre;overflow-x:auto;line-height:normal;font-family:Menlo,'DejaVu Sans Mono',consolas,'Courier New',monospace\"><span style=\"font-weight: bold\">{</span>\n",
       "<span style=\"color: #7fbf7f; text-decoration-color: #7fbf7f\">│   </span><span style=\"color: #008000; text-decoration-color: #008000\">'ResponseMetadata'</span>: <span style=\"font-weight: bold\">{</span>\n",
       "<span style=\"color: #7fbf7f; text-decoration-color: #7fbf7f\">│   │   </span><span style=\"color: #008000; text-decoration-color: #008000\">'RequestId'</span>: <span style=\"color: #008000; text-decoration-color: #008000\">'d1c6c497-e005-4701-b60f-abce4b70615d'</span>,\n",
       "<span style=\"color: #7fbf7f; text-decoration-color: #7fbf7f\">│   │   </span><span style=\"color: #008000; text-decoration-color: #008000\">'HTTPStatusCode'</span>: <span style=\"color: #008080; text-decoration-color: #008080; font-weight: bold\">200</span>,\n",
       "<span style=\"color: #7fbf7f; text-decoration-color: #7fbf7f\">│   │   </span><span style=\"color: #008000; text-decoration-color: #008000\">'HTTPHeaders'</span>: <span style=\"font-weight: bold\">{</span>\n",
       "<span style=\"color: #7fbf7f; text-decoration-color: #7fbf7f\">│   │   │   </span><span style=\"color: #008000; text-decoration-color: #008000\">'date'</span>: <span style=\"color: #008000; text-decoration-color: #008000\">'Thu, 26 Jun 2025 10:34:52 GMT'</span>,\n",
       "<span style=\"color: #7fbf7f; text-decoration-color: #7fbf7f\">│   │   │   </span><span style=\"color: #008000; text-decoration-color: #008000\">'content-type'</span>: <span style=\"color: #008000; text-decoration-color: #008000\">'application/json'</span>,\n",
       "<span style=\"color: #7fbf7f; text-decoration-color: #7fbf7f\">│   │   │   </span><span style=\"color: #008000; text-decoration-color: #008000\">'content-length'</span>: <span style=\"color: #008000; text-decoration-color: #008000\">'420'</span>,\n",
       "<span style=\"color: #7fbf7f; text-decoration-color: #7fbf7f\">│   │   │   </span><span style=\"color: #008000; text-decoration-color: #008000\">'connection'</span>: <span style=\"color: #008000; text-decoration-color: #008000\">'keep-alive'</span>,\n",
       "<span style=\"color: #7fbf7f; text-decoration-color: #7fbf7f\">│   │   │   </span><span style=\"color: #008000; text-decoration-color: #008000\">'x-amzn-requestid'</span>: <span style=\"color: #008000; text-decoration-color: #008000\">'d1c6c497-e005-4701-b60f-abce4b70615d'</span>\n",
       "<span style=\"color: #7fbf7f; text-decoration-color: #7fbf7f\">│   │   </span><span style=\"font-weight: bold\">}</span>,\n",
       "<span style=\"color: #7fbf7f; text-decoration-color: #7fbf7f\">│   │   </span><span style=\"color: #008000; text-decoration-color: #008000\">'RetryAttempts'</span>: <span style=\"color: #008080; text-decoration-color: #008080; font-weight: bold\">0</span>\n",
       "<span style=\"color: #7fbf7f; text-decoration-color: #7fbf7f\">│   </span><span style=\"font-weight: bold\">}</span>,\n",
       "<span style=\"color: #7fbf7f; text-decoration-color: #7fbf7f\">│   </span><span style=\"color: #008000; text-decoration-color: #008000\">'output'</span>: <span style=\"font-weight: bold\">{</span>\n",
       "<span style=\"color: #7fbf7f; text-decoration-color: #7fbf7f\">│   │   </span><span style=\"color: #008000; text-decoration-color: #008000\">'message'</span>: <span style=\"font-weight: bold\">{</span>\n",
       "<span style=\"color: #7fbf7f; text-decoration-color: #7fbf7f\">│   │   │   </span><span style=\"color: #008000; text-decoration-color: #008000\">'role'</span>: <span style=\"color: #008000; text-decoration-color: #008000\">'assistant'</span>,\n",
       "<span style=\"color: #7fbf7f; text-decoration-color: #7fbf7f\">│   │   │   </span><span style=\"color: #008000; text-decoration-color: #008000\">'content'</span>: <span style=\"font-weight: bold\">[</span>\n",
       "<span style=\"color: #7fbf7f; text-decoration-color: #7fbf7f\">│   │   │   │   </span><span style=\"font-weight: bold\">{</span>\n",
       "<span style=\"color: #7fbf7f; text-decoration-color: #7fbf7f\">│   │   │   │   │   </span><span style=\"color: #008000; text-decoration-color: #008000\">'text'</span>: <span style=\"color: #008000; text-decoration-color: #008000\">\"To find the sum of your lucky numbers 77 and 11, I'll add them together:\\n\\n77 + 11 = 88\\n\\nThe sum of your lucky numbers is 88.\"</span>\n",
       "<span style=\"color: #7fbf7f; text-decoration-color: #7fbf7f\">│   │   │   │   </span><span style=\"font-weight: bold\">}</span>\n",
       "<span style=\"color: #7fbf7f; text-decoration-color: #7fbf7f\">│   │   │   </span><span style=\"font-weight: bold\">]</span>\n",
       "<span style=\"color: #7fbf7f; text-decoration-color: #7fbf7f\">│   │   </span><span style=\"font-weight: bold\">}</span>\n",
       "<span style=\"color: #7fbf7f; text-decoration-color: #7fbf7f\">│   </span><span style=\"font-weight: bold\">}</span>,\n",
       "<span style=\"color: #7fbf7f; text-decoration-color: #7fbf7f\">│   </span><span style=\"color: #008000; text-decoration-color: #008000\">'stopReason'</span>: <span style=\"color: #008000; text-decoration-color: #008000\">'end_turn'</span>,\n",
       "<span style=\"color: #7fbf7f; text-decoration-color: #7fbf7f\">│   </span><span style=\"color: #008000; text-decoration-color: #008000\">'usage'</span>: <span style=\"font-weight: bold\">{</span>\n",
       "<span style=\"color: #7fbf7f; text-decoration-color: #7fbf7f\">│   │   </span><span style=\"color: #008000; text-decoration-color: #008000\">'inputTokens'</span>: <span style=\"color: #008080; text-decoration-color: #008080; font-weight: bold\">30</span>,\n",
       "<span style=\"color: #7fbf7f; text-decoration-color: #7fbf7f\">│   │   </span><span style=\"color: #008000; text-decoration-color: #008000\">'outputTokens'</span>: <span style=\"color: #008080; text-decoration-color: #008080; font-weight: bold\">45</span>,\n",
       "<span style=\"color: #7fbf7f; text-decoration-color: #7fbf7f\">│   │   </span><span style=\"color: #008000; text-decoration-color: #008000\">'totalTokens'</span>: <span style=\"color: #008080; text-decoration-color: #008080; font-weight: bold\">75</span>,\n",
       "<span style=\"color: #7fbf7f; text-decoration-color: #7fbf7f\">│   │   </span><span style=\"color: #008000; text-decoration-color: #008000\">'cacheReadInputTokens'</span>: <span style=\"color: #008080; text-decoration-color: #008080; font-weight: bold\">0</span>,\n",
       "<span style=\"color: #7fbf7f; text-decoration-color: #7fbf7f\">│   │   </span><span style=\"color: #008000; text-decoration-color: #008000\">'cacheWriteInputTokens'</span>: <span style=\"color: #008080; text-decoration-color: #008080; font-weight: bold\">0</span>\n",
       "<span style=\"color: #7fbf7f; text-decoration-color: #7fbf7f\">│   </span><span style=\"font-weight: bold\">}</span>,\n",
       "<span style=\"color: #7fbf7f; text-decoration-color: #7fbf7f\">│   </span><span style=\"color: #008000; text-decoration-color: #008000\">'metrics'</span>: <span style=\"font-weight: bold\">{</span><span style=\"color: #008000; text-decoration-color: #008000\">'latencyMs'</span>: <span style=\"color: #008080; text-decoration-color: #008080; font-weight: bold\">1435</span><span style=\"font-weight: bold\">}</span>\n",
       "<span style=\"font-weight: bold\">}</span>\n",
       "</pre>\n"
      ],
      "text/plain": [
       "\u001b[1m{\u001b[0m\n",
       "\u001b[2;32m│   \u001b[0m\u001b[32m'ResponseMetadata'\u001b[0m: \u001b[1m{\u001b[0m\n",
       "\u001b[2;32m│   │   \u001b[0m\u001b[32m'RequestId'\u001b[0m: \u001b[32m'd1c6c497-e005-4701-b60f-abce4b70615d'\u001b[0m,\n",
       "\u001b[2;32m│   │   \u001b[0m\u001b[32m'HTTPStatusCode'\u001b[0m: \u001b[1;36m200\u001b[0m,\n",
       "\u001b[2;32m│   │   \u001b[0m\u001b[32m'HTTPHeaders'\u001b[0m: \u001b[1m{\u001b[0m\n",
       "\u001b[2;32m│   │   │   \u001b[0m\u001b[32m'date'\u001b[0m: \u001b[32m'Thu, 26 Jun 2025 10:34:52 GMT'\u001b[0m,\n",
       "\u001b[2;32m│   │   │   \u001b[0m\u001b[32m'content-type'\u001b[0m: \u001b[32m'application/json'\u001b[0m,\n",
       "\u001b[2;32m│   │   │   \u001b[0m\u001b[32m'content-length'\u001b[0m: \u001b[32m'420'\u001b[0m,\n",
       "\u001b[2;32m│   │   │   \u001b[0m\u001b[32m'connection'\u001b[0m: \u001b[32m'keep-alive'\u001b[0m,\n",
       "\u001b[2;32m│   │   │   \u001b[0m\u001b[32m'x-amzn-requestid'\u001b[0m: \u001b[32m'd1c6c497-e005-4701-b60f-abce4b70615d'\u001b[0m\n",
       "\u001b[2;32m│   │   \u001b[0m\u001b[1m}\u001b[0m,\n",
       "\u001b[2;32m│   │   \u001b[0m\u001b[32m'RetryAttempts'\u001b[0m: \u001b[1;36m0\u001b[0m\n",
       "\u001b[2;32m│   \u001b[0m\u001b[1m}\u001b[0m,\n",
       "\u001b[2;32m│   \u001b[0m\u001b[32m'output'\u001b[0m: \u001b[1m{\u001b[0m\n",
       "\u001b[2;32m│   │   \u001b[0m\u001b[32m'message'\u001b[0m: \u001b[1m{\u001b[0m\n",
       "\u001b[2;32m│   │   │   \u001b[0m\u001b[32m'role'\u001b[0m: \u001b[32m'assistant'\u001b[0m,\n",
       "\u001b[2;32m│   │   │   \u001b[0m\u001b[32m'content'\u001b[0m: \u001b[1m[\u001b[0m\n",
       "\u001b[2;32m│   │   │   │   \u001b[0m\u001b[1m{\u001b[0m\n",
       "\u001b[2;32m│   │   │   │   │   \u001b[0m\u001b[32m'text'\u001b[0m: \u001b[32m\"To find the sum of your lucky numbers 77 and 11, I'll add them together:\\n\\n77 + 11 = 88\\n\\nThe sum of your lucky numbers is 88.\"\u001b[0m\n",
       "\u001b[2;32m│   │   │   │   \u001b[0m\u001b[1m}\u001b[0m\n",
       "\u001b[2;32m│   │   │   \u001b[0m\u001b[1m]\u001b[0m\n",
       "\u001b[2;32m│   │   \u001b[0m\u001b[1m}\u001b[0m\n",
       "\u001b[2;32m│   \u001b[0m\u001b[1m}\u001b[0m,\n",
       "\u001b[2;32m│   \u001b[0m\u001b[32m'stopReason'\u001b[0m: \u001b[32m'end_turn'\u001b[0m,\n",
       "\u001b[2;32m│   \u001b[0m\u001b[32m'usage'\u001b[0m: \u001b[1m{\u001b[0m\n",
       "\u001b[2;32m│   │   \u001b[0m\u001b[32m'inputTokens'\u001b[0m: \u001b[1;36m30\u001b[0m,\n",
       "\u001b[2;32m│   │   \u001b[0m\u001b[32m'outputTokens'\u001b[0m: \u001b[1;36m45\u001b[0m,\n",
       "\u001b[2;32m│   │   \u001b[0m\u001b[32m'totalTokens'\u001b[0m: \u001b[1;36m75\u001b[0m,\n",
       "\u001b[2;32m│   │   \u001b[0m\u001b[32m'cacheReadInputTokens'\u001b[0m: \u001b[1;36m0\u001b[0m,\n",
       "\u001b[2;32m│   │   \u001b[0m\u001b[32m'cacheWriteInputTokens'\u001b[0m: \u001b[1;36m0\u001b[0m\n",
       "\u001b[2;32m│   \u001b[0m\u001b[1m}\u001b[0m,\n",
       "\u001b[2;32m│   \u001b[0m\u001b[32m'metrics'\u001b[0m: \u001b[1m{\u001b[0m\u001b[32m'latencyMs'\u001b[0m: \u001b[1;36m1435\u001b[0m\u001b[1m}\u001b[0m\n",
       "\u001b[1m}\u001b[0m\n"
      ]
     },
     "metadata": {},
     "output_type": "display_data"
    }
   ],
   "source": [
    "# most of the time you would want to define your own operations to trace, for instance to call the model.\n",
    "# You just need to add the @weave.op decorator to the function and it will be traced.\n",
    "\n",
    "@weave.op\n",
    "def call_model(model_name: str, messages: List[Dict[str, Any]], system: List[Dict[str, Any]]=[{\"text\": \"You are a helpful AI assistant.\"}], **kwargs) -> str:\n",
    "    \"Call a model with the given messages and kwargs.\"\n",
    "\n",
    "    # call the model using the converse API\n",
    "    response = client.converse(\n",
    "        modelId=CLAUDE_MODEL,\n",
    "        system=system,\n",
    "        messages=messages,\n",
    "        inferenceConfig={\"maxTokens\": 400},\n",
    "        **kwargs\n",
    "    )\n",
    "    return response\n",
    "\n",
    "response = call_model(model_name=CLAUDE_MODEL, messages=messages)\n",
    "pprint(response)"
   ]
  },
  {
   "cell_type": "markdown",
   "id": "4e97c8b6",
   "metadata": {},
   "source": [
    "![](br_images/02_nested_tracing.png)"
   ]
  },
  {
   "cell_type": "markdown",
   "id": "75409570",
   "metadata": {},
   "source": [
    "\n",
    "## 2. Introducing Tool Calling\n",
    "\n",
    "Agents become much more powerful when they can use **tools** – external functions or APIs – to get information or perform actions beyond the LLM's internal knowledge. To allow an LLM to use a tool, we need to provide it with a description (schema) of the tool, including its name, purpose, and expected arguments.\n",
    "\n",
    "Check the Mistral docs for function calling: https://docs.mistral.ai/capabilities/function_calling/\n",
    "\n",
    "![](br_images/03_tools.png)\n",
    "\n",
    "First, let's define a simple Python function we want the LLM to be able to call. We add `@weave.op` to trace when this function actually gets executed.\n"
   ]
  },
  {
   "cell_type": "code",
   "execution_count": 12,
   "id": "2ede106b",
   "metadata": {},
   "outputs": [],
   "source": [
    "@weave.op \n",
    "def add_numbers(a: int, b: int) -> int:\n",
    "    \"\"\"Adds two numbers.\n",
    "    Args:\n",
    "        a: The first number.\n",
    "        b: The second number.\n",
    "    \"\"\"\n",
    "    return a + b"
   ]
  },
  {
   "cell_type": "code",
   "execution_count": 13,
   "id": "a691123a",
   "metadata": {},
   "outputs": [
    {
     "data": {
      "text/plain": [
       "3"
      ]
     },
     "execution_count": 13,
     "metadata": {},
     "output_type": "execute_result"
    }
   ],
   "source": [
    "add_numbers(1, 2)"
   ]
  },
  {
   "cell_type": "code",
   "execution_count": 14,
   "id": "ffcbfd9a",
   "metadata": {},
   "outputs": [
    {
     "name": "stdout",
     "output_type": "stream",
     "text": [
      "🍩 https://wandb.ai/capecape/reliable-agents/r/call/0197abce-143c-7ee0-8886-2eac373a69f3\n",
      "🍩 https://wandb.ai/capecape/reliable-agents/r/call/0197abd4-8ab7-7c41-8b10-27fd7c6d782d\n",
      "🍩 https://wandb.ai/capecape/reliable-agents/r/call/0197abda-1845-7080-b146-2541558972fb\n",
      "🍩 https://wandb.ai/capecape/reliable-agents/r/call/0197abe0-be87-7c93-bb70-f4589be54a12\n",
      "🍩 https://wandb.ai/capecape/reliable-agents/r/call/0197abe2-fbda-7560-9da1-0324d7126a3d\n",
      "🍩 https://wandb.ai/capecape/reliable-agents/r/call/0197abe4-a847-7070-a22c-a2865c58dc8b\n",
      "🍩 https://wandb.ai/capecape/reliable-agents/r/call/0197abf0-a159-7e80-a7b6-f6428c342b34\n",
      "🍩 https://wandb.ai/capecape/reliable-agents/r/call/0197abf0-e460-7b03-af52-6d2930bdd9a6\n",
      "🍩 https://wandb.ai/capecape/reliable-agents/r/call/0197abf4-f417-79d1-a66b-9fdb254a26d3\n",
      "🍩 https://wandb.ai/capecape/reliable-agents/r/call/0197abf6-f198-7241-834c-7cbf968644c1\n",
      "🍩 https://wandb.ai/capecape/reliable-agents/r/call/0197abf7-f69a-72c2-b4b8-2e2da0241d19\n",
      "🍩 https://wandb.ai/capecape/reliable-agents/r/call/0197abf8-0ef7-7621-8483-8d436964efca\n",
      "🍩 https://wandb.ai/capecape/reliable-agents/r/call/0197abfb-f4f7-7a00-8f2d-d413334e7205\n",
      "🍩 https://wandb.ai/capecape/reliable-agents/r/call/0197ac00-0b9d-7663-b901-164b6d24d3ab\n",
      "🍩 https://wandb.ai/capecape/reliable-agents/r/call/0197ac00-af7e-7c20-b4ba-ef7b5c5cea1b\n",
      "🍩 https://wandb.ai/capecape/reliable-agents/r/call/0197ac00-ed65-7693-bbee-92b7db93cf50\n",
      "🍩 https://wandb.ai/capecape/reliable-agents/r/call/0197ac07-ab34-7623-8703-9f1eb15c0bee\n",
      "🍩 https://wandb.ai/capecape/reliable-agents/r/call/0197ac0c-4caa-7e60-8200-45c08cbd3c85\n"
     ]
    },
    {
     "ename": "ParamValidationError",
     "evalue": "Parameter validation failed:\nUnknown parameter in input: \"tools\", must be one of: modelId, messages, system, inferenceConfig, toolConfig, guardrailConfig, additionalModelRequestFields, promptVariables, additionalModelResponseFieldPaths, requestMetadata, performanceConfig",
     "output_type": "error",
     "traceback": [
      "\u001b[31m---------------------------------------------------------------------------\u001b[39m",
      "\u001b[31mParamValidationError\u001b[39m                      Traceback (most recent call last)",
      "\u001b[36mCell\u001b[39m\u001b[36m \u001b[39m\u001b[32mIn[14]\u001b[39m\u001b[32m, line 2\u001b[39m\n\u001b[32m      1\u001b[39m \u001b[38;5;66;03m# this doesn't work...\u001b[39;00m\n\u001b[32m----> \u001b[39m\u001b[32m2\u001b[39m \u001b[43mcall_model\u001b[49m\u001b[43m(\u001b[49m\u001b[43mmodel_name\u001b[49m\u001b[43m=\u001b[49m\u001b[43mCLAUDE_MODEL\u001b[49m\u001b[43m,\u001b[49m\u001b[43m \u001b[49m\u001b[43mmessages\u001b[49m\u001b[43m=\u001b[49m\u001b[43mmessages\u001b[49m\u001b[43m,\u001b[49m\u001b[43m \u001b[49m\u001b[43mtools\u001b[49m\u001b[43m=\u001b[49m\u001b[43m[\u001b[49m\u001b[43madd_numbers\u001b[49m\u001b[43m]\u001b[49m\u001b[43m)\u001b[49m\n",
      "\u001b[36mFile \u001b[39m\u001b[32m~/work/simple_agent/.venv/lib/python3.12/site-packages/weave/trace/op.py:680\u001b[39m, in \u001b[36mop.<locals>.op_deco.<locals>.create_wrapper.<locals>.wrapper\u001b[39m\u001b[34m(*args, **kwargs)\u001b[39m\n\u001b[32m    678\u001b[39m \u001b[38;5;129m@wraps\u001b[39m(func)\n\u001b[32m    679\u001b[39m \u001b[38;5;28;01mdef\u001b[39;00m\u001b[38;5;250m \u001b[39m\u001b[34mwrapper\u001b[39m(*args: P.args, **kwargs: P.kwargs) -> R:\n\u001b[32m--> \u001b[39m\u001b[32m680\u001b[39m     res, _ = \u001b[43m_call_sync_func\u001b[49m\u001b[43m(\u001b[49m\n\u001b[32m    681\u001b[39m \u001b[43m        \u001b[49m\u001b[43mcast\u001b[49m\u001b[43m(\u001b[49m\u001b[43mOp\u001b[49m\u001b[43m,\u001b[49m\u001b[43m \u001b[49m\u001b[43mwrapper\u001b[49m\u001b[43m)\u001b[49m\u001b[43m,\u001b[49m\u001b[43m \u001b[49m\u001b[43m*\u001b[49m\u001b[43margs\u001b[49m\u001b[43m,\u001b[49m\u001b[43m \u001b[49m\u001b[43m__should_raise\u001b[49m\u001b[43m=\u001b[49m\u001b[38;5;28;43;01mTrue\u001b[39;49;00m\u001b[43m,\u001b[49m\u001b[43m \u001b[49m\u001b[43m*\u001b[49m\u001b[43m*\u001b[49m\u001b[43mkwargs\u001b[49m\n\u001b[32m    682\u001b[39m \u001b[43m    \u001b[49m\u001b[43m)\u001b[49m\n\u001b[32m    683\u001b[39m     \u001b[38;5;28;01mreturn\u001b[39;00m cast(R, res)\n",
      "\u001b[36mFile \u001b[39m\u001b[32m~/work/simple_agent/.venv/lib/python3.12/site-packages/weave/trace/op.py:422\u001b[39m, in \u001b[36m_call_sync_func\u001b[39m\u001b[34m(op, __weave, __should_raise, __require_explicit_finish, *args, **kwargs)\u001b[39m\n\u001b[32m    419\u001b[39m     \u001b[38;5;28;01mreturn\u001b[39;00m output\n\u001b[32m    421\u001b[39m \u001b[38;5;28;01mtry\u001b[39;00m:\n\u001b[32m--> \u001b[39m\u001b[32m422\u001b[39m     res = \u001b[43mfunc\u001b[49m\u001b[43m(\u001b[49m\u001b[43m*\u001b[49m\u001b[43margs\u001b[49m\u001b[43m,\u001b[49m\u001b[43m \u001b[49m\u001b[43m*\u001b[49m\u001b[43m*\u001b[49m\u001b[43mkwargs\u001b[49m\u001b[43m)\u001b[49m\n\u001b[32m    423\u001b[39m \u001b[38;5;28;01mexcept\u001b[39;00m \u001b[38;5;167;01mException\u001b[39;00m \u001b[38;5;28;01mas\u001b[39;00m e:\n\u001b[32m    424\u001b[39m     finish(exception=e)\n",
      "\u001b[36mCell\u001b[39m\u001b[36m \u001b[39m\u001b[32mIn[11]\u001b[39m\u001b[32m, line 9\u001b[39m, in \u001b[36mcall_model\u001b[39m\u001b[34m(model_name, messages, system, **kwargs)\u001b[39m\n\u001b[32m      6\u001b[39m \u001b[33m\"\u001b[39m\u001b[33mCall a model with the given messages and kwargs.\u001b[39m\u001b[33m\"\u001b[39m\n\u001b[32m      8\u001b[39m \u001b[38;5;66;03m# call the model using the converse API\u001b[39;00m\n\u001b[32m----> \u001b[39m\u001b[32m9\u001b[39m response = \u001b[43mclient\u001b[49m\u001b[43m.\u001b[49m\u001b[43mconverse\u001b[49m\u001b[43m(\u001b[49m\n\u001b[32m     10\u001b[39m \u001b[43m    \u001b[49m\u001b[43mmodelId\u001b[49m\u001b[43m=\u001b[49m\u001b[43mCLAUDE_MODEL\u001b[49m\u001b[43m,\u001b[49m\n\u001b[32m     11\u001b[39m \u001b[43m    \u001b[49m\u001b[43msystem\u001b[49m\u001b[43m=\u001b[49m\u001b[43msystem\u001b[49m\u001b[43m,\u001b[49m\n\u001b[32m     12\u001b[39m \u001b[43m    \u001b[49m\u001b[43mmessages\u001b[49m\u001b[43m=\u001b[49m\u001b[43mmessages\u001b[49m\u001b[43m,\u001b[49m\n\u001b[32m     13\u001b[39m \u001b[43m    \u001b[49m\u001b[43minferenceConfig\u001b[49m\u001b[43m=\u001b[49m\u001b[43m{\u001b[49m\u001b[33;43m\"\u001b[39;49m\u001b[33;43mmaxTokens\u001b[39;49m\u001b[33;43m\"\u001b[39;49m\u001b[43m:\u001b[49m\u001b[43m \u001b[49m\u001b[32;43m400\u001b[39;49m\u001b[43m}\u001b[49m\u001b[43m,\u001b[49m\n\u001b[32m     14\u001b[39m \u001b[43m    \u001b[49m\u001b[43m*\u001b[49m\u001b[43m*\u001b[49m\u001b[43mkwargs\u001b[49m\n\u001b[32m     15\u001b[39m \u001b[43m\u001b[49m\u001b[43m)\u001b[49m\n\u001b[32m     16\u001b[39m \u001b[38;5;28;01mreturn\u001b[39;00m response\n",
      "\u001b[36mFile \u001b[39m\u001b[32m~/work/simple_agent/.venv/lib/python3.12/site-packages/weave/trace/op.py:680\u001b[39m, in \u001b[36mop.<locals>.op_deco.<locals>.create_wrapper.<locals>.wrapper\u001b[39m\u001b[34m(*args, **kwargs)\u001b[39m\n\u001b[32m    678\u001b[39m \u001b[38;5;129m@wraps\u001b[39m(func)\n\u001b[32m    679\u001b[39m \u001b[38;5;28;01mdef\u001b[39;00m\u001b[38;5;250m \u001b[39m\u001b[34mwrapper\u001b[39m(*args: P.args, **kwargs: P.kwargs) -> R:\n\u001b[32m--> \u001b[39m\u001b[32m680\u001b[39m     res, _ = \u001b[43m_call_sync_func\u001b[49m\u001b[43m(\u001b[49m\n\u001b[32m    681\u001b[39m \u001b[43m        \u001b[49m\u001b[43mcast\u001b[49m\u001b[43m(\u001b[49m\u001b[43mOp\u001b[49m\u001b[43m,\u001b[49m\u001b[43m \u001b[49m\u001b[43mwrapper\u001b[49m\u001b[43m)\u001b[49m\u001b[43m,\u001b[49m\u001b[43m \u001b[49m\u001b[43m*\u001b[49m\u001b[43margs\u001b[49m\u001b[43m,\u001b[49m\u001b[43m \u001b[49m\u001b[43m__should_raise\u001b[49m\u001b[43m=\u001b[49m\u001b[38;5;28;43;01mTrue\u001b[39;49;00m\u001b[43m,\u001b[49m\u001b[43m \u001b[49m\u001b[43m*\u001b[49m\u001b[43m*\u001b[49m\u001b[43mkwargs\u001b[49m\n\u001b[32m    682\u001b[39m \u001b[43m    \u001b[49m\u001b[43m)\u001b[49m\n\u001b[32m    683\u001b[39m     \u001b[38;5;28;01mreturn\u001b[39;00m cast(R, res)\n",
      "\u001b[36mFile \u001b[39m\u001b[32m~/work/simple_agent/.venv/lib/python3.12/site-packages/weave/trace/op.py:422\u001b[39m, in \u001b[36m_call_sync_func\u001b[39m\u001b[34m(op, __weave, __should_raise, __require_explicit_finish, *args, **kwargs)\u001b[39m\n\u001b[32m    419\u001b[39m     \u001b[38;5;28;01mreturn\u001b[39;00m output\n\u001b[32m    421\u001b[39m \u001b[38;5;28;01mtry\u001b[39;00m:\n\u001b[32m--> \u001b[39m\u001b[32m422\u001b[39m     res = \u001b[43mfunc\u001b[49m\u001b[43m(\u001b[49m\u001b[43m*\u001b[49m\u001b[43margs\u001b[49m\u001b[43m,\u001b[49m\u001b[43m \u001b[49m\u001b[43m*\u001b[49m\u001b[43m*\u001b[49m\u001b[43mkwargs\u001b[49m\u001b[43m)\u001b[49m\n\u001b[32m    423\u001b[39m \u001b[38;5;28;01mexcept\u001b[39;00m \u001b[38;5;167;01mException\u001b[39;00m \u001b[38;5;28;01mas\u001b[39;00m e:\n\u001b[32m    424\u001b[39m     finish(exception=e)\n",
      "\u001b[36mFile \u001b[39m\u001b[32m~/work/simple_agent/.venv/lib/python3.12/site-packages/botocore/client.py:595\u001b[39m, in \u001b[36mClientCreator._create_api_method.<locals>._api_call\u001b[39m\u001b[34m(self, *args, **kwargs)\u001b[39m\n\u001b[32m    591\u001b[39m     \u001b[38;5;28;01mraise\u001b[39;00m \u001b[38;5;167;01mTypeError\u001b[39;00m(\n\u001b[32m    592\u001b[39m         \u001b[33mf\u001b[39m\u001b[33m\"\u001b[39m\u001b[38;5;132;01m{\u001b[39;00mpy_operation_name\u001b[38;5;132;01m}\u001b[39;00m\u001b[33m() only accepts keyword arguments.\u001b[39m\u001b[33m\"\u001b[39m\n\u001b[32m    593\u001b[39m     )\n\u001b[32m    594\u001b[39m \u001b[38;5;66;03m# The \"self\" in this scope is referring to the BaseClient.\u001b[39;00m\n\u001b[32m--> \u001b[39m\u001b[32m595\u001b[39m \u001b[38;5;28;01mreturn\u001b[39;00m \u001b[38;5;28;43mself\u001b[39;49m\u001b[43m.\u001b[49m\u001b[43m_make_api_call\u001b[49m\u001b[43m(\u001b[49m\u001b[43moperation_name\u001b[49m\u001b[43m,\u001b[49m\u001b[43m \u001b[49m\u001b[43mkwargs\u001b[49m\u001b[43m)\u001b[49m\n",
      "\u001b[36mFile \u001b[39m\u001b[32m~/work/simple_agent/.venv/lib/python3.12/site-packages/botocore/context.py:123\u001b[39m, in \u001b[36mwith_current_context.<locals>.decorator.<locals>.wrapper\u001b[39m\u001b[34m(*args, **kwargs)\u001b[39m\n\u001b[32m    121\u001b[39m \u001b[38;5;28;01mif\u001b[39;00m hook:\n\u001b[32m    122\u001b[39m     hook()\n\u001b[32m--> \u001b[39m\u001b[32m123\u001b[39m \u001b[38;5;28;01mreturn\u001b[39;00m \u001b[43mfunc\u001b[49m\u001b[43m(\u001b[49m\u001b[43m*\u001b[49m\u001b[43margs\u001b[49m\u001b[43m,\u001b[49m\u001b[43m \u001b[49m\u001b[43m*\u001b[49m\u001b[43m*\u001b[49m\u001b[43mkwargs\u001b[49m\u001b[43m)\u001b[49m\n",
      "\u001b[36mFile \u001b[39m\u001b[32m~/work/simple_agent/.venv/lib/python3.12/site-packages/botocore/client.py:1015\u001b[39m, in \u001b[36mBaseClient._make_api_call\u001b[39m\u001b[34m(self, operation_name, api_params)\u001b[39m\n\u001b[32m   1011\u001b[39m \u001b[38;5;28;01mif\u001b[39;00m properties:\n\u001b[32m   1012\u001b[39m     \u001b[38;5;66;03m# Pass arbitrary endpoint info with the Request\u001b[39;00m\n\u001b[32m   1013\u001b[39m     \u001b[38;5;66;03m# for use during construction.\u001b[39;00m\n\u001b[32m   1014\u001b[39m     request_context[\u001b[33m'\u001b[39m\u001b[33mendpoint_properties\u001b[39m\u001b[33m'\u001b[39m] = properties\n\u001b[32m-> \u001b[39m\u001b[32m1015\u001b[39m request_dict = \u001b[38;5;28;43mself\u001b[39;49m\u001b[43m.\u001b[49m\u001b[43m_convert_to_request_dict\u001b[49m\u001b[43m(\u001b[49m\n\u001b[32m   1016\u001b[39m \u001b[43m    \u001b[49m\u001b[43mapi_params\u001b[49m\u001b[43m=\u001b[49m\u001b[43mapi_params\u001b[49m\u001b[43m,\u001b[49m\n\u001b[32m   1017\u001b[39m \u001b[43m    \u001b[49m\u001b[43moperation_model\u001b[49m\u001b[43m=\u001b[49m\u001b[43moperation_model\u001b[49m\u001b[43m,\u001b[49m\n\u001b[32m   1018\u001b[39m \u001b[43m    \u001b[49m\u001b[43mendpoint_url\u001b[49m\u001b[43m=\u001b[49m\u001b[43mendpoint_url\u001b[49m\u001b[43m,\u001b[49m\n\u001b[32m   1019\u001b[39m \u001b[43m    \u001b[49m\u001b[43mcontext\u001b[49m\u001b[43m=\u001b[49m\u001b[43mrequest_context\u001b[49m\u001b[43m,\u001b[49m\n\u001b[32m   1020\u001b[39m \u001b[43m    \u001b[49m\u001b[43mheaders\u001b[49m\u001b[43m=\u001b[49m\u001b[43madditional_headers\u001b[49m\u001b[43m,\u001b[49m\n\u001b[32m   1021\u001b[39m \u001b[43m\u001b[49m\u001b[43m)\u001b[49m\n\u001b[32m   1022\u001b[39m resolve_checksum_context(request_dict, operation_model, api_params)\n\u001b[32m   1024\u001b[39m service_id = \u001b[38;5;28mself\u001b[39m._service_model.service_id.hyphenize()\n",
      "\u001b[36mFile \u001b[39m\u001b[32m~/work/simple_agent/.venv/lib/python3.12/site-packages/botocore/client.py:1082\u001b[39m, in \u001b[36mBaseClient._convert_to_request_dict\u001b[39m\u001b[34m(self, api_params, operation_model, endpoint_url, context, headers, set_user_agent_header)\u001b[39m\n\u001b[32m   1073\u001b[39m \u001b[38;5;28;01mdef\u001b[39;00m\u001b[38;5;250m \u001b[39m\u001b[34m_convert_to_request_dict\u001b[39m(\n\u001b[32m   1074\u001b[39m     \u001b[38;5;28mself\u001b[39m,\n\u001b[32m   1075\u001b[39m     api_params,\n\u001b[32m   (...)\u001b[39m\u001b[32m   1080\u001b[39m     set_user_agent_header=\u001b[38;5;28;01mTrue\u001b[39;00m,\n\u001b[32m   1081\u001b[39m ):\n\u001b[32m-> \u001b[39m\u001b[32m1082\u001b[39m     request_dict = \u001b[38;5;28;43mself\u001b[39;49m\u001b[43m.\u001b[49m\u001b[43m_serializer\u001b[49m\u001b[43m.\u001b[49m\u001b[43mserialize_to_request\u001b[49m\u001b[43m(\u001b[49m\n\u001b[32m   1083\u001b[39m \u001b[43m        \u001b[49m\u001b[43mapi_params\u001b[49m\u001b[43m,\u001b[49m\u001b[43m \u001b[49m\u001b[43moperation_model\u001b[49m\n\u001b[32m   1084\u001b[39m \u001b[43m    \u001b[49m\u001b[43m)\u001b[49m\n\u001b[32m   1085\u001b[39m     \u001b[38;5;28;01mif\u001b[39;00m \u001b[38;5;129;01mnot\u001b[39;00m \u001b[38;5;28mself\u001b[39m._client_config.inject_host_prefix:\n\u001b[32m   1086\u001b[39m         request_dict.pop(\u001b[33m'\u001b[39m\u001b[33mhost_prefix\u001b[39m\u001b[33m'\u001b[39m, \u001b[38;5;28;01mNone\u001b[39;00m)\n",
      "\u001b[36mFile \u001b[39m\u001b[32m~/work/simple_agent/.venv/lib/python3.12/site-packages/botocore/validate.py:381\u001b[39m, in \u001b[36mParamValidationDecorator.serialize_to_request\u001b[39m\u001b[34m(self, parameters, operation_model)\u001b[39m\n\u001b[32m    377\u001b[39m     report = \u001b[38;5;28mself\u001b[39m._param_validator.validate(\n\u001b[32m    378\u001b[39m         parameters, operation_model.input_shape\n\u001b[32m    379\u001b[39m     )\n\u001b[32m    380\u001b[39m     \u001b[38;5;28;01mif\u001b[39;00m report.has_errors():\n\u001b[32m--> \u001b[39m\u001b[32m381\u001b[39m         \u001b[38;5;28;01mraise\u001b[39;00m ParamValidationError(report=report.generate_report())\n\u001b[32m    382\u001b[39m \u001b[38;5;28;01mreturn\u001b[39;00m \u001b[38;5;28mself\u001b[39m._serializer.serialize_to_request(\n\u001b[32m    383\u001b[39m     parameters, operation_model\n\u001b[32m    384\u001b[39m )\n",
      "\u001b[31mParamValidationError\u001b[39m: Parameter validation failed:\nUnknown parameter in input: \"tools\", must be one of: modelId, messages, system, inferenceConfig, toolConfig, guardrailConfig, additionalModelRequestFields, promptVariables, additionalModelResponseFieldPaths, requestMetadata, performanceConfig"
     ]
    }
   ],
   "source": [
    "# this doesn't work...\n",
    "call_model(model_name=CLAUDE_MODEL, messages=messages, tools=[add_numbers])"
   ]
  },
  {
   "cell_type": "markdown",
   "id": "b082a58a",
   "metadata": {},
   "source": [
    "> We need to manually create the JSON schema describing this tool in a format that models *Mistral* understand."
   ]
  },
  {
   "cell_type": "code",
   "execution_count": 15,
   "id": "190a9063",
   "metadata": {},
   "outputs": [],
   "source": [
    "# Manually define the tool schema\n",
    "tool_add_numbers_schema = {\n",
    "  \"toolSpec\": {\n",
    "    \"name\": \"add_numbers\",\n",
    "    \"description\": \"Adds two numbers.\",\n",
    "    \"inputSchema\": {\n",
    "      \"json\": {\n",
    "        \"type\": \"object\",\n",
    "        \"properties\": {\n",
    "          \"a\": {\n",
    "            \"type\": \"integer\",\n",
    "            \"description\": \"The first number.\"\n",
    "          },\n",
    "          \"b\": {\n",
    "            \"type\": \"integer\",\n",
    "            \"description\": \"The second number.\"\n",
    "          }\n",
    "        },\n",
    "        \"required\": [\"a\", \"b\"]\n",
    "      }\n",
    "    }\n",
    "  }\n",
    "}\n",
    "\n",
    "\n",
    "tool_config = { \"tools\": [tool_add_numbers_schema] }"
   ]
  },
  {
   "cell_type": "markdown",
   "id": "f8b6dfd4",
   "metadata": {},
   "source": [
    "Now, we make an LLM call, passing the `tools` parameter with our schema. We ask a question that should trigger the tool."
   ]
  },
  {
   "cell_type": "code",
   "execution_count": 65,
   "id": "0e7d2900",
   "metadata": {},
   "outputs": [
    {
     "data": {
      "text/html": [
       "<pre style=\"white-space:pre;overflow-x:auto;line-height:normal;font-family:Menlo,'DejaVu Sans Mono',consolas,'Courier New',monospace\"><span style=\"font-weight: bold\">{</span>\n",
       "<span style=\"color: #7fbf7f; text-decoration-color: #7fbf7f\">│   </span><span style=\"color: #008000; text-decoration-color: #008000\">'ResponseMetadata'</span>: <span style=\"font-weight: bold\">{</span>\n",
       "<span style=\"color: #7fbf7f; text-decoration-color: #7fbf7f\">│   │   </span><span style=\"color: #008000; text-decoration-color: #008000\">'RequestId'</span>: <span style=\"color: #008000; text-decoration-color: #008000\">'cbd7cc0f-63de-45bf-ac98-f34e9fc4f13e'</span>,\n",
       "<span style=\"color: #7fbf7f; text-decoration-color: #7fbf7f\">│   │   </span><span style=\"color: #008000; text-decoration-color: #008000\">'HTTPStatusCode'</span>: <span style=\"color: #008080; text-decoration-color: #008080; font-weight: bold\">200</span>,\n",
       "<span style=\"color: #7fbf7f; text-decoration-color: #7fbf7f\">│   │   </span><span style=\"color: #008000; text-decoration-color: #008000\">'HTTPHeaders'</span>: <span style=\"font-weight: bold\">{</span>\n",
       "<span style=\"color: #7fbf7f; text-decoration-color: #7fbf7f\">│   │   │   </span><span style=\"color: #008000; text-decoration-color: #008000\">'date'</span>: <span style=\"color: #008000; text-decoration-color: #008000\">'Thu, 26 Jun 2025 10:59:34 GMT'</span>,\n",
       "<span style=\"color: #7fbf7f; text-decoration-color: #7fbf7f\">│   │   │   </span><span style=\"color: #008000; text-decoration-color: #008000\">'content-type'</span>: <span style=\"color: #008000; text-decoration-color: #008000\">'application/json'</span>,\n",
       "<span style=\"color: #7fbf7f; text-decoration-color: #7fbf7f\">│   │   │   </span><span style=\"color: #008000; text-decoration-color: #008000\">'content-length'</span>: <span style=\"color: #008000; text-decoration-color: #008000\">'457'</span>,\n",
       "<span style=\"color: #7fbf7f; text-decoration-color: #7fbf7f\">│   │   │   </span><span style=\"color: #008000; text-decoration-color: #008000\">'connection'</span>: <span style=\"color: #008000; text-decoration-color: #008000\">'keep-alive'</span>,\n",
       "<span style=\"color: #7fbf7f; text-decoration-color: #7fbf7f\">│   │   │   </span><span style=\"color: #008000; text-decoration-color: #008000\">'x-amzn-requestid'</span>: <span style=\"color: #008000; text-decoration-color: #008000\">'cbd7cc0f-63de-45bf-ac98-f34e9fc4f13e'</span>\n",
       "<span style=\"color: #7fbf7f; text-decoration-color: #7fbf7f\">│   │   </span><span style=\"font-weight: bold\">}</span>,\n",
       "<span style=\"color: #7fbf7f; text-decoration-color: #7fbf7f\">│   │   </span><span style=\"color: #008000; text-decoration-color: #008000\">'RetryAttempts'</span>: <span style=\"color: #008080; text-decoration-color: #008080; font-weight: bold\">0</span>\n",
       "<span style=\"color: #7fbf7f; text-decoration-color: #7fbf7f\">│   </span><span style=\"font-weight: bold\">}</span>,\n",
       "<span style=\"color: #7fbf7f; text-decoration-color: #7fbf7f\">│   </span><span style=\"color: #008000; text-decoration-color: #008000\">'output'</span>: <span style=\"font-weight: bold\">{</span>\n",
       "<span style=\"color: #7fbf7f; text-decoration-color: #7fbf7f\">│   │   </span><span style=\"color: #008000; text-decoration-color: #008000\">'message'</span>: <span style=\"font-weight: bold\">{</span>\n",
       "<span style=\"color: #7fbf7f; text-decoration-color: #7fbf7f\">│   │   │   </span><span style=\"color: #008000; text-decoration-color: #008000\">'role'</span>: <span style=\"color: #008000; text-decoration-color: #008000\">'assistant'</span>,\n",
       "<span style=\"color: #7fbf7f; text-decoration-color: #7fbf7f\">│   │   │   </span><span style=\"color: #008000; text-decoration-color: #008000\">'content'</span>: <span style=\"font-weight: bold\">[</span>\n",
       "<span style=\"color: #7fbf7f; text-decoration-color: #7fbf7f\">│   │   │   │   </span><span style=\"font-weight: bold\">{</span><span style=\"color: #008000; text-decoration-color: #008000\">'text'</span>: <span style=\"color: #008000; text-decoration-color: #008000\">\"I'll help you find the sum of your lucky numbers 77 and 11.\"</span><span style=\"font-weight: bold\">}</span>,\n",
       "<span style=\"color: #7fbf7f; text-decoration-color: #7fbf7f\">│   │   │   │   </span><span style=\"font-weight: bold\">{</span>\n",
       "<span style=\"color: #7fbf7f; text-decoration-color: #7fbf7f\">│   │   │   │   │   </span><span style=\"color: #008000; text-decoration-color: #008000\">'toolUse'</span>: <span style=\"font-weight: bold\">{</span>\n",
       "<span style=\"color: #7fbf7f; text-decoration-color: #7fbf7f\">│   │   │   │   │   │   </span><span style=\"color: #008000; text-decoration-color: #008000\">'toolUseId'</span>: <span style=\"color: #008000; text-decoration-color: #008000\">'tooluse_7JFqX4scTWuIXPtc3EmoNQ'</span>,\n",
       "<span style=\"color: #7fbf7f; text-decoration-color: #7fbf7f\">│   │   │   │   │   │   </span><span style=\"color: #008000; text-decoration-color: #008000\">'name'</span>: <span style=\"color: #008000; text-decoration-color: #008000\">'add_numbers'</span>,\n",
       "<span style=\"color: #7fbf7f; text-decoration-color: #7fbf7f\">│   │   │   │   │   │   </span><span style=\"color: #008000; text-decoration-color: #008000\">'input'</span>: <span style=\"font-weight: bold\">{</span><span style=\"color: #008000; text-decoration-color: #008000\">'a'</span>: <span style=\"color: #008080; text-decoration-color: #008080; font-weight: bold\">77</span>, <span style=\"color: #008000; text-decoration-color: #008000\">'b'</span>: <span style=\"color: #008080; text-decoration-color: #008080; font-weight: bold\">11</span><span style=\"font-weight: bold\">}</span>\n",
       "<span style=\"color: #7fbf7f; text-decoration-color: #7fbf7f\">│   │   │   │   │   </span><span style=\"font-weight: bold\">}</span>\n",
       "<span style=\"color: #7fbf7f; text-decoration-color: #7fbf7f\">│   │   │   │   </span><span style=\"font-weight: bold\">}</span>\n",
       "<span style=\"color: #7fbf7f; text-decoration-color: #7fbf7f\">│   │   │   </span><span style=\"font-weight: bold\">]</span>\n",
       "<span style=\"color: #7fbf7f; text-decoration-color: #7fbf7f\">│   │   </span><span style=\"font-weight: bold\">}</span>\n",
       "<span style=\"color: #7fbf7f; text-decoration-color: #7fbf7f\">│   </span><span style=\"font-weight: bold\">}</span>,\n",
       "<span style=\"color: #7fbf7f; text-decoration-color: #7fbf7f\">│   </span><span style=\"color: #008000; text-decoration-color: #008000\">'stopReason'</span>: <span style=\"color: #008000; text-decoration-color: #008000\">'tool_use'</span>,\n",
       "<span style=\"color: #7fbf7f; text-decoration-color: #7fbf7f\">│   </span><span style=\"color: #008000; text-decoration-color: #008000\">'usage'</span>: <span style=\"font-weight: bold\">{</span>\n",
       "<span style=\"color: #7fbf7f; text-decoration-color: #7fbf7f\">│   │   </span><span style=\"color: #008000; text-decoration-color: #008000\">'inputTokens'</span>: <span style=\"color: #008080; text-decoration-color: #008080; font-weight: bold\">431</span>,\n",
       "<span style=\"color: #7fbf7f; text-decoration-color: #7fbf7f\">│   │   </span><span style=\"color: #008000; text-decoration-color: #008000\">'outputTokens'</span>: <span style=\"color: #008080; text-decoration-color: #008080; font-weight: bold\">89</span>,\n",
       "<span style=\"color: #7fbf7f; text-decoration-color: #7fbf7f\">│   │   </span><span style=\"color: #008000; text-decoration-color: #008000\">'totalTokens'</span>: <span style=\"color: #008080; text-decoration-color: #008080; font-weight: bold\">520</span>,\n",
       "<span style=\"color: #7fbf7f; text-decoration-color: #7fbf7f\">│   │   </span><span style=\"color: #008000; text-decoration-color: #008000\">'cacheReadInputTokens'</span>: <span style=\"color: #008080; text-decoration-color: #008080; font-weight: bold\">0</span>,\n",
       "<span style=\"color: #7fbf7f; text-decoration-color: #7fbf7f\">│   │   </span><span style=\"color: #008000; text-decoration-color: #008000\">'cacheWriteInputTokens'</span>: <span style=\"color: #008080; text-decoration-color: #008080; font-weight: bold\">0</span>\n",
       "<span style=\"color: #7fbf7f; text-decoration-color: #7fbf7f\">│   </span><span style=\"font-weight: bold\">}</span>,\n",
       "<span style=\"color: #7fbf7f; text-decoration-color: #7fbf7f\">│   </span><span style=\"color: #008000; text-decoration-color: #008000\">'metrics'</span>: <span style=\"font-weight: bold\">{</span><span style=\"color: #008000; text-decoration-color: #008000\">'latencyMs'</span>: <span style=\"color: #008080; text-decoration-color: #008080; font-weight: bold\">2003</span><span style=\"font-weight: bold\">}</span>\n",
       "<span style=\"font-weight: bold\">}</span>\n",
       "</pre>\n"
      ],
      "text/plain": [
       "\u001b[1m{\u001b[0m\n",
       "\u001b[2;32m│   \u001b[0m\u001b[32m'ResponseMetadata'\u001b[0m: \u001b[1m{\u001b[0m\n",
       "\u001b[2;32m│   │   \u001b[0m\u001b[32m'RequestId'\u001b[0m: \u001b[32m'cbd7cc0f-63de-45bf-ac98-f34e9fc4f13e'\u001b[0m,\n",
       "\u001b[2;32m│   │   \u001b[0m\u001b[32m'HTTPStatusCode'\u001b[0m: \u001b[1;36m200\u001b[0m,\n",
       "\u001b[2;32m│   │   \u001b[0m\u001b[32m'HTTPHeaders'\u001b[0m: \u001b[1m{\u001b[0m\n",
       "\u001b[2;32m│   │   │   \u001b[0m\u001b[32m'date'\u001b[0m: \u001b[32m'Thu, 26 Jun 2025 10:59:34 GMT'\u001b[0m,\n",
       "\u001b[2;32m│   │   │   \u001b[0m\u001b[32m'content-type'\u001b[0m: \u001b[32m'application/json'\u001b[0m,\n",
       "\u001b[2;32m│   │   │   \u001b[0m\u001b[32m'content-length'\u001b[0m: \u001b[32m'457'\u001b[0m,\n",
       "\u001b[2;32m│   │   │   \u001b[0m\u001b[32m'connection'\u001b[0m: \u001b[32m'keep-alive'\u001b[0m,\n",
       "\u001b[2;32m│   │   │   \u001b[0m\u001b[32m'x-amzn-requestid'\u001b[0m: \u001b[32m'cbd7cc0f-63de-45bf-ac98-f34e9fc4f13e'\u001b[0m\n",
       "\u001b[2;32m│   │   \u001b[0m\u001b[1m}\u001b[0m,\n",
       "\u001b[2;32m│   │   \u001b[0m\u001b[32m'RetryAttempts'\u001b[0m: \u001b[1;36m0\u001b[0m\n",
       "\u001b[2;32m│   \u001b[0m\u001b[1m}\u001b[0m,\n",
       "\u001b[2;32m│   \u001b[0m\u001b[32m'output'\u001b[0m: \u001b[1m{\u001b[0m\n",
       "\u001b[2;32m│   │   \u001b[0m\u001b[32m'message'\u001b[0m: \u001b[1m{\u001b[0m\n",
       "\u001b[2;32m│   │   │   \u001b[0m\u001b[32m'role'\u001b[0m: \u001b[32m'assistant'\u001b[0m,\n",
       "\u001b[2;32m│   │   │   \u001b[0m\u001b[32m'content'\u001b[0m: \u001b[1m[\u001b[0m\n",
       "\u001b[2;32m│   │   │   │   \u001b[0m\u001b[1m{\u001b[0m\u001b[32m'text'\u001b[0m: \u001b[32m\"I'll help you find the sum of your lucky numbers 77 and 11.\"\u001b[0m\u001b[1m}\u001b[0m,\n",
       "\u001b[2;32m│   │   │   │   \u001b[0m\u001b[1m{\u001b[0m\n",
       "\u001b[2;32m│   │   │   │   │   \u001b[0m\u001b[32m'toolUse'\u001b[0m: \u001b[1m{\u001b[0m\n",
       "\u001b[2;32m│   │   │   │   │   │   \u001b[0m\u001b[32m'toolUseId'\u001b[0m: \u001b[32m'tooluse_7JFqX4scTWuIXPtc3EmoNQ'\u001b[0m,\n",
       "\u001b[2;32m│   │   │   │   │   │   \u001b[0m\u001b[32m'name'\u001b[0m: \u001b[32m'add_numbers'\u001b[0m,\n",
       "\u001b[2;32m│   │   │   │   │   │   \u001b[0m\u001b[32m'input'\u001b[0m: \u001b[1m{\u001b[0m\u001b[32m'a'\u001b[0m: \u001b[1;36m77\u001b[0m, \u001b[32m'b'\u001b[0m: \u001b[1;36m11\u001b[0m\u001b[1m}\u001b[0m\n",
       "\u001b[2;32m│   │   │   │   │   \u001b[0m\u001b[1m}\u001b[0m\n",
       "\u001b[2;32m│   │   │   │   \u001b[0m\u001b[1m}\u001b[0m\n",
       "\u001b[2;32m│   │   │   \u001b[0m\u001b[1m]\u001b[0m\n",
       "\u001b[2;32m│   │   \u001b[0m\u001b[1m}\u001b[0m\n",
       "\u001b[2;32m│   \u001b[0m\u001b[1m}\u001b[0m,\n",
       "\u001b[2;32m│   \u001b[0m\u001b[32m'stopReason'\u001b[0m: \u001b[32m'tool_use'\u001b[0m,\n",
       "\u001b[2;32m│   \u001b[0m\u001b[32m'usage'\u001b[0m: \u001b[1m{\u001b[0m\n",
       "\u001b[2;32m│   │   \u001b[0m\u001b[32m'inputTokens'\u001b[0m: \u001b[1;36m431\u001b[0m,\n",
       "\u001b[2;32m│   │   \u001b[0m\u001b[32m'outputTokens'\u001b[0m: \u001b[1;36m89\u001b[0m,\n",
       "\u001b[2;32m│   │   \u001b[0m\u001b[32m'totalTokens'\u001b[0m: \u001b[1;36m520\u001b[0m,\n",
       "\u001b[2;32m│   │   \u001b[0m\u001b[32m'cacheReadInputTokens'\u001b[0m: \u001b[1;36m0\u001b[0m,\n",
       "\u001b[2;32m│   │   \u001b[0m\u001b[32m'cacheWriteInputTokens'\u001b[0m: \u001b[1;36m0\u001b[0m\n",
       "\u001b[2;32m│   \u001b[0m\u001b[1m}\u001b[0m,\n",
       "\u001b[2;32m│   \u001b[0m\u001b[32m'metrics'\u001b[0m: \u001b[1m{\u001b[0m\u001b[32m'latencyMs'\u001b[0m: \u001b[1;36m2003\u001b[0m\u001b[1m}\u001b[0m\n",
       "\u001b[1m}\u001b[0m\n"
      ]
     },
     "metadata": {},
     "output_type": "display_data"
    }
   ],
   "source": [
    "system = [{\"text\": \"You are a helpful assistant that can use tools to answer questions.\"}]\n",
    "messages = [{\"role\": \"user\", \"content\": [{\"text\": \"My lucky numbers are 77 and 11. What is their sum?\"}]}]\n",
    "response = call_model(model_name=CLAUDE_MODEL, messages=messages, system=system, toolConfig=tool_config)\n",
    "pprint(response)"
   ]
  },
  {
   "cell_type": "markdown",
   "id": "092fdded",
   "metadata": {},
   "source": [
    "## Manual Tool Call\n",
    "The LLM's response might contain a request to call our tool. If it requests a tool call, we need to:\n",
    "\n",
    "1. Parse the arguments it provides.\n",
    "2. Execute our actual Python function (`add_numbers`) with those arguments.\n",
    "3. (In a real agent loop) Send the result back to the LLM in a new message with `role=\"tool\"`."
   ]
  },
  {
   "cell_type": "markdown",
   "id": "10f1ea6c",
   "metadata": {},
   "source": [
    "Let's manually call the tools in the response."
   ]
  },
  {
   "cell_type": "code",
   "execution_count": 66,
   "id": "b8e64e83",
   "metadata": {},
   "outputs": [
    {
     "name": "stdout",
     "output_type": "stream",
     "text": [
      "LLM requested a tool call:\n",
      "I'll help you find the sum of your lucky numbers 77 and 11.\n",
      "  - Tool: add_numbers, Args: {'a': 77, 'b': 11}\n",
      "88\n"
     ]
    }
   ],
   "source": [
    "if response[\"stopReason\"] == \"tool_use\":\n",
    "    print(\"LLM requested a tool call:\")\n",
    "    for message in response[\"output\"][\"message\"][\"content\"]:\n",
    "        if message.get(\"text\"):\n",
    "            print(message[\"text\"])\n",
    "        if message.get(\"toolUse\", False):\n",
    "            tool_name = message[\"toolUse\"][\"name\"]\n",
    "            tool_args = message[\"toolUse\"][\"input\"]\n",
    "            tool_use_id = message[\"toolUse\"][\"toolUseId\"]\n",
    "            print(f\"  - Tool: {tool_name}, Args: {tool_args}\")\n",
    "            if tool_name == \"add_numbers\":\n",
    "                tool_result_content = add_numbers(**tool_args)\n",
    "\n",
    "print(tool_result_content)"
   ]
  },
  {
   "cell_type": "markdown",
   "id": "e8f38a9f",
   "metadata": {},
   "source": [
    "We need to add the tool call result to the messages (there is actually 2 messages to add)\n",
    "- the response from the assistant that decided to call the tool\n",
    "- the tool output"
   ]
  },
  {
   "cell_type": "code",
   "execution_count": 67,
   "id": "5c1ccc7a",
   "metadata": {},
   "outputs": [],
   "source": [
    "messages.append(response[\"output\"][\"message\"])"
   ]
  },
  {
   "cell_type": "code",
   "execution_count": 68,
   "id": "2fbcd660",
   "metadata": {},
   "outputs": [
    {
     "data": {
      "text/plain": [
       "[{'role': 'user',\n",
       "  'content': [{'text': 'My lucky numbers are 77 and 11. What is their sum?'}]},\n",
       " {'role': 'assistant',\n",
       "  'content': [{'text': \"I'll help you find the sum of your lucky numbers 77 and 11.\"},\n",
       "   {'toolUse': {'toolUseId': 'tooluse_7JFqX4scTWuIXPtc3EmoNQ',\n",
       "     'name': 'add_numbers',\n",
       "     'input': {'a': 77, 'b': 11}}}]}]"
      ]
     },
     "execution_count": 68,
     "metadata": {},
     "output_type": "execute_result"
    }
   ],
   "source": [
    "messages"
   ]
  },
  {
   "cell_type": "code",
   "execution_count": 69,
   "id": "44b71f29",
   "metadata": {},
   "outputs": [],
   "source": [
    "tool_result = {\n",
    "        \"toolUseId\": tool_use_id,\n",
    "        \"status\": \"success\",\n",
    "        \"content\": [{\"json\": {\"sum\": tool_result_content}}]\n",
    "}"
   ]
  },
  {
   "cell_type": "code",
   "execution_count": 70,
   "id": "dd2ca3b8",
   "metadata": {},
   "outputs": [],
   "source": [
    "messages.append({\"role\": \"user\", \"content\": [{\"toolResult\": tool_result}]})"
   ]
  },
  {
   "cell_type": "code",
   "execution_count": 71,
   "id": "e8ec74bf",
   "metadata": {},
   "outputs": [
    {
     "data": {
      "text/plain": [
       "[{'role': 'user',\n",
       "  'content': [{'text': 'My lucky numbers are 77 and 11. What is their sum?'}]},\n",
       " {'role': 'assistant',\n",
       "  'content': [{'text': \"I'll help you find the sum of your lucky numbers 77 and 11.\"},\n",
       "   {'toolUse': {'toolUseId': 'tooluse_7JFqX4scTWuIXPtc3EmoNQ',\n",
       "     'name': 'add_numbers',\n",
       "     'input': {'a': 77, 'b': 11}}}]},\n",
       " {'role': 'user',\n",
       "  'content': [{'toolResult': {'toolUseId': 'tooluse_7JFqX4scTWuIXPtc3EmoNQ',\n",
       "     'status': 'success',\n",
       "     'content': [{'json': {'sum': 88}}]}}]}]"
      ]
     },
     "execution_count": 71,
     "metadata": {},
     "output_type": "execute_result"
    }
   ],
   "source": [
    "messages"
   ]
  },
  {
   "cell_type": "markdown",
   "id": "50a4b05f",
   "metadata": {},
   "source": [
    "Now call the model again with the new messages and it will use the tool call result to answer the question"
   ]
  },
  {
   "cell_type": "code",
   "execution_count": 75,
   "id": "fbf845aa",
   "metadata": {},
   "outputs": [
    {
     "data": {
      "text/html": [
       "<pre style=\"white-space:pre;overflow-x:auto;line-height:normal;font-family:Menlo,'DejaVu Sans Mono',consolas,'Courier New',monospace\"><span style=\"font-weight: bold\">{</span>\n",
       "<span style=\"color: #7fbf7f; text-decoration-color: #7fbf7f\">│   </span><span style=\"color: #008000; text-decoration-color: #008000\">'ResponseMetadata'</span>: <span style=\"font-weight: bold\">{</span>\n",
       "<span style=\"color: #7fbf7f; text-decoration-color: #7fbf7f\">│   │   </span><span style=\"color: #008000; text-decoration-color: #008000\">'RequestId'</span>: <span style=\"color: #008000; text-decoration-color: #008000\">'fdcfdb26-eaaa-4c1f-acd7-68d499f12c0b'</span>,\n",
       "<span style=\"color: #7fbf7f; text-decoration-color: #7fbf7f\">│   │   </span><span style=\"color: #008000; text-decoration-color: #008000\">'HTTPStatusCode'</span>: <span style=\"color: #008080; text-decoration-color: #008080; font-weight: bold\">200</span>,\n",
       "<span style=\"color: #7fbf7f; text-decoration-color: #7fbf7f\">│   │   </span><span style=\"color: #008000; text-decoration-color: #008000\">'HTTPHeaders'</span>: <span style=\"font-weight: bold\">{</span>\n",
       "<span style=\"color: #7fbf7f; text-decoration-color: #7fbf7f\">│   │   │   </span><span style=\"color: #008000; text-decoration-color: #008000\">'date'</span>: <span style=\"color: #008000; text-decoration-color: #008000\">'Thu, 26 Jun 2025 11:00:07 GMT'</span>,\n",
       "<span style=\"color: #7fbf7f; text-decoration-color: #7fbf7f\">│   │   │   </span><span style=\"color: #008000; text-decoration-color: #008000\">'content-type'</span>: <span style=\"color: #008000; text-decoration-color: #008000\">'application/json'</span>,\n",
       "<span style=\"color: #7fbf7f; text-decoration-color: #7fbf7f\">│   │   │   </span><span style=\"color: #008000; text-decoration-color: #008000\">'content-length'</span>: <span style=\"color: #008000; text-decoration-color: #008000\">'340'</span>,\n",
       "<span style=\"color: #7fbf7f; text-decoration-color: #7fbf7f\">│   │   │   </span><span style=\"color: #008000; text-decoration-color: #008000\">'connection'</span>: <span style=\"color: #008000; text-decoration-color: #008000\">'keep-alive'</span>,\n",
       "<span style=\"color: #7fbf7f; text-decoration-color: #7fbf7f\">│   │   │   </span><span style=\"color: #008000; text-decoration-color: #008000\">'x-amzn-requestid'</span>: <span style=\"color: #008000; text-decoration-color: #008000\">'fdcfdb26-eaaa-4c1f-acd7-68d499f12c0b'</span>\n",
       "<span style=\"color: #7fbf7f; text-decoration-color: #7fbf7f\">│   │   </span><span style=\"font-weight: bold\">}</span>,\n",
       "<span style=\"color: #7fbf7f; text-decoration-color: #7fbf7f\">│   │   </span><span style=\"color: #008000; text-decoration-color: #008000\">'RetryAttempts'</span>: <span style=\"color: #008080; text-decoration-color: #008080; font-weight: bold\">0</span>\n",
       "<span style=\"color: #7fbf7f; text-decoration-color: #7fbf7f\">│   </span><span style=\"font-weight: bold\">}</span>,\n",
       "<span style=\"color: #7fbf7f; text-decoration-color: #7fbf7f\">│   </span><span style=\"color: #008000; text-decoration-color: #008000\">'output'</span>: <span style=\"font-weight: bold\">{</span>\n",
       "<span style=\"color: #7fbf7f; text-decoration-color: #7fbf7f\">│   │   </span><span style=\"color: #008000; text-decoration-color: #008000\">'message'</span>: <span style=\"font-weight: bold\">{</span><span style=\"color: #008000; text-decoration-color: #008000\">'role'</span>: <span style=\"color: #008000; text-decoration-color: #008000\">'assistant'</span>, <span style=\"color: #008000; text-decoration-color: #008000\">'content'</span>: <span style=\"font-weight: bold\">[{</span><span style=\"color: #008000; text-decoration-color: #008000\">'text'</span>: <span style=\"color: #008000; text-decoration-color: #008000\">'The sum of your lucky numbers 77 and 11 is 88.'</span><span style=\"font-weight: bold\">}]}</span>\n",
       "<span style=\"color: #7fbf7f; text-decoration-color: #7fbf7f\">│   </span><span style=\"font-weight: bold\">}</span>,\n",
       "<span style=\"color: #7fbf7f; text-decoration-color: #7fbf7f\">│   </span><span style=\"color: #008000; text-decoration-color: #008000\">'stopReason'</span>: <span style=\"color: #008000; text-decoration-color: #008000\">'end_turn'</span>,\n",
       "<span style=\"color: #7fbf7f; text-decoration-color: #7fbf7f\">│   </span><span style=\"color: #008000; text-decoration-color: #008000\">'usage'</span>: <span style=\"font-weight: bold\">{</span>\n",
       "<span style=\"color: #7fbf7f; text-decoration-color: #7fbf7f\">│   │   </span><span style=\"color: #008000; text-decoration-color: #008000\">'inputTokens'</span>: <span style=\"color: #008080; text-decoration-color: #008080; font-weight: bold\">536</span>,\n",
       "<span style=\"color: #7fbf7f; text-decoration-color: #7fbf7f\">│   │   </span><span style=\"color: #008000; text-decoration-color: #008000\">'outputTokens'</span>: <span style=\"color: #008080; text-decoration-color: #008080; font-weight: bold\">20</span>,\n",
       "<span style=\"color: #7fbf7f; text-decoration-color: #7fbf7f\">│   │   </span><span style=\"color: #008000; text-decoration-color: #008000\">'totalTokens'</span>: <span style=\"color: #008080; text-decoration-color: #008080; font-weight: bold\">556</span>,\n",
       "<span style=\"color: #7fbf7f; text-decoration-color: #7fbf7f\">│   │   </span><span style=\"color: #008000; text-decoration-color: #008000\">'cacheReadInputTokens'</span>: <span style=\"color: #008080; text-decoration-color: #008080; font-weight: bold\">0</span>,\n",
       "<span style=\"color: #7fbf7f; text-decoration-color: #7fbf7f\">│   │   </span><span style=\"color: #008000; text-decoration-color: #008000\">'cacheWriteInputTokens'</span>: <span style=\"color: #008080; text-decoration-color: #008080; font-weight: bold\">0</span>\n",
       "<span style=\"color: #7fbf7f; text-decoration-color: #7fbf7f\">│   </span><span style=\"font-weight: bold\">}</span>,\n",
       "<span style=\"color: #7fbf7f; text-decoration-color: #7fbf7f\">│   </span><span style=\"color: #008000; text-decoration-color: #008000\">'metrics'</span>: <span style=\"font-weight: bold\">{</span><span style=\"color: #008000; text-decoration-color: #008000\">'latencyMs'</span>: <span style=\"color: #008080; text-decoration-color: #008080; font-weight: bold\">1361</span><span style=\"font-weight: bold\">}</span>\n",
       "<span style=\"font-weight: bold\">}</span>\n",
       "</pre>\n"
      ],
      "text/plain": [
       "\u001b[1m{\u001b[0m\n",
       "\u001b[2;32m│   \u001b[0m\u001b[32m'ResponseMetadata'\u001b[0m: \u001b[1m{\u001b[0m\n",
       "\u001b[2;32m│   │   \u001b[0m\u001b[32m'RequestId'\u001b[0m: \u001b[32m'fdcfdb26-eaaa-4c1f-acd7-68d499f12c0b'\u001b[0m,\n",
       "\u001b[2;32m│   │   \u001b[0m\u001b[32m'HTTPStatusCode'\u001b[0m: \u001b[1;36m200\u001b[0m,\n",
       "\u001b[2;32m│   │   \u001b[0m\u001b[32m'HTTPHeaders'\u001b[0m: \u001b[1m{\u001b[0m\n",
       "\u001b[2;32m│   │   │   \u001b[0m\u001b[32m'date'\u001b[0m: \u001b[32m'Thu, 26 Jun 2025 11:00:07 GMT'\u001b[0m,\n",
       "\u001b[2;32m│   │   │   \u001b[0m\u001b[32m'content-type'\u001b[0m: \u001b[32m'application/json'\u001b[0m,\n",
       "\u001b[2;32m│   │   │   \u001b[0m\u001b[32m'content-length'\u001b[0m: \u001b[32m'340'\u001b[0m,\n",
       "\u001b[2;32m│   │   │   \u001b[0m\u001b[32m'connection'\u001b[0m: \u001b[32m'keep-alive'\u001b[0m,\n",
       "\u001b[2;32m│   │   │   \u001b[0m\u001b[32m'x-amzn-requestid'\u001b[0m: \u001b[32m'fdcfdb26-eaaa-4c1f-acd7-68d499f12c0b'\u001b[0m\n",
       "\u001b[2;32m│   │   \u001b[0m\u001b[1m}\u001b[0m,\n",
       "\u001b[2;32m│   │   \u001b[0m\u001b[32m'RetryAttempts'\u001b[0m: \u001b[1;36m0\u001b[0m\n",
       "\u001b[2;32m│   \u001b[0m\u001b[1m}\u001b[0m,\n",
       "\u001b[2;32m│   \u001b[0m\u001b[32m'output'\u001b[0m: \u001b[1m{\u001b[0m\n",
       "\u001b[2;32m│   │   \u001b[0m\u001b[32m'message'\u001b[0m: \u001b[1m{\u001b[0m\u001b[32m'role'\u001b[0m: \u001b[32m'assistant'\u001b[0m, \u001b[32m'content'\u001b[0m: \u001b[1m[\u001b[0m\u001b[1m{\u001b[0m\u001b[32m'text'\u001b[0m: \u001b[32m'The sum of your lucky numbers 77 and 11 is 88.'\u001b[0m\u001b[1m}\u001b[0m\u001b[1m]\u001b[0m\u001b[1m}\u001b[0m\n",
       "\u001b[2;32m│   \u001b[0m\u001b[1m}\u001b[0m,\n",
       "\u001b[2;32m│   \u001b[0m\u001b[32m'stopReason'\u001b[0m: \u001b[32m'end_turn'\u001b[0m,\n",
       "\u001b[2;32m│   \u001b[0m\u001b[32m'usage'\u001b[0m: \u001b[1m{\u001b[0m\n",
       "\u001b[2;32m│   │   \u001b[0m\u001b[32m'inputTokens'\u001b[0m: \u001b[1;36m536\u001b[0m,\n",
       "\u001b[2;32m│   │   \u001b[0m\u001b[32m'outputTokens'\u001b[0m: \u001b[1;36m20\u001b[0m,\n",
       "\u001b[2;32m│   │   \u001b[0m\u001b[32m'totalTokens'\u001b[0m: \u001b[1;36m556\u001b[0m,\n",
       "\u001b[2;32m│   │   \u001b[0m\u001b[32m'cacheReadInputTokens'\u001b[0m: \u001b[1;36m0\u001b[0m,\n",
       "\u001b[2;32m│   │   \u001b[0m\u001b[32m'cacheWriteInputTokens'\u001b[0m: \u001b[1;36m0\u001b[0m\n",
       "\u001b[2;32m│   \u001b[0m\u001b[1m}\u001b[0m,\n",
       "\u001b[2;32m│   \u001b[0m\u001b[32m'metrics'\u001b[0m: \u001b[1m{\u001b[0m\u001b[32m'latencyMs'\u001b[0m: \u001b[1;36m1361\u001b[0m\u001b[1m}\u001b[0m\n",
       "\u001b[1m}\u001b[0m\n"
      ]
     },
     "metadata": {},
     "output_type": "display_data"
    }
   ],
   "source": [
    "final_response = call_model(model_name=CLAUDE_MODEL, messages=messages, system=system, toolConfig=tool_config)\n",
    "pprint(final_response)"
   ]
  },
  {
   "cell_type": "markdown",
   "id": "0e01abc5",
   "metadata": {},
   "source": [
    "## 3. Simplifying Tool Definition with a Processor Function\n",
    "\n",
    "Manually writing JSON schemas is tedious and error-prone. We can automate this by inspecting our Python function's signature, type hints, and docstring.\n",
    "\n",
    "First, let's define a helper function (`generate_tool_schema`) that takes a Python function and generates the schema.\n"
   ]
  },
  {
   "cell_type": "code",
   "execution_count": 78,
   "id": "61ab93b4",
   "metadata": {},
   "outputs": [],
   "source": [
    "def generate_tool_schema(func: Callable) -> dict:\n",
    "    \"\"\"Given a Python function, generate a Bedrock-compatible JSON schema.\n",
    "    Handles basic types and Enums. Assumes docstrings are formatted for arg descriptions.\n",
    "    \"\"\"\n",
    "    signature = inspect.signature(func)\n",
    "    parameters = signature.parameters\n",
    "    type_hints = get_type_hints(func)\n",
    "\n",
    "    # Extract main description (everything before Args: section)\n",
    "    docstring = inspect.getdoc(func)\n",
    "    main_description = \"\"\n",
    "    if docstring:\n",
    "        lines = docstring.split('\\n')\n",
    "        for line in lines:\n",
    "            if line.strip().lower().startswith((\"args:\", \"arguments:\", \"parameters:\")):\n",
    "                break\n",
    "            if main_description:\n",
    "                main_description += \" \"\n",
    "            main_description += line.strip()\n",
    "\n",
    "    schema = {\n",
    "        \"toolSpec\": {\n",
    "            \"name\": func.__name__,\n",
    "            \"description\": main_description,\n",
    "            \"inputSchema\": {\n",
    "                \"json\": {\n",
    "                    \"type\": \"object\",\n",
    "                    \"properties\": {},\n",
    "                    \"required\": [],\n",
    "                }\n",
    "            }\n",
    "        }\n",
    "    }\n",
    "\n",
    "    # Parse parameter descriptions from docstring\n",
    "    param_descriptions = {}\n",
    "    if docstring:\n",
    "        args_section = False\n",
    "        for line in docstring.split('\\n'):\n",
    "            line_stripped = line.strip()\n",
    "            if line_stripped.lower().startswith((\"args:\", \"arguments:\", \"parameters:\")):\n",
    "                args_section = True\n",
    "                continue\n",
    "            if args_section:\n",
    "                if \":\" in line_stripped and line_stripped[0] != ' ':\n",
    "                    param_name, desc = line_stripped.split(\":\", 1)\n",
    "                    param_descriptions[param_name.strip()] = desc.strip()\n",
    "                elif line_stripped and not line_stripped.startswith(\" \") and \":\" not in line_stripped:\n",
    "                    # End of args section\n",
    "                    args_section = False\n",
    "\n",
    "    for name, param in parameters.items():\n",
    "        is_required = param.default == inspect.Parameter.empty\n",
    "        param_type = type_hints.get(name, Any)\n",
    "        json_type = \"string\"\n",
    "        param_schema = {}\n",
    "\n",
    "        # Basic type mapping\n",
    "        if param_type == str: json_type = \"string\"\n",
    "        elif param_type == int: json_type = \"integer\"\n",
    "        elif param_type == float: json_type = \"number\"\n",
    "        elif param_type == bool: json_type = \"boolean\"\n",
    "        elif hasattr(param_type, '__origin__') and param_type.__origin__ is list: # Handle List[type]\n",
    "             item_type = param_type.__args__[0] if param_type.__args__ else Any\n",
    "             if item_type == str: param_schema = {\"type\": \"array\", \"items\": {\"type\": \"string\"}}\n",
    "             elif item_type == int: param_schema = {\"type\": \"array\", \"items\": {\"type\": \"integer\"}}\n",
    "             # Add more list item types if needed\n",
    "             else: param_schema = {\"type\": \"array\", \"items\": {\"type\": \"string\"}} # Default list item type\n",
    "        elif hasattr(param_type, \"__members__\") and issubclass(param_type, Enum): # Handle Enum\n",
    "             json_type = \"string\"\n",
    "             param_schema[\"enum\"] = [e.value for e in param_type]\n",
    "\n",
    "        if not param_schema: # If not set by List or Enum\n",
    "            param_schema[\"type\"] = json_type\n",
    "\n",
    "        param_schema[\"description\"] = param_descriptions.get(name, \"\")\n",
    "\n",
    "        if param.default != inspect.Parameter.empty and param.default is not None:\n",
    "             param_schema[\"default\"] = param.default # Note: Bedrock schema doesn't officially use default, but useful metadata\n",
    "\n",
    "        schema[\"toolSpec\"][\"inputSchema\"][\"json\"][\"properties\"][name] = param_schema\n",
    "        if is_required:\n",
    "            schema[\"toolSpec\"][\"inputSchema\"][\"json\"][\"required\"].append(name)\n",
    "    return schema"
   ]
  },
  {
   "cell_type": "markdown",
   "id": "8d193839",
   "metadata": {},
   "source": [
    "Now we can use this function to automatically generate the schema for our tool."
   ]
  },
  {
   "cell_type": "code",
   "execution_count": 79,
   "id": "187d550c",
   "metadata": {},
   "outputs": [
    {
     "data": {
      "text/html": [
       "<pre style=\"white-space:pre;overflow-x:auto;line-height:normal;font-family:Menlo,'DejaVu Sans Mono',consolas,'Courier New',monospace\"><span style=\"font-weight: bold\">{</span>\n",
       "<span style=\"color: #7fbf7f; text-decoration-color: #7fbf7f\">│   </span><span style=\"color: #008000; text-decoration-color: #008000\">'toolSpec'</span>: <span style=\"font-weight: bold\">{</span>\n",
       "<span style=\"color: #7fbf7f; text-decoration-color: #7fbf7f\">│   │   </span><span style=\"color: #008000; text-decoration-color: #008000\">'name'</span>: <span style=\"color: #008000; text-decoration-color: #008000\">'add_numbers'</span>,\n",
       "<span style=\"color: #7fbf7f; text-decoration-color: #7fbf7f\">│   │   </span><span style=\"color: #008000; text-decoration-color: #008000\">'description'</span>: <span style=\"color: #008000; text-decoration-color: #008000\">'Adds two numbers.'</span>,\n",
       "<span style=\"color: #7fbf7f; text-decoration-color: #7fbf7f\">│   │   </span><span style=\"color: #008000; text-decoration-color: #008000\">'inputSchema'</span>: <span style=\"font-weight: bold\">{</span>\n",
       "<span style=\"color: #7fbf7f; text-decoration-color: #7fbf7f\">│   │   │   </span><span style=\"color: #008000; text-decoration-color: #008000\">'json'</span>: <span style=\"font-weight: bold\">{</span>\n",
       "<span style=\"color: #7fbf7f; text-decoration-color: #7fbf7f\">│   │   │   │   </span><span style=\"color: #008000; text-decoration-color: #008000\">'type'</span>: <span style=\"color: #008000; text-decoration-color: #008000\">'object'</span>,\n",
       "<span style=\"color: #7fbf7f; text-decoration-color: #7fbf7f\">│   │   │   │   </span><span style=\"color: #008000; text-decoration-color: #008000\">'properties'</span>: <span style=\"font-weight: bold\">{</span>\n",
       "<span style=\"color: #7fbf7f; text-decoration-color: #7fbf7f\">│   │   │   │   │   </span><span style=\"color: #008000; text-decoration-color: #008000\">'a'</span>: <span style=\"font-weight: bold\">{</span><span style=\"color: #008000; text-decoration-color: #008000\">'type'</span>: <span style=\"color: #008000; text-decoration-color: #008000\">'integer'</span>, <span style=\"color: #008000; text-decoration-color: #008000\">'description'</span>: <span style=\"color: #008000; text-decoration-color: #008000\">'The first number.'</span><span style=\"font-weight: bold\">}</span>,\n",
       "<span style=\"color: #7fbf7f; text-decoration-color: #7fbf7f\">│   │   │   │   │   </span><span style=\"color: #008000; text-decoration-color: #008000\">'b'</span>: <span style=\"font-weight: bold\">{</span><span style=\"color: #008000; text-decoration-color: #008000\">'type'</span>: <span style=\"color: #008000; text-decoration-color: #008000\">'integer'</span>, <span style=\"color: #008000; text-decoration-color: #008000\">'description'</span>: <span style=\"color: #008000; text-decoration-color: #008000\">'The second number.'</span><span style=\"font-weight: bold\">}</span>\n",
       "<span style=\"color: #7fbf7f; text-decoration-color: #7fbf7f\">│   │   │   │   </span><span style=\"font-weight: bold\">}</span>,\n",
       "<span style=\"color: #7fbf7f; text-decoration-color: #7fbf7f\">│   │   │   │   </span><span style=\"color: #008000; text-decoration-color: #008000\">'required'</span>: <span style=\"font-weight: bold\">[</span><span style=\"color: #008000; text-decoration-color: #008000\">'a'</span>, <span style=\"color: #008000; text-decoration-color: #008000\">'b'</span><span style=\"font-weight: bold\">]</span>\n",
       "<span style=\"color: #7fbf7f; text-decoration-color: #7fbf7f\">│   │   │   </span><span style=\"font-weight: bold\">}</span>\n",
       "<span style=\"color: #7fbf7f; text-decoration-color: #7fbf7f\">│   │   </span><span style=\"font-weight: bold\">}</span>\n",
       "<span style=\"color: #7fbf7f; text-decoration-color: #7fbf7f\">│   </span><span style=\"font-weight: bold\">}</span>\n",
       "<span style=\"font-weight: bold\">}</span>\n",
       "</pre>\n"
      ],
      "text/plain": [
       "\u001b[1m{\u001b[0m\n",
       "\u001b[2;32m│   \u001b[0m\u001b[32m'toolSpec'\u001b[0m: \u001b[1m{\u001b[0m\n",
       "\u001b[2;32m│   │   \u001b[0m\u001b[32m'name'\u001b[0m: \u001b[32m'add_numbers'\u001b[0m,\n",
       "\u001b[2;32m│   │   \u001b[0m\u001b[32m'description'\u001b[0m: \u001b[32m'Adds two numbers.'\u001b[0m,\n",
       "\u001b[2;32m│   │   \u001b[0m\u001b[32m'inputSchema'\u001b[0m: \u001b[1m{\u001b[0m\n",
       "\u001b[2;32m│   │   │   \u001b[0m\u001b[32m'json'\u001b[0m: \u001b[1m{\u001b[0m\n",
       "\u001b[2;32m│   │   │   │   \u001b[0m\u001b[32m'type'\u001b[0m: \u001b[32m'object'\u001b[0m,\n",
       "\u001b[2;32m│   │   │   │   \u001b[0m\u001b[32m'properties'\u001b[0m: \u001b[1m{\u001b[0m\n",
       "\u001b[2;32m│   │   │   │   │   \u001b[0m\u001b[32m'a'\u001b[0m: \u001b[1m{\u001b[0m\u001b[32m'type'\u001b[0m: \u001b[32m'integer'\u001b[0m, \u001b[32m'description'\u001b[0m: \u001b[32m'The first number.'\u001b[0m\u001b[1m}\u001b[0m,\n",
       "\u001b[2;32m│   │   │   │   │   \u001b[0m\u001b[32m'b'\u001b[0m: \u001b[1m{\u001b[0m\u001b[32m'type'\u001b[0m: \u001b[32m'integer'\u001b[0m, \u001b[32m'description'\u001b[0m: \u001b[32m'The second number.'\u001b[0m\u001b[1m}\u001b[0m\n",
       "\u001b[2;32m│   │   │   │   \u001b[0m\u001b[1m}\u001b[0m,\n",
       "\u001b[2;32m│   │   │   │   \u001b[0m\u001b[32m'required'\u001b[0m: \u001b[1m[\u001b[0m\u001b[32m'a'\u001b[0m, \u001b[32m'b'\u001b[0m\u001b[1m]\u001b[0m\n",
       "\u001b[2;32m│   │   │   \u001b[0m\u001b[1m}\u001b[0m\n",
       "\u001b[2;32m│   │   \u001b[0m\u001b[1m}\u001b[0m\n",
       "\u001b[2;32m│   \u001b[0m\u001b[1m}\u001b[0m\n",
       "\u001b[1m}\u001b[0m\n"
      ]
     },
     "metadata": {},
     "output_type": "display_data"
    }
   ],
   "source": [
    "tool_schema = generate_tool_schema(add_numbers)\n",
    "pprint(tool_schema)"
   ]
  },
  {
   "cell_type": "markdown",
   "id": "7867416e",
   "metadata": {},
   "source": [
    "Now, we define a `function_tool` \"processor\". This isn't a decorator in the `@` syntax sense here, but a function that we call *after* defining our tool function. It uses `generate_tool_schema` to attach the schema to the function object itself.\n"
   ]
  },
  {
   "cell_type": "code",
   "execution_count": 80,
   "id": "015ed9a3",
   "metadata": {},
   "outputs": [],
   "source": [
    "def function_tool(func: Callable) -> Callable:\n",
    "    \"\"\"Attaches a tool schema to the function and marks it as a tool.\n",
    "    Call this *after* defining your function: my_func = function_tool(my_func)\n",
    "    \"\"\"\n",
    "    try:\n",
    "        func.tool_schema = generate_tool_schema(func)\n",
    "        func.is_tool = True # Mark it as a tool\n",
    "    except Exception as e:\n",
    "        print(f\"Error processing tool {func.__name__}: {e}\")\n",
    "        # Optionally raise or mark as failed\n",
    "        func.tool_schema = None\n",
    "        func.is_tool = False\n",
    "    return func"
   ]
  },
  {
   "cell_type": "markdown",
   "id": "504243c6",
   "metadata": {},
   "source": [
    "We can use this function to automatically generate the schema for our tool, as a decorator or after the function is defined."
   ]
  },
  {
   "cell_type": "code",
   "execution_count": 81,
   "id": "8c424f21",
   "metadata": {},
   "outputs": [
    {
     "data": {
      "text/html": [
       "<pre style=\"white-space:pre;overflow-x:auto;line-height:normal;font-family:Menlo,'DejaVu Sans Mono',consolas,'Courier New',monospace\"><span style=\"font-weight: bold\">{</span>\n",
       "<span style=\"color: #7fbf7f; text-decoration-color: #7fbf7f\">│   </span><span style=\"color: #008000; text-decoration-color: #008000\">'toolSpec'</span>: <span style=\"font-weight: bold\">{</span>\n",
       "<span style=\"color: #7fbf7f; text-decoration-color: #7fbf7f\">│   │   </span><span style=\"color: #008000; text-decoration-color: #008000\">'name'</span>: <span style=\"color: #008000; text-decoration-color: #008000\">'add_numbers'</span>,\n",
       "<span style=\"color: #7fbf7f; text-decoration-color: #7fbf7f\">│   │   </span><span style=\"color: #008000; text-decoration-color: #008000\">'description'</span>: <span style=\"color: #008000; text-decoration-color: #008000\">'Adds two numbers.'</span>,\n",
       "<span style=\"color: #7fbf7f; text-decoration-color: #7fbf7f\">│   │   </span><span style=\"color: #008000; text-decoration-color: #008000\">'inputSchema'</span>: <span style=\"font-weight: bold\">{</span>\n",
       "<span style=\"color: #7fbf7f; text-decoration-color: #7fbf7f\">│   │   │   </span><span style=\"color: #008000; text-decoration-color: #008000\">'json'</span>: <span style=\"font-weight: bold\">{</span>\n",
       "<span style=\"color: #7fbf7f; text-decoration-color: #7fbf7f\">│   │   │   │   </span><span style=\"color: #008000; text-decoration-color: #008000\">'type'</span>: <span style=\"color: #008000; text-decoration-color: #008000\">'object'</span>,\n",
       "<span style=\"color: #7fbf7f; text-decoration-color: #7fbf7f\">│   │   │   │   </span><span style=\"color: #008000; text-decoration-color: #008000\">'properties'</span>: <span style=\"font-weight: bold\">{</span>\n",
       "<span style=\"color: #7fbf7f; text-decoration-color: #7fbf7f\">│   │   │   │   │   </span><span style=\"color: #008000; text-decoration-color: #008000\">'a'</span>: <span style=\"font-weight: bold\">{</span><span style=\"color: #008000; text-decoration-color: #008000\">'type'</span>: <span style=\"color: #008000; text-decoration-color: #008000\">'integer'</span>, <span style=\"color: #008000; text-decoration-color: #008000\">'description'</span>: <span style=\"color: #008000; text-decoration-color: #008000\">'The first number.'</span><span style=\"font-weight: bold\">}</span>,\n",
       "<span style=\"color: #7fbf7f; text-decoration-color: #7fbf7f\">│   │   │   │   │   </span><span style=\"color: #008000; text-decoration-color: #008000\">'b'</span>: <span style=\"font-weight: bold\">{</span><span style=\"color: #008000; text-decoration-color: #008000\">'type'</span>: <span style=\"color: #008000; text-decoration-color: #008000\">'integer'</span>, <span style=\"color: #008000; text-decoration-color: #008000\">'description'</span>: <span style=\"color: #008000; text-decoration-color: #008000\">'The second number.'</span><span style=\"font-weight: bold\">}</span>\n",
       "<span style=\"color: #7fbf7f; text-decoration-color: #7fbf7f\">│   │   │   │   </span><span style=\"font-weight: bold\">}</span>,\n",
       "<span style=\"color: #7fbf7f; text-decoration-color: #7fbf7f\">│   │   │   │   </span><span style=\"color: #008000; text-decoration-color: #008000\">'required'</span>: <span style=\"font-weight: bold\">[</span><span style=\"color: #008000; text-decoration-color: #008000\">'a'</span>, <span style=\"color: #008000; text-decoration-color: #008000\">'b'</span><span style=\"font-weight: bold\">]</span>\n",
       "<span style=\"color: #7fbf7f; text-decoration-color: #7fbf7f\">│   │   │   </span><span style=\"font-weight: bold\">}</span>\n",
       "<span style=\"color: #7fbf7f; text-decoration-color: #7fbf7f\">│   │   </span><span style=\"font-weight: bold\">}</span>\n",
       "<span style=\"color: #7fbf7f; text-decoration-color: #7fbf7f\">│   </span><span style=\"font-weight: bold\">}</span>\n",
       "<span style=\"font-weight: bold\">}</span>\n",
       "</pre>\n"
      ],
      "text/plain": [
       "\u001b[1m{\u001b[0m\n",
       "\u001b[2;32m│   \u001b[0m\u001b[32m'toolSpec'\u001b[0m: \u001b[1m{\u001b[0m\n",
       "\u001b[2;32m│   │   \u001b[0m\u001b[32m'name'\u001b[0m: \u001b[32m'add_numbers'\u001b[0m,\n",
       "\u001b[2;32m│   │   \u001b[0m\u001b[32m'description'\u001b[0m: \u001b[32m'Adds two numbers.'\u001b[0m,\n",
       "\u001b[2;32m│   │   \u001b[0m\u001b[32m'inputSchema'\u001b[0m: \u001b[1m{\u001b[0m\n",
       "\u001b[2;32m│   │   │   \u001b[0m\u001b[32m'json'\u001b[0m: \u001b[1m{\u001b[0m\n",
       "\u001b[2;32m│   │   │   │   \u001b[0m\u001b[32m'type'\u001b[0m: \u001b[32m'object'\u001b[0m,\n",
       "\u001b[2;32m│   │   │   │   \u001b[0m\u001b[32m'properties'\u001b[0m: \u001b[1m{\u001b[0m\n",
       "\u001b[2;32m│   │   │   │   │   \u001b[0m\u001b[32m'a'\u001b[0m: \u001b[1m{\u001b[0m\u001b[32m'type'\u001b[0m: \u001b[32m'integer'\u001b[0m, \u001b[32m'description'\u001b[0m: \u001b[32m'The first number.'\u001b[0m\u001b[1m}\u001b[0m,\n",
       "\u001b[2;32m│   │   │   │   │   \u001b[0m\u001b[32m'b'\u001b[0m: \u001b[1m{\u001b[0m\u001b[32m'type'\u001b[0m: \u001b[32m'integer'\u001b[0m, \u001b[32m'description'\u001b[0m: \u001b[32m'The second number.'\u001b[0m\u001b[1m}\u001b[0m\n",
       "\u001b[2;32m│   │   │   │   \u001b[0m\u001b[1m}\u001b[0m,\n",
       "\u001b[2;32m│   │   │   │   \u001b[0m\u001b[32m'required'\u001b[0m: \u001b[1m[\u001b[0m\u001b[32m'a'\u001b[0m, \u001b[32m'b'\u001b[0m\u001b[1m]\u001b[0m\n",
       "\u001b[2;32m│   │   │   \u001b[0m\u001b[1m}\u001b[0m\n",
       "\u001b[2;32m│   │   \u001b[0m\u001b[1m}\u001b[0m\n",
       "\u001b[2;32m│   \u001b[0m\u001b[1m}\u001b[0m\n",
       "\u001b[1m}\u001b[0m\n"
      ]
     },
     "metadata": {},
     "output_type": "display_data"
    }
   ],
   "source": [
    "add_numbers = function_tool(add_numbers)\n",
    "pprint(add_numbers.tool_schema)\n"
   ]
  },
  {
   "cell_type": "code",
   "execution_count": 82,
   "id": "8c651811",
   "metadata": {},
   "outputs": [
    {
     "data": {
      "text/plain": [
       "{'toolSpec': {'name': 'add_numbers',\n",
       "  'description': 'Adds two numbers.',\n",
       "  'inputSchema': {'json': {'type': 'object',\n",
       "    'properties': {'a': {'type': 'integer',\n",
       "      'description': 'The first number.'},\n",
       "     'b': {'type': 'integer', 'description': 'The second number.'}},\n",
       "    'required': ['a', 'b']}}}}"
      ]
     },
     "execution_count": 82,
     "metadata": {},
     "output_type": "execute_result"
    }
   ],
   "source": [
    "add_numbers.tool_schema"
   ]
  },
  {
   "cell_type": "markdown",
   "id": "d7280921",
   "metadata": {},
   "source": [
    "and call the tool =)"
   ]
  },
  {
   "cell_type": "code",
   "execution_count": 83,
   "id": "70bd946a",
   "metadata": {},
   "outputs": [
    {
     "data": {
      "text/plain": [
       "3"
      ]
     },
     "execution_count": 83,
     "metadata": {},
     "output_type": "execute_result"
    }
   ],
   "source": [
    "add_numbers(1, 2)"
   ]
  },
  {
   "cell_type": "markdown",
   "id": "265ef16e",
   "metadata": {},
   "source": [
    "### 3.1 Real Example using an API based tool"
   ]
  },
  {
   "cell_type": "markdown",
   "id": "5227a8a9",
   "metadata": {},
   "source": [
    "Let's create a real example hitting an API: The pokemon API"
   ]
  },
  {
   "cell_type": "code",
   "execution_count": 84,
   "id": "7972869e",
   "metadata": {},
   "outputs": [],
   "source": [
    "@weave.op \n",
    "@function_tool # <- we can use the decorator to automatically generate the tool schema\n",
    "def get_pokemon_info(pokemon_name: str) -> str:\n",
    "    \"\"\"Fetches minimal information (name, ID, weight) for a specific Pokemon. Weight is in hectograms.\n",
    "\n",
    "    Args:\n",
    "        pokemon_name: The name or Pokedex ID of the Pokemon.\n",
    "    \"\"\"\n",
    "    base_url = \"https://pokeapi.co/api/v2/pokemon/\"\n",
    "    try:\n",
    "        response = requests.get(f\"{base_url}{pokemon_name.lower().strip()}\")\n",
    "        response.raise_for_status() # Raise HTTPError for bad responses (4xx or 5xx)\n",
    "        data = response.json()\n",
    "        info = {\n",
    "            \"name\": data.get('name', 'Unknown').capitalize(),\n",
    "            \"id\": data.get('id', -1),\n",
    "            \"weight\": data.get('weight', -1) # Weight in hectograms\n",
    "        }\n",
    "        return info\n",
    "    except Exception as e:\n",
    "        return {\"error\": f\"Error fetching pokemon {pokemon_name}: {str(e)}\"}"
   ]
  },
  {
   "cell_type": "code",
   "execution_count": 85,
   "id": "af6c3b9a",
   "metadata": {},
   "outputs": [
    {
     "data": {
      "text/plain": [
       "{'toolSpec': {'name': 'get_pokemon_info',\n",
       "  'description': 'Fetches minimal information (name, ID, weight) for a specific Pokemon. Weight is in hectograms. ',\n",
       "  'inputSchema': {'json': {'type': 'object',\n",
       "    'properties': {'pokemon_name': {'type': 'string',\n",
       "      'description': 'The name or Pokedex ID of the Pokemon.'}},\n",
       "    'required': ['pokemon_name']}}}}"
      ]
     },
     "execution_count": 85,
     "metadata": {},
     "output_type": "execute_result"
    }
   ],
   "source": [
    "get_pokemon_info.tool_schema"
   ]
  },
  {
   "cell_type": "code",
   "execution_count": 86,
   "id": "fb22b679",
   "metadata": {},
   "outputs": [
    {
     "data": {
      "text/plain": [
       "{'name': 'Pikachu', 'id': 25, 'weight': 60}"
      ]
     },
     "execution_count": 86,
     "metadata": {},
     "output_type": "execute_result"
    }
   ],
   "source": [
    "get_pokemon_info(\"pikachu\")"
   ]
  },
  {
   "cell_type": "code",
   "execution_count": 151,
   "id": "82a073e8",
   "metadata": {},
   "outputs": [
    {
     "data": {
      "text/html": [
       "<pre style=\"white-space:pre;overflow-x:auto;line-height:normal;font-family:Menlo,'DejaVu Sans Mono',consolas,'Courier New',monospace\"><span style=\"font-weight: bold\">{</span>\n",
       "<span style=\"color: #7fbf7f; text-decoration-color: #7fbf7f\">│   </span><span style=\"color: #008000; text-decoration-color: #008000\">'ResponseMetadata'</span>: <span style=\"font-weight: bold\">{</span>\n",
       "<span style=\"color: #7fbf7f; text-decoration-color: #7fbf7f\">│   │   </span><span style=\"color: #008000; text-decoration-color: #008000\">'RequestId'</span>: <span style=\"color: #008000; text-decoration-color: #008000\">'d2f2fb70-48a0-49f2-bfcb-08c7609e85b7'</span>,\n",
       "<span style=\"color: #7fbf7f; text-decoration-color: #7fbf7f\">│   │   </span><span style=\"color: #008000; text-decoration-color: #008000\">'HTTPStatusCode'</span>: <span style=\"color: #008080; text-decoration-color: #008080; font-weight: bold\">200</span>,\n",
       "<span style=\"color: #7fbf7f; text-decoration-color: #7fbf7f\">│   │   </span><span style=\"color: #008000; text-decoration-color: #008000\">'HTTPHeaders'</span>: <span style=\"font-weight: bold\">{</span>\n",
       "<span style=\"color: #7fbf7f; text-decoration-color: #7fbf7f\">│   │   │   </span><span style=\"color: #008000; text-decoration-color: #008000\">'date'</span>: <span style=\"color: #008000; text-decoration-color: #008000\">'Thu, 26 Jun 2025 11:33:36 GMT'</span>,\n",
       "<span style=\"color: #7fbf7f; text-decoration-color: #7fbf7f\">│   │   │   </span><span style=\"color: #008000; text-decoration-color: #008000\">'content-type'</span>: <span style=\"color: #008000; text-decoration-color: #008000\">'application/json'</span>,\n",
       "<span style=\"color: #7fbf7f; text-decoration-color: #7fbf7f\">│   │   │   </span><span style=\"color: #008000; text-decoration-color: #008000\">'content-length'</span>: <span style=\"color: #008000; text-decoration-color: #008000\">'452'</span>,\n",
       "<span style=\"color: #7fbf7f; text-decoration-color: #7fbf7f\">│   │   │   </span><span style=\"color: #008000; text-decoration-color: #008000\">'connection'</span>: <span style=\"color: #008000; text-decoration-color: #008000\">'keep-alive'</span>,\n",
       "<span style=\"color: #7fbf7f; text-decoration-color: #7fbf7f\">│   │   │   </span><span style=\"color: #008000; text-decoration-color: #008000\">'x-amzn-requestid'</span>: <span style=\"color: #008000; text-decoration-color: #008000\">'d2f2fb70-48a0-49f2-bfcb-08c7609e85b7'</span>\n",
       "<span style=\"color: #7fbf7f; text-decoration-color: #7fbf7f\">│   │   </span><span style=\"font-weight: bold\">}</span>,\n",
       "<span style=\"color: #7fbf7f; text-decoration-color: #7fbf7f\">│   │   </span><span style=\"color: #008000; text-decoration-color: #008000\">'RetryAttempts'</span>: <span style=\"color: #008080; text-decoration-color: #008080; font-weight: bold\">0</span>\n",
       "<span style=\"color: #7fbf7f; text-decoration-color: #7fbf7f\">│   </span><span style=\"font-weight: bold\">}</span>,\n",
       "<span style=\"color: #7fbf7f; text-decoration-color: #7fbf7f\">│   </span><span style=\"color: #008000; text-decoration-color: #008000\">'output'</span>: <span style=\"font-weight: bold\">{</span>\n",
       "<span style=\"color: #7fbf7f; text-decoration-color: #7fbf7f\">│   │   </span><span style=\"color: #008000; text-decoration-color: #008000\">'message'</span>: <span style=\"font-weight: bold\">{</span>\n",
       "<span style=\"color: #7fbf7f; text-decoration-color: #7fbf7f\">│   │   │   </span><span style=\"color: #008000; text-decoration-color: #008000\">'role'</span>: <span style=\"color: #008000; text-decoration-color: #008000\">'assistant'</span>,\n",
       "<span style=\"color: #7fbf7f; text-decoration-color: #7fbf7f\">│   │   │   </span><span style=\"color: #008000; text-decoration-color: #008000\">'content'</span>: <span style=\"font-weight: bold\">[</span>\n",
       "<span style=\"color: #7fbf7f; text-decoration-color: #7fbf7f\">│   │   │   │   </span><span style=\"font-weight: bold\">{</span><span style=\"color: #008000; text-decoration-color: #008000\">'text'</span>: <span style=\"color: #008000; text-decoration-color: #008000\">\"I'll look up Pikachu's weight for you.\"</span><span style=\"font-weight: bold\">}</span>,\n",
       "<span style=\"color: #7fbf7f; text-decoration-color: #7fbf7f\">│   │   │   │   </span><span style=\"font-weight: bold\">{</span>\n",
       "<span style=\"color: #7fbf7f; text-decoration-color: #7fbf7f\">│   │   │   │   │   </span><span style=\"color: #008000; text-decoration-color: #008000\">'toolUse'</span>: <span style=\"font-weight: bold\">{</span>\n",
       "<span style=\"color: #7fbf7f; text-decoration-color: #7fbf7f\">│   │   │   │   │   │   </span><span style=\"color: #008000; text-decoration-color: #008000\">'toolUseId'</span>: <span style=\"color: #008000; text-decoration-color: #008000\">'tooluse_TkWI6RUgSzaI3JRls2gKKQ'</span>,\n",
       "<span style=\"color: #7fbf7f; text-decoration-color: #7fbf7f\">│   │   │   │   │   │   </span><span style=\"color: #008000; text-decoration-color: #008000\">'name'</span>: <span style=\"color: #008000; text-decoration-color: #008000\">'get_pokemon_info'</span>,\n",
       "<span style=\"color: #7fbf7f; text-decoration-color: #7fbf7f\">│   │   │   │   │   │   </span><span style=\"color: #008000; text-decoration-color: #008000\">'input'</span>: <span style=\"font-weight: bold\">{</span><span style=\"color: #008000; text-decoration-color: #008000\">'pokemon_name'</span>: <span style=\"color: #008000; text-decoration-color: #008000\">'Pikachu'</span><span style=\"font-weight: bold\">}</span>\n",
       "<span style=\"color: #7fbf7f; text-decoration-color: #7fbf7f\">│   │   │   │   │   </span><span style=\"font-weight: bold\">}</span>\n",
       "<span style=\"color: #7fbf7f; text-decoration-color: #7fbf7f\">│   │   │   │   </span><span style=\"font-weight: bold\">}</span>\n",
       "<span style=\"color: #7fbf7f; text-decoration-color: #7fbf7f\">│   │   │   </span><span style=\"font-weight: bold\">]</span>\n",
       "<span style=\"color: #7fbf7f; text-decoration-color: #7fbf7f\">│   │   </span><span style=\"font-weight: bold\">}</span>\n",
       "<span style=\"color: #7fbf7f; text-decoration-color: #7fbf7f\">│   </span><span style=\"font-weight: bold\">}</span>,\n",
       "<span style=\"color: #7fbf7f; text-decoration-color: #7fbf7f\">│   </span><span style=\"color: #008000; text-decoration-color: #008000\">'stopReason'</span>: <span style=\"color: #008000; text-decoration-color: #008000\">'tool_use'</span>,\n",
       "<span style=\"color: #7fbf7f; text-decoration-color: #7fbf7f\">│   </span><span style=\"color: #008000; text-decoration-color: #008000\">'usage'</span>: <span style=\"font-weight: bold\">{</span>\n",
       "<span style=\"color: #7fbf7f; text-decoration-color: #7fbf7f\">│   │   </span><span style=\"color: #008000; text-decoration-color: #008000\">'inputTokens'</span>: <span style=\"color: #008080; text-decoration-color: #008080; font-weight: bold\">438</span>,\n",
       "<span style=\"color: #7fbf7f; text-decoration-color: #7fbf7f\">│   │   </span><span style=\"color: #008000; text-decoration-color: #008000\">'outputTokens'</span>: <span style=\"color: #008080; text-decoration-color: #008080; font-weight: bold\">74</span>,\n",
       "<span style=\"color: #7fbf7f; text-decoration-color: #7fbf7f\">│   │   </span><span style=\"color: #008000; text-decoration-color: #008000\">'totalTokens'</span>: <span style=\"color: #008080; text-decoration-color: #008080; font-weight: bold\">512</span>,\n",
       "<span style=\"color: #7fbf7f; text-decoration-color: #7fbf7f\">│   │   </span><span style=\"color: #008000; text-decoration-color: #008000\">'cacheReadInputTokens'</span>: <span style=\"color: #008080; text-decoration-color: #008080; font-weight: bold\">0</span>,\n",
       "<span style=\"color: #7fbf7f; text-decoration-color: #7fbf7f\">│   │   </span><span style=\"color: #008000; text-decoration-color: #008000\">'cacheWriteInputTokens'</span>: <span style=\"color: #008080; text-decoration-color: #008080; font-weight: bold\">0</span>\n",
       "<span style=\"color: #7fbf7f; text-decoration-color: #7fbf7f\">│   </span><span style=\"font-weight: bold\">}</span>,\n",
       "<span style=\"color: #7fbf7f; text-decoration-color: #7fbf7f\">│   </span><span style=\"color: #008000; text-decoration-color: #008000\">'metrics'</span>: <span style=\"font-weight: bold\">{</span><span style=\"color: #008000; text-decoration-color: #008000\">'latencyMs'</span>: <span style=\"color: #008080; text-decoration-color: #008080; font-weight: bold\">1980</span><span style=\"font-weight: bold\">}</span>\n",
       "<span style=\"font-weight: bold\">}</span>\n",
       "</pre>\n"
      ],
      "text/plain": [
       "\u001b[1m{\u001b[0m\n",
       "\u001b[2;32m│   \u001b[0m\u001b[32m'ResponseMetadata'\u001b[0m: \u001b[1m{\u001b[0m\n",
       "\u001b[2;32m│   │   \u001b[0m\u001b[32m'RequestId'\u001b[0m: \u001b[32m'd2f2fb70-48a0-49f2-bfcb-08c7609e85b7'\u001b[0m,\n",
       "\u001b[2;32m│   │   \u001b[0m\u001b[32m'HTTPStatusCode'\u001b[0m: \u001b[1;36m200\u001b[0m,\n",
       "\u001b[2;32m│   │   \u001b[0m\u001b[32m'HTTPHeaders'\u001b[0m: \u001b[1m{\u001b[0m\n",
       "\u001b[2;32m│   │   │   \u001b[0m\u001b[32m'date'\u001b[0m: \u001b[32m'Thu, 26 Jun 2025 11:33:36 GMT'\u001b[0m,\n",
       "\u001b[2;32m│   │   │   \u001b[0m\u001b[32m'content-type'\u001b[0m: \u001b[32m'application/json'\u001b[0m,\n",
       "\u001b[2;32m│   │   │   \u001b[0m\u001b[32m'content-length'\u001b[0m: \u001b[32m'452'\u001b[0m,\n",
       "\u001b[2;32m│   │   │   \u001b[0m\u001b[32m'connection'\u001b[0m: \u001b[32m'keep-alive'\u001b[0m,\n",
       "\u001b[2;32m│   │   │   \u001b[0m\u001b[32m'x-amzn-requestid'\u001b[0m: \u001b[32m'd2f2fb70-48a0-49f2-bfcb-08c7609e85b7'\u001b[0m\n",
       "\u001b[2;32m│   │   \u001b[0m\u001b[1m}\u001b[0m,\n",
       "\u001b[2;32m│   │   \u001b[0m\u001b[32m'RetryAttempts'\u001b[0m: \u001b[1;36m0\u001b[0m\n",
       "\u001b[2;32m│   \u001b[0m\u001b[1m}\u001b[0m,\n",
       "\u001b[2;32m│   \u001b[0m\u001b[32m'output'\u001b[0m: \u001b[1m{\u001b[0m\n",
       "\u001b[2;32m│   │   \u001b[0m\u001b[32m'message'\u001b[0m: \u001b[1m{\u001b[0m\n",
       "\u001b[2;32m│   │   │   \u001b[0m\u001b[32m'role'\u001b[0m: \u001b[32m'assistant'\u001b[0m,\n",
       "\u001b[2;32m│   │   │   \u001b[0m\u001b[32m'content'\u001b[0m: \u001b[1m[\u001b[0m\n",
       "\u001b[2;32m│   │   │   │   \u001b[0m\u001b[1m{\u001b[0m\u001b[32m'text'\u001b[0m: \u001b[32m\"I'll look up Pikachu's weight for you.\"\u001b[0m\u001b[1m}\u001b[0m,\n",
       "\u001b[2;32m│   │   │   │   \u001b[0m\u001b[1m{\u001b[0m\n",
       "\u001b[2;32m│   │   │   │   │   \u001b[0m\u001b[32m'toolUse'\u001b[0m: \u001b[1m{\u001b[0m\n",
       "\u001b[2;32m│   │   │   │   │   │   \u001b[0m\u001b[32m'toolUseId'\u001b[0m: \u001b[32m'tooluse_TkWI6RUgSzaI3JRls2gKKQ'\u001b[0m,\n",
       "\u001b[2;32m│   │   │   │   │   │   \u001b[0m\u001b[32m'name'\u001b[0m: \u001b[32m'get_pokemon_info'\u001b[0m,\n",
       "\u001b[2;32m│   │   │   │   │   │   \u001b[0m\u001b[32m'input'\u001b[0m: \u001b[1m{\u001b[0m\u001b[32m'pokemon_name'\u001b[0m: \u001b[32m'Pikachu'\u001b[0m\u001b[1m}\u001b[0m\n",
       "\u001b[2;32m│   │   │   │   │   \u001b[0m\u001b[1m}\u001b[0m\n",
       "\u001b[2;32m│   │   │   │   \u001b[0m\u001b[1m}\u001b[0m\n",
       "\u001b[2;32m│   │   │   \u001b[0m\u001b[1m]\u001b[0m\n",
       "\u001b[2;32m│   │   \u001b[0m\u001b[1m}\u001b[0m\n",
       "\u001b[2;32m│   \u001b[0m\u001b[1m}\u001b[0m,\n",
       "\u001b[2;32m│   \u001b[0m\u001b[32m'stopReason'\u001b[0m: \u001b[32m'tool_use'\u001b[0m,\n",
       "\u001b[2;32m│   \u001b[0m\u001b[32m'usage'\u001b[0m: \u001b[1m{\u001b[0m\n",
       "\u001b[2;32m│   │   \u001b[0m\u001b[32m'inputTokens'\u001b[0m: \u001b[1;36m438\u001b[0m,\n",
       "\u001b[2;32m│   │   \u001b[0m\u001b[32m'outputTokens'\u001b[0m: \u001b[1;36m74\u001b[0m,\n",
       "\u001b[2;32m│   │   \u001b[0m\u001b[32m'totalTokens'\u001b[0m: \u001b[1;36m512\u001b[0m,\n",
       "\u001b[2;32m│   │   \u001b[0m\u001b[32m'cacheReadInputTokens'\u001b[0m: \u001b[1;36m0\u001b[0m,\n",
       "\u001b[2;32m│   │   \u001b[0m\u001b[32m'cacheWriteInputTokens'\u001b[0m: \u001b[1;36m0\u001b[0m\n",
       "\u001b[2;32m│   \u001b[0m\u001b[1m}\u001b[0m,\n",
       "\u001b[2;32m│   \u001b[0m\u001b[32m'metrics'\u001b[0m: \u001b[1m{\u001b[0m\u001b[32m'latencyMs'\u001b[0m: \u001b[1;36m1980\u001b[0m\u001b[1m}\u001b[0m\n",
       "\u001b[1m}\u001b[0m\n"
      ]
     },
     "metadata": {},
     "output_type": "display_data"
    }
   ],
   "source": [
    "system = [{\"text\": \"You are a helpful assistant that can use tools to answer questions.\"}]\n",
    "messages = [{\"role\": \"user\", \"content\": [{\"text\":\"What is the weight of Pikachu?\"}]}]\n",
    "tool_config = { \"tools\": [get_pokemon_info.tool_schema] }\n",
    "\n",
    "response = call_model(model_name=CLAUDE_MODEL, messages=messages, system=system, toolConfig=tool_config)\n",
    "pprint(response)"
   ]
  },
  {
   "cell_type": "markdown",
   "id": "d7350625",
   "metadata": {},
   "source": [
    "Let's create some helper functions to perform the tool calls"
   ]
  },
  {
   "cell_type": "code",
   "execution_count": 152,
   "id": "0938e29b",
   "metadata": {},
   "outputs": [],
   "source": [
    "def get_tool(tools: list[Callable], name: str) -> Callable:\n",
    "    for t in tools:\n",
    "        if t.__name__ == name:\n",
    "            return t\n",
    "    raise KeyError(f\"No tool with name {name} found\")\n",
    "\n",
    "def perform_tool_calls(tools: list[Callable], response: dict) -> list[dict]:\n",
    "    \"\"\"Perform the tool calls from a Bedrock response and return the messages with the tool call results\"\"\"\n",
    "    tool_content = []\n",
    "    if response[\"stopReason\"] == \"tool_use\":\n",
    "        print(\"LLM requested tool calls:\")\n",
    "        for message in response[\"output\"][\"message\"][\"content\"]:\n",
    "            if message.get(\"text\"):\n",
    "                print(message[\"text\"])\n",
    "            if message.get(\"toolUse\", False):\n",
    "                tool_name = message[\"toolUse\"][\"name\"]\n",
    "                tool_args = message[\"toolUse\"][\"input\"]\n",
    "                tool_use_id = message[\"toolUse\"][\"toolUseId\"]\n",
    "                print(f\"  - Tool: {tool_name}, Args: {tool_args}\")\n",
    "                \n",
    "                try:\n",
    "                    # Get the tool function and call it\n",
    "                    tool = get_tool(tools, tool_name)\n",
    "                    tool_response = tool(**tool_args)\n",
    "                    print(f\"  - Response: {tool_response}\")\n",
    "                    \n",
    "                    # Format the tool result for Bedrock\n",
    "                    tool_result = {\n",
    "                        \"toolUseId\": tool_use_id,\n",
    "                        \"status\": \"success\",\n",
    "                        \"content\": [{\"json\": {\"result\": tool_response}}]\n",
    "                    }\n",
    "                    \n",
    "                    # Add the tool result message\n",
    "                    tool_content.append({\"toolResult\": tool_result})\n",
    "                    \n",
    "                except Exception as e:\n",
    "                    print(f\"  - Error: {e}\")\n",
    "                    # Format error response\n",
    "                    tool_result = {\n",
    "                        \"toolUseId\": tool_use_id,\n",
    "                        \"status\": \"error\",\n",
    "                        \"content\": [{\"text\": f\"Error executing tool: {str(e)}\"}]\n",
    "                    }\n",
    "                    tool_content.append({\"toolResult\": tool_result})\n",
    "\n",
    "\n",
    "    return {\"role\": \"user\", \"content\": tool_content}"
   ]
  },
  {
   "cell_type": "code",
   "execution_count": 153,
   "id": "c5881ecb",
   "metadata": {},
   "outputs": [
    {
     "name": "stdout",
     "output_type": "stream",
     "text": [
      "LLM requested tool calls:\n",
      "I'll look up Pikachu's weight for you.\n",
      "  - Tool: get_pokemon_info, Args: {'pokemon_name': 'Pikachu'}\n",
      "  - Response: {'name': 'Pikachu', 'id': 25, 'weight': 60}\n"
     ]
    }
   ],
   "source": [
    "\n",
    "# add the tool call result to the messages\n",
    "messages.append(response[\"output\"][\"message\"])\n",
    "\n",
    "# add the tool call result to the messages\n",
    "messages.append(perform_tool_calls(tools=[get_pokemon_info], response=response))"
   ]
  },
  {
   "cell_type": "code",
   "execution_count": 154,
   "id": "ecfc0b63",
   "metadata": {},
   "outputs": [
    {
     "data": {
      "text/plain": [
       "[{'role': 'user', 'content': [{'text': 'What is the weight of Pikachu?'}]},\n",
       " {'role': 'assistant',\n",
       "  'content': [{'text': \"I'll look up Pikachu's weight for you.\"},\n",
       "   {'toolUse': {'toolUseId': 'tooluse_TkWI6RUgSzaI3JRls2gKKQ',\n",
       "     'name': 'get_pokemon_info',\n",
       "     'input': {'pokemon_name': 'Pikachu'}}}]},\n",
       " {'role': 'user',\n",
       "  'content': [{'toolResult': {'toolUseId': 'tooluse_TkWI6RUgSzaI3JRls2gKKQ',\n",
       "     'status': 'success',\n",
       "     'content': [{'json': {'result': {'name': 'Pikachu',\n",
       "         'id': 25,\n",
       "         'weight': 60}}}]}}]}]"
      ]
     },
     "execution_count": 154,
     "metadata": {},
     "output_type": "execute_result"
    }
   ],
   "source": [
    "messages"
   ]
  },
  {
   "cell_type": "code",
   "execution_count": 155,
   "id": "01a10b83",
   "metadata": {},
   "outputs": [
    {
     "data": {
      "text/html": [
       "<pre style=\"white-space:pre;overflow-x:auto;line-height:normal;font-family:Menlo,'DejaVu Sans Mono',consolas,'Courier New',monospace\"><span style=\"font-weight: bold\">{</span>\n",
       "<span style=\"color: #7fbf7f; text-decoration-color: #7fbf7f\">│   </span><span style=\"color: #008000; text-decoration-color: #008000\">'ResponseMetadata'</span>: <span style=\"font-weight: bold\">{</span>\n",
       "<span style=\"color: #7fbf7f; text-decoration-color: #7fbf7f\">│   │   </span><span style=\"color: #008000; text-decoration-color: #008000\">'RequestId'</span>: <span style=\"color: #008000; text-decoration-color: #008000\">'bd6318a7-ad77-40b0-9e2d-5634148cbd3d'</span>,\n",
       "<span style=\"color: #7fbf7f; text-decoration-color: #7fbf7f\">│   │   </span><span style=\"color: #008000; text-decoration-color: #008000\">'HTTPStatusCode'</span>: <span style=\"color: #008080; text-decoration-color: #008080; font-weight: bold\">200</span>,\n",
       "<span style=\"color: #7fbf7f; text-decoration-color: #7fbf7f\">│   │   </span><span style=\"color: #008000; text-decoration-color: #008000\">'HTTPHeaders'</span>: <span style=\"font-weight: bold\">{</span>\n",
       "<span style=\"color: #7fbf7f; text-decoration-color: #7fbf7f\">│   │   │   </span><span style=\"color: #008000; text-decoration-color: #008000\">'date'</span>: <span style=\"color: #008000; text-decoration-color: #008000\">'Thu, 26 Jun 2025 11:33:40 GMT'</span>,\n",
       "<span style=\"color: #7fbf7f; text-decoration-color: #7fbf7f\">│   │   │   </span><span style=\"color: #008000; text-decoration-color: #008000\">'content-type'</span>: <span style=\"color: #008000; text-decoration-color: #008000\">'application/json'</span>,\n",
       "<span style=\"color: #7fbf7f; text-decoration-color: #7fbf7f\">│   │   │   </span><span style=\"color: #008000; text-decoration-color: #008000\">'content-length'</span>: <span style=\"color: #008000; text-decoration-color: #008000\">'380'</span>,\n",
       "<span style=\"color: #7fbf7f; text-decoration-color: #7fbf7f\">│   │   │   </span><span style=\"color: #008000; text-decoration-color: #008000\">'connection'</span>: <span style=\"color: #008000; text-decoration-color: #008000\">'keep-alive'</span>,\n",
       "<span style=\"color: #7fbf7f; text-decoration-color: #7fbf7f\">│   │   │   </span><span style=\"color: #008000; text-decoration-color: #008000\">'x-amzn-requestid'</span>: <span style=\"color: #008000; text-decoration-color: #008000\">'bd6318a7-ad77-40b0-9e2d-5634148cbd3d'</span>\n",
       "<span style=\"color: #7fbf7f; text-decoration-color: #7fbf7f\">│   │   </span><span style=\"font-weight: bold\">}</span>,\n",
       "<span style=\"color: #7fbf7f; text-decoration-color: #7fbf7f\">│   │   </span><span style=\"color: #008000; text-decoration-color: #008000\">'RetryAttempts'</span>: <span style=\"color: #008080; text-decoration-color: #008080; font-weight: bold\">0</span>\n",
       "<span style=\"color: #7fbf7f; text-decoration-color: #7fbf7f\">│   </span><span style=\"font-weight: bold\">}</span>,\n",
       "<span style=\"color: #7fbf7f; text-decoration-color: #7fbf7f\">│   </span><span style=\"color: #008000; text-decoration-color: #008000\">'output'</span>: <span style=\"font-weight: bold\">{</span>\n",
       "<span style=\"color: #7fbf7f; text-decoration-color: #7fbf7f\">│   │   </span><span style=\"color: #008000; text-decoration-color: #008000\">'message'</span>: <span style=\"font-weight: bold\">{</span>\n",
       "<span style=\"color: #7fbf7f; text-decoration-color: #7fbf7f\">│   │   │   </span><span style=\"color: #008000; text-decoration-color: #008000\">'role'</span>: <span style=\"color: #008000; text-decoration-color: #008000\">'assistant'</span>,\n",
       "<span style=\"color: #7fbf7f; text-decoration-color: #7fbf7f\">│   │   │   </span><span style=\"color: #008000; text-decoration-color: #008000\">'content'</span>: <span style=\"font-weight: bold\">[</span>\n",
       "<span style=\"color: #7fbf7f; text-decoration-color: #7fbf7f\">│   │   │   │   </span><span style=\"font-weight: bold\">{</span>\n",
       "<span style=\"color: #7fbf7f; text-decoration-color: #7fbf7f\">│   │   │   │   │   </span><span style=\"color: #008000; text-decoration-color: #008000\">'text'</span>: <span style=\"color: #008000; text-decoration-color: #008000\">'Pikachu weighs 60 hectograms, which is equivalent to 6 kilograms or about 13.2 pounds.'</span>\n",
       "<span style=\"color: #7fbf7f; text-decoration-color: #7fbf7f\">│   │   │   │   </span><span style=\"font-weight: bold\">}</span>\n",
       "<span style=\"color: #7fbf7f; text-decoration-color: #7fbf7f\">│   │   │   </span><span style=\"font-weight: bold\">]</span>\n",
       "<span style=\"color: #7fbf7f; text-decoration-color: #7fbf7f\">│   │   </span><span style=\"font-weight: bold\">}</span>\n",
       "<span style=\"color: #7fbf7f; text-decoration-color: #7fbf7f\">│   </span><span style=\"font-weight: bold\">}</span>,\n",
       "<span style=\"color: #7fbf7f; text-decoration-color: #7fbf7f\">│   </span><span style=\"color: #008000; text-decoration-color: #008000\">'stopReason'</span>: <span style=\"color: #008000; text-decoration-color: #008000\">'end_turn'</span>,\n",
       "<span style=\"color: #7fbf7f; text-decoration-color: #7fbf7f\">│   </span><span style=\"color: #008000; text-decoration-color: #008000\">'usage'</span>: <span style=\"font-weight: bold\">{</span>\n",
       "<span style=\"color: #7fbf7f; text-decoration-color: #7fbf7f\">│   │   </span><span style=\"color: #008000; text-decoration-color: #008000\">'inputTokens'</span>: <span style=\"color: #008080; text-decoration-color: #008080; font-weight: bold\">537</span>,\n",
       "<span style=\"color: #7fbf7f; text-decoration-color: #7fbf7f\">│   │   </span><span style=\"color: #008000; text-decoration-color: #008000\">'outputTokens'</span>: <span style=\"color: #008080; text-decoration-color: #008080; font-weight: bold\">35</span>,\n",
       "<span style=\"color: #7fbf7f; text-decoration-color: #7fbf7f\">│   │   </span><span style=\"color: #008000; text-decoration-color: #008000\">'totalTokens'</span>: <span style=\"color: #008080; text-decoration-color: #008080; font-weight: bold\">572</span>,\n",
       "<span style=\"color: #7fbf7f; text-decoration-color: #7fbf7f\">│   │   </span><span style=\"color: #008000; text-decoration-color: #008000\">'cacheReadInputTokens'</span>: <span style=\"color: #008080; text-decoration-color: #008080; font-weight: bold\">0</span>,\n",
       "<span style=\"color: #7fbf7f; text-decoration-color: #7fbf7f\">│   │   </span><span style=\"color: #008000; text-decoration-color: #008000\">'cacheWriteInputTokens'</span>: <span style=\"color: #008080; text-decoration-color: #008080; font-weight: bold\">0</span>\n",
       "<span style=\"color: #7fbf7f; text-decoration-color: #7fbf7f\">│   </span><span style=\"font-weight: bold\">}</span>,\n",
       "<span style=\"color: #7fbf7f; text-decoration-color: #7fbf7f\">│   </span><span style=\"color: #008000; text-decoration-color: #008000\">'metrics'</span>: <span style=\"font-weight: bold\">{</span><span style=\"color: #008000; text-decoration-color: #008000\">'latencyMs'</span>: <span style=\"color: #008080; text-decoration-color: #008080; font-weight: bold\">1563</span><span style=\"font-weight: bold\">}</span>\n",
       "<span style=\"font-weight: bold\">}</span>\n",
       "</pre>\n"
      ],
      "text/plain": [
       "\u001b[1m{\u001b[0m\n",
       "\u001b[2;32m│   \u001b[0m\u001b[32m'ResponseMetadata'\u001b[0m: \u001b[1m{\u001b[0m\n",
       "\u001b[2;32m│   │   \u001b[0m\u001b[32m'RequestId'\u001b[0m: \u001b[32m'bd6318a7-ad77-40b0-9e2d-5634148cbd3d'\u001b[0m,\n",
       "\u001b[2;32m│   │   \u001b[0m\u001b[32m'HTTPStatusCode'\u001b[0m: \u001b[1;36m200\u001b[0m,\n",
       "\u001b[2;32m│   │   \u001b[0m\u001b[32m'HTTPHeaders'\u001b[0m: \u001b[1m{\u001b[0m\n",
       "\u001b[2;32m│   │   │   \u001b[0m\u001b[32m'date'\u001b[0m: \u001b[32m'Thu, 26 Jun 2025 11:33:40 GMT'\u001b[0m,\n",
       "\u001b[2;32m│   │   │   \u001b[0m\u001b[32m'content-type'\u001b[0m: \u001b[32m'application/json'\u001b[0m,\n",
       "\u001b[2;32m│   │   │   \u001b[0m\u001b[32m'content-length'\u001b[0m: \u001b[32m'380'\u001b[0m,\n",
       "\u001b[2;32m│   │   │   \u001b[0m\u001b[32m'connection'\u001b[0m: \u001b[32m'keep-alive'\u001b[0m,\n",
       "\u001b[2;32m│   │   │   \u001b[0m\u001b[32m'x-amzn-requestid'\u001b[0m: \u001b[32m'bd6318a7-ad77-40b0-9e2d-5634148cbd3d'\u001b[0m\n",
       "\u001b[2;32m│   │   \u001b[0m\u001b[1m}\u001b[0m,\n",
       "\u001b[2;32m│   │   \u001b[0m\u001b[32m'RetryAttempts'\u001b[0m: \u001b[1;36m0\u001b[0m\n",
       "\u001b[2;32m│   \u001b[0m\u001b[1m}\u001b[0m,\n",
       "\u001b[2;32m│   \u001b[0m\u001b[32m'output'\u001b[0m: \u001b[1m{\u001b[0m\n",
       "\u001b[2;32m│   │   \u001b[0m\u001b[32m'message'\u001b[0m: \u001b[1m{\u001b[0m\n",
       "\u001b[2;32m│   │   │   \u001b[0m\u001b[32m'role'\u001b[0m: \u001b[32m'assistant'\u001b[0m,\n",
       "\u001b[2;32m│   │   │   \u001b[0m\u001b[32m'content'\u001b[0m: \u001b[1m[\u001b[0m\n",
       "\u001b[2;32m│   │   │   │   \u001b[0m\u001b[1m{\u001b[0m\n",
       "\u001b[2;32m│   │   │   │   │   \u001b[0m\u001b[32m'text'\u001b[0m: \u001b[32m'Pikachu weighs 60 hectograms, which is equivalent to 6 kilograms or about 13.2 pounds.'\u001b[0m\n",
       "\u001b[2;32m│   │   │   │   \u001b[0m\u001b[1m}\u001b[0m\n",
       "\u001b[2;32m│   │   │   \u001b[0m\u001b[1m]\u001b[0m\n",
       "\u001b[2;32m│   │   \u001b[0m\u001b[1m}\u001b[0m\n",
       "\u001b[2;32m│   \u001b[0m\u001b[1m}\u001b[0m,\n",
       "\u001b[2;32m│   \u001b[0m\u001b[32m'stopReason'\u001b[0m: \u001b[32m'end_turn'\u001b[0m,\n",
       "\u001b[2;32m│   \u001b[0m\u001b[32m'usage'\u001b[0m: \u001b[1m{\u001b[0m\n",
       "\u001b[2;32m│   │   \u001b[0m\u001b[32m'inputTokens'\u001b[0m: \u001b[1;36m537\u001b[0m,\n",
       "\u001b[2;32m│   │   \u001b[0m\u001b[32m'outputTokens'\u001b[0m: \u001b[1;36m35\u001b[0m,\n",
       "\u001b[2;32m│   │   \u001b[0m\u001b[32m'totalTokens'\u001b[0m: \u001b[1;36m572\u001b[0m,\n",
       "\u001b[2;32m│   │   \u001b[0m\u001b[32m'cacheReadInputTokens'\u001b[0m: \u001b[1;36m0\u001b[0m,\n",
       "\u001b[2;32m│   │   \u001b[0m\u001b[32m'cacheWriteInputTokens'\u001b[0m: \u001b[1;36m0\u001b[0m\n",
       "\u001b[2;32m│   \u001b[0m\u001b[1m}\u001b[0m,\n",
       "\u001b[2;32m│   \u001b[0m\u001b[32m'metrics'\u001b[0m: \u001b[1m{\u001b[0m\u001b[32m'latencyMs'\u001b[0m: \u001b[1;36m1563\u001b[0m\u001b[1m}\u001b[0m\n",
       "\u001b[1m}\u001b[0m\n"
      ]
     },
     "metadata": {},
     "output_type": "display_data"
    }
   ],
   "source": [
    "final_response = call_model(model_name=CLAUDE_MODEL, messages=messages, toolConfig=tool_config)\n",
    "pprint(final_response)\n"
   ]
  },
  {
   "cell_type": "markdown",
   "id": "b3956939",
   "metadata": {},
   "source": [
    "Let's wrap this in a function and add a few more tools."
   ]
  },
  {
   "cell_type": "code",
   "execution_count": 166,
   "id": "10ab1b81",
   "metadata": {},
   "outputs": [],
   "source": [
    "@weave.op\n",
    "def pokedex(pokemon_question: str) -> str:\n",
    "    system = [{\"text\": \"You are a helpful assistant that can use tools to answer questions.\"}]\n",
    "    messages = [{\"role\": \"user\", \"content\": [{\"text\": pokemon_question}]}]\n",
    "    \n",
    "    # Create tool config for Bedrock\n",
    "    tool_config = {\"tools\": [get_pokemon_info.tool_schema]}\n",
    "\n",
    "    # call model with tools\n",
    "    response = call_model(\n",
    "        model_name=CLAUDE_MODEL, \n",
    "        messages=messages,\n",
    "        system=system,\n",
    "        toolConfig=tool_config\n",
    "    )\n",
    "\n",
    "    # add the assistant's response to the messages\n",
    "    messages.append(response[\"output\"][\"message\"])\n",
    "    # pprint(messages)\n",
    "\n",
    "    # perform the tool calls if any\n",
    "    tool_result_messages = perform_tool_calls(tools=[get_pokemon_info], response=response)\n",
    "    messages.append(tool_result_messages)\n",
    "    # pprint(messages)\n",
    "\n",
    "    # get final response\n",
    "    final_response = call_model(\n",
    "        model_name=CLAUDE_MODEL, \n",
    "        messages=messages,\n",
    "        system=system,\n",
    "        toolConfig=tool_config\n",
    "    )\n",
    "    \n",
    "    return final_response[\"output\"][\"message\"][\"content\"][-1][\"text\"]"
   ]
  },
  {
   "cell_type": "code",
   "execution_count": 168,
   "id": "bc0183b1",
   "metadata": {},
   "outputs": [
    {
     "name": "stdout",
     "output_type": "stream",
     "text": [
      "LLM requested tool calls:\n",
      "I'll help you find the combined weight of Ash's first 3 Pokémon. Ash's original team consisted of Pikachu, Bulbasaur, and Charmander. Let me get their weight information.\n",
      "  - Tool: get_pokemon_info, Args: {'pokemon_name': 'pikachu'}\n",
      "  - Response: {'name': 'Pikachu', 'id': 25, 'weight': 60}\n",
      "  - Tool: get_pokemon_info, Args: {'pokemon_name': 'bulbasaur'}\n",
      "  - Response: {'name': 'Bulbasaur', 'id': 1, 'weight': 69}\n",
      "  - Tool: get_pokemon_info, Args: {'pokemon_name': 'charmander'}\n",
      "  - Response: {'name': 'Charmander', 'id': 4, 'weight': 85}\n",
      "Based on the information retrieved:\n",
      "\n",
      "- **Pikachu**: 60 hectograms (6.0 kg)\n",
      "- **Bulbasaur**: 69 hectograms (6.9 kg) \n",
      "- **Charmander**: 85 hectograms (8.5 kg)\n",
      "\n",
      "**Combined weight**: 60 + 69 + 85 = **214 hectograms** (21.4 kg or 47.2 lbs)\n",
      "\n",
      "So Ash's first three Pokémon have a combined weight of 214 hectograms or 21.4 kilograms.\n"
     ]
    }
   ],
   "source": [
    "response = pokedex(\"What is the combined weight of Ash's first 3 pokemons?\")\n",
    "print(response)"
   ]
  },
  {
   "cell_type": "markdown",
   "id": "dedaa4a4",
   "metadata": {},
   "source": [
    "![](br_images/04_pokedex.png)\n",
    "\n",
    "This is \"Almost\" an agent, but it's missing the loop. Let's add that next."
   ]
  },
  {
   "cell_type": "markdown",
   "id": "efd890f5",
   "metadata": {},
   "source": [
    "## 4. Implementing a Basic Agentic Loop\n",
    "\n",
    "Let's implement a basic agentic loop. We'll use the `pokedex` function we just created. The implementation we have above has some limitations:\n",
    "- Its a single turn, so if it fails to answer my question in one pass it is over.\n",
    "\n",
    "![](images/05_agent.png)\n",
    "\n",
    "From the really good [Anthropic Building Effective Agents](https://www.anthropic.com/engineering/building-effective-agents) article and encourage people to read it."
   ]
  },
  {
   "cell_type": "markdown",
   "id": "1737003e",
   "metadata": {},
   "source": [
    "A simple for loop"
   ]
  },
  {
   "cell_type": "code",
   "execution_count": 169,
   "id": "63bc2975",
   "metadata": {},
   "outputs": [],
   "source": [
    "@weave.op\n",
    "def pokedex_loop(pokemon_question: str, max_turns: int = 4, tools = [get_pokemon_info, add_numbers]) -> str:\n",
    "    system = [{\"text\": \"You are a helpful assistant that can use tools to answer questions.\"}]\n",
    "    messages = [{\"role\": \"user\", \"content\": [{\"text\": pokemon_question}]}]\n",
    "    \n",
    "    # Create tool config for Bedrock\n",
    "    tool_config = {\"tools\": [t.tool_schema for t in tools]}\n",
    "    \n",
    "    for turn in range(max_turns):\n",
    "        print(f\"--- Agent Loop Turn {turn + 1}/{max_turns} ---\")\n",
    "\n",
    "        # call model with tools\n",
    "        response = call_model(\n",
    "            model_name=CLAUDE_MODEL, \n",
    "            messages=messages,\n",
    "            system=system,\n",
    "            toolConfig=tool_config\n",
    "        )\n",
    "\n",
    "        # add the assistant's response to the messages\n",
    "        messages.append(response[\"output\"][\"message\"])\n",
    "\n",
    "        # if the LLM requested tool calls, perform them\n",
    "        if response[\"stopReason\"] == \"tool_use\":\n",
    "            print(\"LLM requested tool calls:\")\n",
    "            # perform the tool calls\n",
    "            tool_result_messages = perform_tool_calls(tools=tools, response=response)\n",
    "            messages.append(tool_result_messages)\n",
    "        # LLM gave content response\n",
    "        elif response[\"stopReason\"] == \"end_turn\":\n",
    "            # Extract text content from response\n",
    "            content = \"\"\n",
    "            for content_item in response[\"output\"][\"message\"][\"content\"]:\n",
    "                if content_item.get(\"text\"):\n",
    "                    content += content_item[\"text\"]\n",
    "            print(f\"LLM content response: {content}\")\n",
    "            return content\n",
    "        else:\n",
    "            print(f\"LLM response had unexpected stop reason: {response['stopReason']}. Stopping loop.\")\n",
    "            break\n",
    "    \n",
    "    # If we reach max_turns without a final response, return the last assistant message\n",
    "    if messages and messages[-1][\"role\"] == \"assistant\":\n",
    "        content = \"\"\n",
    "        for content_item in messages[-1][\"content\"]:\n",
    "            if content_item.get(\"text\"):\n",
    "                content += content_item[\"text\"]\n",
    "        return content\n",
    "    \n",
    "    return \"No response generated within max turns.\""
   ]
  },
  {
   "cell_type": "code",
   "execution_count": 170,
   "id": "fecad3a4",
   "metadata": {},
   "outputs": [
    {
     "name": "stdout",
     "output_type": "stream",
     "text": [
      "--- Agent Loop Turn 1/4 ---\n",
      "LLM requested tool calls:\n",
      "LLM requested tool calls:\n",
      "I'll help you find the combined weight of Ash's first 3 Pokémon. Ash's first three Pokémon were Pikachu, Caterpie, and Pidgeotto. Let me get their weight information.\n",
      "  - Tool: get_pokemon_info, Args: {'pokemon_name': 'pikachu'}\n",
      "  - Response: {'name': 'Pikachu', 'id': 25, 'weight': 60}\n",
      "  - Tool: get_pokemon_info, Args: {'pokemon_name': 'caterpie'}\n",
      "  - Response: {'name': 'Caterpie', 'id': 10, 'weight': 29}\n",
      "  - Tool: get_pokemon_info, Args: {'pokemon_name': 'pidgeotto'}\n",
      "  - Response: {'name': 'Pidgeotto', 'id': 17, 'weight': 300}\n",
      "--- Agent Loop Turn 2/4 ---\n",
      "LLM requested tool calls:\n",
      "LLM requested tool calls:\n",
      "Now let me add up their weights:\n",
      "  - Tool: add_numbers, Args: {'a': 60, 'b': 29}\n",
      "  - Response: 89\n",
      "--- Agent Loop Turn 3/4 ---\n",
      "LLM requested tool calls:\n",
      "LLM requested tool calls:\n",
      "  - Tool: add_numbers, Args: {'a': 89, 'b': 300}\n",
      "  - Response: 389\n",
      "--- Agent Loop Turn 4/4 ---\n",
      "LLM content response: The combined weight of Ash's first 3 Pokémon is **389 hectograms** (which equals 38.9 kg or about 85.8 lbs).\n",
      "\n",
      "Here's the breakdown:\n",
      "- Pikachu: 60 hectograms\n",
      "- Caterpie: 29 hectograms  \n",
      "- Pidgeotto: 300 hectograms\n",
      "- **Total: 389 hectograms**\n"
     ]
    },
    {
     "data": {
      "text/plain": [
       "\"The combined weight of Ash's first 3 Pokémon is **389 hectograms** (which equals 38.9 kg or about 85.8 lbs).\\n\\nHere's the breakdown:\\n- Pikachu: 60 hectograms\\n- Caterpie: 29 hectograms  \\n- Pidgeotto: 300 hectograms\\n- **Total: 389 hectograms**\""
      ]
     },
     "execution_count": 170,
     "metadata": {},
     "output_type": "execute_result"
    }
   ],
   "source": [
    "pokedex_loop(\"What is the combined weight of Ash's first 3 pokemons?\")"
   ]
  },
  {
   "cell_type": "markdown",
   "id": "7c031bde",
   "metadata": {},
   "source": [
    "![](br_images/05_pokedex_loop.png)"
   ]
  },
  {
   "cell_type": "markdown",
   "id": "238a3967",
   "metadata": {},
   "source": [
    "This one is kind of an hallucination, I was expecting snorlax to be the heaviest pokemon."
   ]
  },
  {
   "cell_type": "code",
   "execution_count": 172,
   "id": "ba8cf35c",
   "metadata": {},
   "outputs": [
    {
     "name": "stdout",
     "output_type": "stream",
     "text": [
      "--- Agent Loop Turn 1/4 ---\n",
      "LLM content response: I'd be happy to help you find the heaviest Pokémon! However, I don't have access to a comprehensive database or comparison tool that would let me search through all Pokémon at once to find the heaviest one.\n",
      "\n",
      "With the tools I have available, I can only look up individual Pokémon by name or ID to get their weight information. If you have some specific Pokémon in mind that you think might be among the heaviest (like some of the legendary or especially large Pokémon), I could look those up and compare their weights for you.\n",
      "\n",
      "Some Pokémon that are often considered among the heaviest include:\n",
      "- Groudon\n",
      "- Dialga\n",
      "- Giratina\n",
      "- Wailord\n",
      "- Celesteela\n",
      "\n",
      "Would you like me to check the weights of any specific Pokémon, or do you have particular ones in mind that you'd like me to compare?\n"
     ]
    },
    {
     "data": {
      "text/plain": [
       "\"I'd be happy to help you find the heaviest Pokémon! However, I don't have access to a comprehensive database or comparison tool that would let me search through all Pokémon at once to find the heaviest one.\\n\\nWith the tools I have available, I can only look up individual Pokémon by name or ID to get their weight information. If you have some specific Pokémon in mind that you think might be among the heaviest (like some of the legendary or especially large Pokémon), I could look those up and compare their weights for you.\\n\\nSome Pokémon that are often considered among the heaviest include:\\n- Groudon\\n- Dialga\\n- Giratina\\n- Wailord\\n- Celesteela\\n\\nWould you like me to check the weights of any specific Pokémon, or do you have particular ones in mind that you'd like me to compare?\""
      ]
     },
     "execution_count": 172,
     "metadata": {},
     "output_type": "execute_result"
    }
   ],
   "source": [
    "pokedex_loop(\"Which is the heaviest pokemon?\")"
   ]
  },
  {
   "cell_type": "markdown",
   "id": "60e589c3",
   "metadata": {},
   "source": [
    "## 5. Structuring the Agent with Classes\n",
    "\n",
    "The loop above works, but for more complex agents, encapsulating the logic and state within classes is much better. We'll define:\n",
    "- `AgentState`: A Pydantic model to hold the conversation history and potentially other state.\n",
    "- `SimpleAgent`: A class containing the agent's configuration (model, system message, tools) and logic (`step`, `run`)."
   ]
  },
  {
   "cell_type": "code",
   "execution_count": 173,
   "id": "26f57c8e",
   "metadata": {},
   "outputs": [],
   "source": [
    "class AgentState(BaseModel):\n",
    "    \"\"\"Manages the state of the agent.\"\"\"\n",
    "    messages: List[Dict[str, Any]] = Field(default_factory=list)\n",
    "    step: int = Field(default=0)\n",
    "    final_assistant_content: str | None = None # Populated at the end of a run\n",
    "\n",
    "class SimpleAgent:\n",
    "    \"\"\"A simple agent class with tracing, state, and tool processing.\"\"\"\n",
    "    def __init__(self, model_name: str, system_message: str, tools: List[Callable]):\n",
    "        self.model_name = model_name\n",
    "        self.system_message = system_message\n",
    "        self.tools = [function_tool(t) for t in tools] # add schemas to the tools\n",
    "    \n",
    "    @weave.op(name=\"SimpleAgent.step\") # Trace each step\n",
    "    def step(self, state: AgentState) -> AgentState:\n",
    "        step = state.step + 1\n",
    "        messages = state.messages\n",
    "        final_assistant_content = None\n",
    "        \n",
    "        try:\n",
    "            # Create system and tool config for Bedrock\n",
    "            system = [{\"text\": self.system_message}]\n",
    "            tool_config = {\"tools\": [t.tool_schema for t in self.tools]}\n",
    "            \n",
    "            # call model with tools\n",
    "            response = call_model(\n",
    "                model_name=self.model_name, \n",
    "                messages=messages,\n",
    "                system=system,\n",
    "                toolConfig=tool_config\n",
    "            )\n",
    "\n",
    "            # add the assistant's response to the messages\n",
    "            messages.append(response[\"output\"][\"message\"])\n",
    "\n",
    "            # if the LLM requested tool calls, perform them\n",
    "            if response[\"stopReason\"] == \"tool_use\":\n",
    "                print(\"LLM requested tool calls:\")\n",
    "                # perform the tool calls\n",
    "                tool_result_messages = perform_tool_calls(tools=self.tools, response=response)\n",
    "                messages.append(tool_result_messages)\n",
    "            \n",
    "            # LLM gave content response\n",
    "            elif response[\"stopReason\"] == \"end_turn\":\n",
    "                # Extract text content from Bedrock response\n",
    "                content = \"\"\n",
    "                for content_item in response[\"output\"][\"message\"][\"content\"]:\n",
    "                    if content_item.get(\"text\"):\n",
    "                        content += content_item[\"text\"]\n",
    "                final_assistant_content = content\n",
    "            else:\n",
    "                print(f\"Unexpected stop reason: {response['stopReason']}\")\n",
    "                \n",
    "        except Exception as e:\n",
    "            print(f\"ERROR in Agent Step: {e}\")\n",
    "            # Add an error message to history in Bedrock format\n",
    "            error_message = {\n",
    "                \"role\": \"assistant\", \n",
    "                \"content\": [{\"text\": f\"Agent error in step: {str(e)}\"}]\n",
    "            }\n",
    "            messages.append(error_message)\n",
    "            final_assistant_content = f\"Agent error in step {step}: {str(e)}\"\n",
    "            \n",
    "        return AgentState(messages=messages, step=step, final_assistant_content=final_assistant_content)\n",
    "\n",
    "    @weave.op(name=\"SimpleAgent.run\")\n",
    "    def run(self, user_prompt: str, max_turns: int = 10) -> AgentState:\n",
    "        # Initialize state with Bedrock message format\n",
    "        state = AgentState(messages=[\n",
    "            {\"role\": \"user\", \"content\": [{\"text\": user_prompt}]}\n",
    "        ])\n",
    "        \n",
    "        for _ in range(max_turns):\n",
    "            print(f\"--- Agent Loop Turn {state.step + 1}/{max_turns} ---\")\n",
    "            state = self.step(state)\n",
    "            if state.final_assistant_content:\n",
    "                return state\n",
    "        return state"
   ]
  },
  {
   "cell_type": "markdown",
   "id": "80842566",
   "metadata": {},
   "source": [
    "![](images/07_simple_agent.png)"
   ]
  },
  {
   "cell_type": "code",
   "execution_count": 174,
   "id": "6ce6b40a",
   "metadata": {},
   "outputs": [
    {
     "name": "stdout",
     "output_type": "stream",
     "text": [
      "--- Agent Loop Turn 1/10 ---\n",
      "LLM requested tool calls:\n",
      "LLM requested tool calls:\n",
      "I'll help you find the combined weight of Ash's first 3 Pokémon. Ash's first three Pokémon were Pikachu, Caterpie, and Pidgeotto. Let me get their weight information:\n",
      "  - Tool: get_pokemon_info, Args: {'pokemon_name': 'pikachu'}\n",
      "  - Response: {'name': 'Pikachu', 'id': 25, 'weight': 60}\n",
      "  - Tool: get_pokemon_info, Args: {'pokemon_name': 'caterpie'}\n",
      "  - Response: {'name': 'Caterpie', 'id': 10, 'weight': 29}\n",
      "  - Tool: get_pokemon_info, Args: {'pokemon_name': 'pidgeotto'}\n",
      "  - Response: {'name': 'Pidgeotto', 'id': 17, 'weight': 300}\n",
      "--- Agent Loop Turn 2/10 ---\n",
      "LLM requested tool calls:\n",
      "LLM requested tool calls:\n",
      "Now let me calculate the combined weight:\n",
      "  - Tool: add_numbers, Args: {'a': 60, 'b': 29}\n",
      "  - Response: 89\n",
      "--- Agent Loop Turn 3/10 ---\n",
      "LLM requested tool calls:\n",
      "LLM requested tool calls:\n",
      "  - Tool: add_numbers, Args: {'a': 89, 'b': 300}\n",
      "  - Response: 389\n",
      "--- Agent Loop Turn 4/10 ---\n",
      "Final response: The combined weight of Ash's first 3 Pokémon is **389 hectograms** (or 38.9 kg).\n",
      "\n",
      "Here's the breakdown:\n",
      "- Pikachu: 60 hectograms (6.0 kg)\n",
      "- Caterpie: 29 hectograms (2.9 kg) \n",
      "- Pidgeotto: 300 hectograms (30.0 kg)\n",
      "- **Total: 389 hectograms (38.9 kg)**\n"
     ]
    }
   ],
   "source": [
    "agent = SimpleAgent(\n",
    "    model_name=CLAUDE_MODEL,\n",
    "    system_message=\"You are a helpful assistant that can use tools to answer questions.\",\n",
    "    tools=[get_pokemon_info, add_numbers]\n",
    ")\n",
    "state = agent.run(user_prompt=\"What is the combined weight of Ash's first 3 pokemons?\")\n",
    "print(f\"Final response: {state.final_assistant_content}\")\n"
   ]
  },
  {
   "cell_type": "markdown",
   "id": "4e9cd3c5",
   "metadata": {},
   "source": [
    "![](br_images/06_agent.png)\n",
    "\n",
    "Possible improvements to the SimpleAgent:\n",
    "- Give the model info about the state of the conversation, you could inject a message with the model context pressure, steps left, etc.\n",
    "- Structured output. Make the model output a specific format, for instance a JSON with the expected fields.\n",
    "- Add more tools like read and write files, access a database.\n",
    "- Agent handoff: Agent1 does triage and Agent2 executes specific tasks."
   ]
  },
  {
   "cell_type": "markdown",
   "id": "9c1a4c67",
   "metadata": {},
   "source": []
  }
 ],
 "metadata": {
  "kernelspec": {
   "display_name": ".venv",
   "language": "python",
   "name": "python3"
  },
  "language_info": {
   "codemirror_mode": {
    "name": "ipython",
    "version": 3
   },
   "file_extension": ".py",
   "mimetype": "text/x-python",
   "name": "python",
   "nbconvert_exporter": "python",
   "pygments_lexer": "ipython3",
   "version": "3.12.9"
  }
 },
 "nbformat": 4,
 "nbformat_minor": 5
}
