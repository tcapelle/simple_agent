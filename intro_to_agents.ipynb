{
 "cells": [
  {
   "cell_type": "markdown",
   "id": "85671824",
   "metadata": {},
   "source": [
    "# Introduction to Building LLM Agents with Tools and Tracing\n",
    "\n",
    "This script walks through the process of building a simple LLM-powered agent that can use tools (functions) to answer questions. We'll cover:\n",
    "1. Making basic LLM calls.\n",
    "2. Introducing Weave for tracing and observability.\n",
    "3. Defining tools for the LLM (manually and automatically).\n",
    "4. Implementing a basic agentic loop.\n",
    "5. Structuring the agent using Python classes.\n",
    "6. Running the agent on a multi-step task."
   ]
  },
  {
   "cell_type": "markdown",
   "id": "803fbc4f",
   "metadata": {},
   "source": [
    "**Prerequisites:**\n",
    "Make sure you have the necessary libraries installed:\n",
    "```bash\n",
    "!pip install weave requests \"mistralai[gcp]>=1.0.0\"\n",
    "```\n"
   ]
  },
  {
   "cell_type": "code",
   "execution_count": 1,
   "id": "96d103af",
   "metadata": {},
   "outputs": [],
   "source": [
    "# Global Configuration & Setup\n",
    "import inspect\n",
    "import json\n",
    "import os\n",
    "import requests\n",
    "import weave # Must import weave before litellm for auto-patching\n",
    "from enum import Enum\n",
    "from pydantic import BaseModel, Field\n",
    "from rich.pretty import pprint\n",
    "from typing import Any, Callable, Dict, List, get_type_hints\n",
    "\n",
    "# from mistralai_gcp import MistralGoogleCloud\n",
    "from mistralai import Mistral"
   ]
  },
  {
   "cell_type": "markdown",
   "id": "78cf6667",
   "metadata": {},
   "source": [
    "Define a model to use, as we are going to use tool calling you need a capable model like `mistral-large`"
   ]
  },
  {
   "cell_type": "code",
   "execution_count": 2,
   "id": "8874a614",
   "metadata": {},
   "outputs": [],
   "source": [
    "\n",
    "# Set the model name you want to use globally.\n",
    "\n",
    "MISTRAL_LARGE_MODEL = \"mistral-large-2411\" # vertex name for the model\n",
    "MISTRAL_MEDIUM_MODEL = \"mistral-medium-latest\"\n",
    "MISTRAL_SMALL_MODEL = \"mistral-small-2503\"\n",
    "\n",
    "client = Mistral(api_key=os.environ.get(\"MISTRAL_API_KEY\"))\n",
    "\n",
    "# region = os.environ.get(\"GOOGLE_CLOUD_REGION\")\n",
    "# project_id = os.environ.get(\"GOOGLE_CLOUD_PROJECT_ID\")\n",
    "# client = MistralGoogleCloud(region=region, project_id=project_id, timeout_ms=120_000)"
   ]
  },
  {
   "cell_type": "markdown",
   "id": "d48c55be",
   "metadata": {},
   "source": [
    "Let's log to [W&B Weave](https://weave-docs.wandb.ai/). Weights & Biases (W&B) Weave is a framework for tracking, experimenting with, evaluating, deploying, and improving LLM-based applications. Designed for flexibility and scalability, Weave supports every stage of your LLM application development workflow:\n",
    "\n",
    "- Tracing & Monitoring: Track LLM calls and application logic to debug and analyze production systems.\n",
    "- Systematic Iteration: Refine and iterate on prompts, datasets, and models.\n",
    "- Experimentation: Experiment with different models and prompts in the LLM Playground.\n",
    "- Evaluation: Use custom or pre-built scorers alongside our comparison tools to systematically assess and enhance application performance.\n",
    "- Guardrails: Protect your application with pre- and post-safeguards for content moderation, prompt safety, and more."
   ]
  },
  {
   "cell_type": "code",
   "execution_count": 3,
   "id": "e70b57d9",
   "metadata": {},
   "outputs": [
    {
     "name": "stderr",
     "output_type": "stream",
     "text": [
      "/Users/tcapelle/work/phd_researcher/.venv/lib/python3.12/site-packages/tqdm/auto.py:21: TqdmWarning: IProgress not found. Please update jupyter and ipywidgets. See https://ipywidgets.readthedocs.io/en/stable/user_install.html\n",
      "  from .autonotebook import tqdm as notebook_tqdm\n"
     ]
    },
    {
     "name": "stdout",
     "output_type": "stream",
     "text": [
      "weave version 0.51.45 is available!  To upgrade, please run:\n",
      " $ pip install weave --upgrade\n",
      "Logged in as Weights & Biases user: capecape.\n",
      "View Weave data at https://wandb.ai/capecape/paris-woprkshop-2025/weave\n"
     ]
    },
    {
     "data": {
      "text/plain": [
       "<weave.trace.weave_client.WeaveClient at 0x10e0be750>"
      ]
     },
     "execution_count": 3,
     "metadata": {},
     "output_type": "execute_result"
    }
   ],
   "source": [
    "\n",
    "# Initialize a Weave project. Traces will be sent here.\n",
    "# You can view them in the Weave UI (usually runs locally).\n",
    "weave.init('paris-woprkshop-2025')"
   ]
  },
  {
   "cell_type": "markdown",
   "id": "13266e05",
   "metadata": {},
   "source": [
    "## 1. Basic LLM Call with Mistral SDK\n",
    "\n",
    "Let's start with a simple call to the LLM using/\n",
    "\n",
    "![](images/01_trace.png)"
   ]
  },
  {
   "cell_type": "code",
   "execution_count": 4,
   "id": "f9ec1b77",
   "metadata": {},
   "outputs": [
    {
     "name": "stdout",
     "output_type": "stream",
     "text": [
      "🍩 https://wandb.ai/capecape/paris-woprkshop-2025/r/call/0196b5fd-8b53-7542-95bc-391ca3622f00\n",
      "LLM Response:\\nHello! An AI agent is a software entity that can perceive its environment and take actions to achieve its goals. Here's a simplified breakdown of how an AI agent typically works:\n",
      "\n",
      "### 1. **Perception**\n",
      "   - **Sensors**: The agent uses sensors to gather information from its environment. These sensors can be physical (like cameras, microphones, or temperature sensors) or virtual (like data from a database or web scraping).\n",
      "   - **Data Processing**: The raw data from the sensors is processed to extract meaningful information. This might involve filtering, normalization, or other forms of data preprocessing.\n",
      "\n",
      "### 2. **Knowledge Representation**\n",
      "   - **Models**: The agent uses models to represent its knowledge about the environment. These models can be rule-based, probabilistic, or based on machine learning algorithms.\n",
      "   - **State Representation**: The agent maintains a representation of the current state of the environment, which it updates based on new sensor data.\n",
      "\n",
      "### 3. **Decision Making**\n",
      "   - **Goal Setting**: The agent has predefined goals or objectives that it aims to achieve.\n",
      "   - **Planning**: The agent plans a sequence of actions to achieve its goals. This can involve search algorithms, optimization techniques, or reinforcement learning.\n",
      "   - **Action Selection**: The agent selects the best action based on its current state and goals. This might involve evaluating multiple possible actions and choosing the one that maximizes some utility function.\n",
      "\n",
      "### 4. **Action Execution**\n",
      "   - **Actuators**: The agent uses actuators to execute its chosen actions. These can be physical (like motors, speakers, or displays) or virtual (like sending commands to other software systems).\n",
      "   - **Feedback Loop**: The agent observes the results of its actions and updates its state representation accordingly. This feedback loop allows the agent to adapt and learn over time.\n",
      "\n",
      "### 5. **Learning**\n",
      "   - **Machine Learning**: The agent can use machine learning algorithms to improve its performance over time. This might involve supervised learning, unsupervised learning, or reinforcement learning.\n",
      "   - **Adaptation**: The agent can adapt its models and strategies based on new data and experiences, allowing it to become more effective over time.\n",
      "\n",
      "### Key Components\n",
      "- **Perception Module**: Handles sensor data and updates the agent's state representation.\n",
      "- **Knowledge Base**: Stores the agent's knowledge and models of the environment.\n",
      "- **Decision Module**: Plans and selects actions based on the agent's goals and current state.\n",
      "- **Action Module**: Executes the chosen actions and interacts with the environment.\n",
      "- **Learning Module**: Updates the agent's models and strategies based on new data and experiences.\n",
      "\n",
      "### Examples\n",
      "- **Robotics**: A robot that navigates a maze uses sensors to perceive its environment, a map to represent its knowledge, and a planning algorithm to decide the best path to the exit.\n",
      "- **Virtual Assistants**: A virtual assistant like Siri or Alexa uses natural language processing to understand user queries, a knowledge base to provide relevant information, and a decision module to determine the best response.\n",
      "- **Game AI**: An AI in a video game uses sensors to perceive the game state, a model to represent the game rules, and a decision module to choose the best moves to win the game.\n",
      "\n",
      "In summary, an AI agent works by perceiving its environment, representing its knowledge, making decisions based on its goals, executing actions, and learning from its experiences.\n"
     ]
    }
   ],
   "source": [
    "# Define a simple message list (conversation history)\n",
    "messages = [{\"role\": \"user\", \"content\": \"Hello, LLM! How does an AI agent work?\"}]\n",
    "\n",
    "# Make the call\n",
    "response = resp = client.chat.complete(\n",
    "    model = MISTRAL_SMALL_MODEL,\n",
    "    messages=messages,\n",
    ")\n",
    "# Print the response content\n",
    "assistant_response = response.choices[0].message.content\n",
    "print(f\"LLM Response:\\\\n{assistant_response}\")\n",
    "\n",
    "# Click on the 🍩 linke below to see the trace in Weave 👇"
   ]
  },
  {
   "cell_type": "markdown",
   "id": "795ead84",
   "metadata": {},
   "source": [
    "Because we imported `weave` before `litellm` and called `weave.init()`, the Mistral SDK call above was automatically traced. You can open your Weave dashboard and see the trace, including the input messages, output response, latency, model used, etc. This is invaluable for debugging and monitoring."
   ]
  },
  {
   "cell_type": "code",
   "execution_count": 6,
   "id": "eb90b937",
   "metadata": {},
   "outputs": [
    {
     "name": "stdout",
     "output_type": "stream",
     "text": [
      "🍩 https://wandb.ai/capecape/paris-woprkshop-2025/r/call/0196b42d-a10b-7e73-b4c1-062718005581\n",
      "🍩 https://wandb.ai/capecape/paris-woprkshop-2025/r/call/0196b435-26eb-7671-b645-1d7b64d25a86\n",
      "🍩 https://wandb.ai/capecape/paris-woprkshop-2025/r/call/0196b435-2b07-75b2-a87e-c8d8a4309881\n",
      "🍩 https://wandb.ai/capecape/paris-woprkshop-2025/r/call/0196b438-f8f8-7921-9a05-61c9e373fb26\n",
      "🍩 https://wandb.ai/capecape/paris-woprkshop-2025/r/call/0196b439-8e6f-70e3-80c4-683735ba8852\n",
      "🍩 https://wandb.ai/capecape/paris-woprkshop-2025/r/call/0196b448-a265-74b3-a335-1887292fe54a🍩 https://wandb.ai/capecape/paris-woprkshop-2025/r/call/0196b448-579c-7bc1-bfb2-bf16ccb6e925\n",
      "\n",
      "🍩 https://wandb.ai/capecape/paris-woprkshop-2025/r/call/0196b44a-9a45-7b62-bb55-67957946885f\n",
      "🍩 https://wandb.ai/capecape/paris-woprkshop-2025/r/call/0196b450-e4a3-77e1-b9eb-c4ed9d08ec58\n",
      "🍩 https://wandb.ai/capecape/paris-woprkshop-2025/r/call/0196b485-6fe3-70a2-94f6-e066b4c350fc\n",
      "🍩 https://wandb.ai/capecape/paris-woprkshop-2025/r/call/0196b487-6772-7253-8f55-ae5cb138be3c\n",
      "🍩 https://wandb.ai/capecape/paris-woprkshop-2025/r/call/0196b48e-e291-7161-bb67-aa89dd3f0c46\n",
      "🍩 https://wandb.ai/capecape/paris-woprkshop-2025/r/call/0196b490-602b-71f0-80e5-770120c59fa5\n",
      "🍩 https://wandb.ai/capecape/paris-woprkshop-2025/r/call/0196b490-c5df-7cf1-b3a6-16c05c0700af\n",
      "🍩 https://wandb.ai/capecape/paris-woprkshop-2025/r/call/0196b491-33e1-7253-89b1-6fdc30eb302d\n",
      "🍩 https://wandb.ai/capecape/paris-woprkshop-2025/r/call/0196b4ac-cf59-7652-86b8-93ba4cc3db9e\n",
      "🍩 https://wandb.ai/capecape/paris-woprkshop-2025/r/call/0196b4ac-d764-7530-a840-7ee8741823c3\n",
      "🍩 https://wandb.ai/capecape/paris-woprkshop-2025/r/call/0196b4ac-fd9c-78f2-a859-004f6c1f7f95\n",
      "🍩 https://wandb.ai/capecape/paris-woprkshop-2025/r/call/0196b4ad-3e30-7571-af84-a643e053ac13\n",
      "🍩 https://wandb.ai/capecape/paris-woprkshop-2025/r/call/0196b4ad-7fee-7571-b344-f4416619e642\n",
      "🍩 https://wandb.ai/capecape/paris-woprkshop-2025/r/call/0196b4ad-9435-7ad1-8483-a0221c759b1f\n",
      "🍩 https://wandb.ai/capecape/paris-woprkshop-2025/r/call/0196b4ad-9664-75f2-997d-ae022d33ac82\n",
      "🍩 https://wandb.ai/capecape/paris-woprkshop-2025/r/call/0196b4ad-cc1d-78b3-82c1-abb2983f7af9\n",
      "🍩 https://wandb.ai/capecape/paris-woprkshop-2025/r/call/0196b4ad-d948-7ad0-b4fe-9c11925afe6e\n",
      "🍩 https://wandb.ai/capecape/paris-woprkshop-2025/r/call/0196b4ad-d947-76c3-8eaa-29c0bf2fecec\n",
      "🍩 https://wandb.ai/capecape/paris-woprkshop-2025/r/call/0196b4ad-d94c-7910-90f4-a473a2c97a7f\n",
      "🍩 https://wandb.ai/capecape/paris-woprkshop-2025/r/call/0196b4ad-d94e-7222-b81a-658bff3b4ad4\n",
      "🍩 https://wandb.ai/capecape/paris-woprkshop-2025/r/call/0196b4ad-e6d2-7b50-b6bf-8a994f85966a\n",
      "🍩 https://wandb.ai/capecape/paris-woprkshop-2025/r/call/0196b4ad-e9d6-71d2-b25a-e7030bbb8c98\n",
      "🍩 https://wandb.ai/capecape/paris-woprkshop-2025/r/call/0196b4ad-eb26-7e22-abf0-1f68b46cf3ef\n",
      "🍩 https://wandb.ai/capecape/paris-woprkshop-2025/r/call/0196b4ad-edff-7040-a33e-00585edd779d\n",
      "🍩 https://wandb.ai/capecape/paris-woprkshop-2025/r/call/0196b4ae-0030-7603-b66c-be4f0cdb235e\n",
      "🍩 https://wandb.ai/capecape/paris-woprkshop-2025/r/call/0196b4ae-0592-7780-9dc6-bf134955bd10\n",
      "🍩 https://wandb.ai/capecape/paris-woprkshop-2025/r/call/0196b4ae-0a65-7ef1-b555-cf891fd5659d\n",
      "🍩 https://wandb.ai/capecape/paris-woprkshop-2025/r/call/0196b4ae-113b-7e01-89c2-dda92bc18816\n",
      "🍩 https://wandb.ai/capecape/paris-woprkshop-2025/r/call/0196b4ae-1904-7171-96ca-e91a3b5662c7\n",
      "🍩 https://wandb.ai/capecape/paris-woprkshop-2025/r/call/0196b4ae-20b8-7f81-8c75-5cf686d96234\n",
      "🍩 https://wandb.ai/capecape/paris-woprkshop-2025/r/call/0196b4ae-261d-7fa0-bc1f-48754c173c77\n",
      "🍩 https://wandb.ai/capecape/paris-woprkshop-2025/r/call/0196b4ae-27ab-7753-bcb0-62f888c968ff\n",
      "🍩 https://wandb.ai/capecape/paris-woprkshop-2025/r/call/0196b4ae-2a2f-7c03-b88e-86c3415edcec\n",
      "🍩 https://wandb.ai/capecape/paris-woprkshop-2025/r/call/0196b4ae-341b-7b72-aa40-89fce132e637\n",
      "🍩 https://wandb.ai/capecape/paris-woprkshop-2025/r/call/0196b4ae-3527-7262-a566-455b0bb569ba\n",
      "🍩 https://wandb.ai/capecape/paris-woprkshop-2025/r/call/0196b4ae-412c-7fb1-99f1-d33226f3adcd\n",
      "🍩 https://wandb.ai/capecape/paris-woprkshop-2025/r/call/0196b4ae-42e6-74b3-8490-71a9df7dd96d\n",
      "🍩 https://wandb.ai/capecape/paris-woprkshop-2025/r/call/0196b4ae-4901-7572-926d-7407f17e35b7\n",
      "🍩 https://wandb.ai/capecape/paris-woprkshop-2025/r/call/0196b4ae-4a9c-7b00-802c-7a66ac53a161\n",
      "🍩 https://wandb.ai/capecape/paris-woprkshop-2025/r/call/0196b4ae-4dc0-7d30-8202-90bc5e77d84f\n",
      "🍩 https://wandb.ai/capecape/paris-woprkshop-2025/r/call/0196b4ae-5cf0-7e30-8562-dde943931142\n",
      "🍩 https://wandb.ai/capecape/paris-woprkshop-2025/r/call/0196b4ae-650f-7fe1-a0df-676c4cd1ab20\n",
      "🍩 https://wandb.ai/capecape/paris-woprkshop-2025/r/call/0196b4ae-6581-7440-a383-08073ab533c3\n",
      "🍩 https://wandb.ai/capecape/paris-woprkshop-2025/r/call/0196b4ae-6a66-75d2-b214-52b6150321d8\n",
      "🍩 https://wandb.ai/capecape/paris-woprkshop-2025/r/call/0196b4ae-7126-7e83-bc7e-aaf400197fd8\n",
      "🍩 https://wandb.ai/capecape/paris-woprkshop-2025/r/call/0196b4ae-72b0-7451-99ce-e8a558b0691d\n",
      "🍩 https://wandb.ai/capecape/paris-woprkshop-2025/r/call/0196b4ae-73b9-7072-a424-0b346a9b272c\n",
      "🍩 https://wandb.ai/capecape/paris-woprkshop-2025/r/call/0196b4ae-7571-74b3-bf7d-9e199eacd947\n",
      "🍩 https://wandb.ai/capecape/paris-woprkshop-2025/r/call/0196b4ae-757b-7893-a595-a0a26162468f\n",
      "🍩 https://wandb.ai/capecape/paris-woprkshop-2025/r/call/0196b4ae-7650-7d31-9c66-dbeb2ee6412c\n",
      "🍩 https://wandb.ai/capecape/paris-woprkshop-2025/r/call/0196b4ae-946b-7de3-b207-d1a254f28862\n",
      "🍩 https://wandb.ai/capecape/paris-woprkshop-2025/r/call/0196b4ae-9555-7080-a68f-a9ceb6dff521\n",
      "🍩 https://wandb.ai/capecape/paris-woprkshop-2025/r/call/0196b4ae-9641-7c32-9d86-a9e6d2938b56\n",
      "🍩 https://wandb.ai/capecape/paris-woprkshop-2025/r/call/0196b4ae-9e49-7de3-a550-44e7b6cea60e\n",
      "🍩 https://wandb.ai/capecape/paris-woprkshop-2025/r/call/0196b4ae-a09f-7b13-9c88-49aa8136b7b8\n",
      "🍩 https://wandb.ai/capecape/paris-woprkshop-2025/r/call/0196b4ae-a15a-7ef0-9835-99a8bd1615a4\n",
      "🍩 https://wandb.ai/capecape/paris-woprkshop-2025/r/call/0196b4ae-a61d-7362-a5c9-e268eb329eb5\n",
      "🍩 https://wandb.ai/capecape/paris-woprkshop-2025/r/call/0196b4ae-b3d4-7a72-be89-704935255564\n",
      "🍩 https://wandb.ai/capecape/paris-woprkshop-2025/r/call/0196b4ae-c328-7a51-95e9-41dfc2d0a6bd\n",
      "🍩 https://wandb.ai/capecape/paris-woprkshop-2025/r/call/0196b4ae-c5c8-7593-ad41-b97cd6bd9d51\n",
      "🍩 https://wandb.ai/capecape/paris-woprkshop-2025/r/call/0196b4ae-c7ee-7711-bdb0-7907311879e2\n",
      "🍩 https://wandb.ai/capecape/paris-woprkshop-2025/r/call/0196b4ae-c8c3-7da0-b20d-314bd613da2b\n",
      "🍩 https://wandb.ai/capecape/paris-woprkshop-2025/r/call/0196b4ae-d757-7712-aeb2-5f68b7a1cf06\n",
      "🍩 https://wandb.ai/capecape/paris-woprkshop-2025/r/call/0196b4ae-d7be-7450-9076-4f29331b1d46\n",
      "🍩 https://wandb.ai/capecape/paris-woprkshop-2025/r/call/0196b4ae-dcbc-7503-9f2a-2b0602ecf53b\n",
      "🍩 https://wandb.ai/capecape/paris-woprkshop-2025/r/call/0196b4ae-ea39-7bf3-8f24-8d146f8e2de7\n",
      "🍩 https://wandb.ai/capecape/paris-woprkshop-2025/r/call/0196b4ae-f310-7380-be9d-a4f94eb91f74\n",
      "🍩 https://wandb.ai/capecape/paris-woprkshop-2025/r/call/0196b4ae-f645-7ba0-9d49-e35c7e602503\n",
      "🍩 https://wandb.ai/capecape/paris-woprkshop-2025/r/call/0196b4ae-f741-7e90-be15-82b57867ae3e\n",
      "🍩 https://wandb.ai/capecape/paris-woprkshop-2025/r/call/0196b4ae-ff6d-71a0-97cd-174cb59b5a34\n",
      "🍩 https://wandb.ai/capecape/paris-woprkshop-2025/r/call/0196b4af-037b-71b3-aeac-2a9dc8f0ed89\n",
      "🍩 https://wandb.ai/capecape/paris-woprkshop-2025/r/call/0196b4af-075b-7371-99b7-0111d6b61e1f\n",
      "🍩 https://wandb.ai/capecape/paris-woprkshop-2025/r/call/0196b4af-113e-72e3-8c64-7071a9b370e6\n",
      "🍩 https://wandb.ai/capecape/paris-woprkshop-2025/r/call/0196b4af-1517-7782-85ee-5702a948fe84\n",
      "🍩 https://wandb.ai/capecape/paris-woprkshop-2025/r/call/0196b4af-1d5f-7612-9ed8-1b8132153a34\n",
      "🍩 https://wandb.ai/capecape/paris-woprkshop-2025/r/call/0196b4af-20db-7521-94f8-717dab552d41\n",
      "🍩 https://wandb.ai/capecape/paris-woprkshop-2025/r/call/0196b4af-2343-7460-a183-3fe47e15ec76\n",
      "🍩 https://wandb.ai/capecape/paris-woprkshop-2025/r/call/0196b4af-25f4-77f3-a0a0-2c068e8d1308\n",
      "🍩 https://wandb.ai/capecape/paris-woprkshop-2025/r/call/0196b4af-3083-77a0-98e0-4ff73febd8a6\n",
      "🍩 https://wandb.ai/capecape/paris-woprkshop-2025/r/call/0196b4af-3165-7bf0-be68-1154d5a9cbd4\n",
      "🍩 https://wandb.ai/capecape/paris-woprkshop-2025/r/call/0196b4af-3221-7372-876c-6200d24078df\n",
      "🍩 https://wandb.ai/capecape/paris-woprkshop-2025/r/call/0196b4af-3716-7b60-800b-63074667f36a\n",
      "🍩 https://wandb.ai/capecape/paris-woprkshop-2025/r/call/0196b4af-3ed3-7653-95ae-49b6e8aac12a\n",
      "🍩 https://wandb.ai/capecape/paris-woprkshop-2025/r/call/0196b4af-4629-7c23-9556-a8913167e1a4\n",
      "🍩 https://wandb.ai/capecape/paris-woprkshop-2025/r/call/0196b4af-483f-7120-9d23-7aecf4360ed3\n",
      "🍩 https://wandb.ai/capecape/paris-woprkshop-2025/r/call/0196b4af-48c8-7923-a834-cd6f90bbe62c\n",
      "🍩 https://wandb.ai/capecape/paris-woprkshop-2025/r/call/0196b4af-4bef-79c3-984a-5f9835bc978f\n",
      "🍩 https://wandb.ai/capecape/paris-woprkshop-2025/r/call/0196b4af-596a-7300-b313-f4944f3b6a00\n",
      "🍩 https://wandb.ai/capecape/paris-woprkshop-2025/r/call/0196b4af-5bad-7211-a3da-f22331f584d0\n",
      "🍩 https://wandb.ai/capecape/paris-woprkshop-2025/r/call/0196b4af-5d1e-7733-bec0-118321473dde\n",
      "🍩 https://wandb.ai/capecape/paris-woprkshop-2025/r/call/0196b4af-6535-70f0-8f76-7e3869af6fee\n",
      "🍩 https://wandb.ai/capecape/paris-woprkshop-2025/r/call/0196b4af-6908-7331-894e-9dda6ad6ab4b\n",
      "🍩 https://wandb.ai/capecape/paris-woprkshop-2025/r/call/0196b4af-6b25-7e80-8afb-1f34d7a0367c\n",
      "🍩 https://wandb.ai/capecape/paris-woprkshop-2025/r/call/0196b4af-73a1-7590-a6ea-44f459041456\n",
      "🍩 https://wandb.ai/capecape/paris-woprkshop-2025/r/call/0196b4af-7431-7641-b7fd-048e45a2d86b\n",
      "🍩 https://wandb.ai/capecape/paris-woprkshop-2025/r/call/0196b4af-790b-7213-8846-22c8574f6573\n",
      "🍩 https://wandb.ai/capecape/paris-woprkshop-2025/r/call/0196b4af-7fd6-7cf3-889b-b6e134ece8a4\n",
      "🍩 https://wandb.ai/capecape/paris-woprkshop-2025/r/call/0196b4af-84a2-7381-9ed9-2170476f2afd\n",
      "🍩 https://wandb.ai/capecape/paris-woprkshop-2025/r/call/0196b4af-851c-7060-b28f-a43f232d4ca9\n",
      "🍩 https://wandb.ai/capecape/paris-woprkshop-2025/r/call/0196b4af-89e1-7e13-8e87-070af0aea182\n",
      "🍩 https://wandb.ai/capecape/paris-woprkshop-2025/r/call/0196b4af-91dc-7c60-b7d4-685142ba130d\n",
      "🍩 https://wandb.ai/capecape/paris-woprkshop-2025/r/call/0196b4af-97bb-7a80-9de8-763d4473aedf\n",
      "🍩 https://wandb.ai/capecape/paris-woprkshop-2025/r/call/0196b4af-9937-7093-94a9-f15f5fc0838c\n",
      "🍩 https://wandb.ai/capecape/paris-woprkshop-2025/r/call/0196b4af-995a-77b0-bdca-1f0955612f76\n",
      "🍩 https://wandb.ai/capecape/paris-woprkshop-2025/r/call/0196b4af-ac95-71f2-9f24-452c9adb3dc2\n",
      "🍩 https://wandb.ai/capecape/paris-woprkshop-2025/r/call/0196b4af-d2c6-7110-a6ed-6ac2d79b9612\n",
      "🍩 https://wandb.ai/capecape/paris-woprkshop-2025/r/call/0196b4af-e505-7510-96d3-882c9b924943\n",
      "🍩 https://wandb.ai/capecape/paris-woprkshop-2025/r/call/0196b4af-f281-7050-8248-31bbac5349f0\n",
      "🍩 https://wandb.ai/capecape/paris-woprkshop-2025/r/call/0196b4b0-0034-7e41-88f0-3c7e9dffae4c\n",
      "🍩 https://wandb.ai/capecape/paris-woprkshop-2025/r/call/0196b4b0-14dc-7ec3-88a6-20d5cc10c8b5\n",
      "🍩 https://wandb.ai/capecape/paris-woprkshop-2025/r/call/0196b4b0-243f-7d10-9fab-5b9674c65fff\n",
      "🍩 https://wandb.ai/capecape/paris-woprkshop-2025/r/call/0196b4b0-4cfa-7582-867d-0cc14dd4252a\n",
      "🍩 https://wandb.ai/capecape/paris-woprkshop-2025/r/call/0196b4b0-72ac-7471-bd77-b6261f284c9e\n",
      "🍩 https://wandb.ai/capecape/paris-woprkshop-2025/r/call/0196b4b0-9bff-7530-8f20-431a9a9e0c92\n",
      "🍩 https://wandb.ai/capecape/paris-woprkshop-2025/r/call/0196b4b0-aa68-7362-9c87-e0d8c0062d59\n",
      "🍩 https://wandb.ai/capecape/paris-woprkshop-2025/r/call/0196b4b0-cc05-7721-ab32-a18a72f5fdfc\n",
      "🍩 https://wandb.ai/capecape/paris-woprkshop-2025/r/call/0196b4b0-d305-7180-9765-0ddf677ddc6c\n",
      "🍩 https://wandb.ai/capecape/paris-woprkshop-2025/r/call/0196b4b0-e61d-7f11-8fb7-181072069420\n",
      "🍩 https://wandb.ai/capecape/paris-woprkshop-2025/r/call/0196b4b1-0fd6-7593-a2f1-6cee531e5f4f\n",
      "🍩 https://wandb.ai/capecape/paris-woprkshop-2025/r/call/0196b4b1-192a-7761-b2e0-15350e66b7bc\n",
      "🍩 https://wandb.ai/capecape/paris-woprkshop-2025/r/call/0196b4b1-5bae-7052-8c8c-940ad566e3ab\n",
      "🍩 https://wandb.ai/capecape/paris-woprkshop-2025/r/call/0196b4b1-7969-78b0-b081-9bce3468fa11\n",
      "🍩 https://wandb.ai/capecape/paris-woprkshop-2025/r/call/0196b4b1-8130-7520-bfae-104095ef6b3f\n",
      "🍩 https://wandb.ai/capecape/paris-woprkshop-2025/r/call/0196b4b1-c09e-7aa0-b199-bfc5e87196e6\n",
      "🍩 https://wandb.ai/capecape/paris-woprkshop-2025/r/call/0196b4b1-d192-7002-a36e-6f1f0ea259ee\n",
      "🍩 https://wandb.ai/capecape/paris-woprkshop-2025/r/call/0196b4b1-f3c4-7241-bcd1-346497d1c8ad\n",
      "🍩 https://wandb.ai/capecape/paris-woprkshop-2025/r/call/0196b4b1-ff03-7b40-80bc-f7d9d18dfbc0\n",
      "🍩 https://wandb.ai/capecape/paris-woprkshop-2025/r/call/0196b4b2-0e33-7841-a671-f84436e6e058\n",
      "🍩 https://wandb.ai/capecape/paris-woprkshop-2025/r/call/0196b4b2-4092-7871-ac11-50e43eea60d2\n",
      "🍩 https://wandb.ai/capecape/paris-woprkshop-2025/r/call/0196b4b2-49bb-73d2-a77a-5c2702be1d54\n",
      "🍩 https://wandb.ai/capecape/paris-woprkshop-2025/r/call/0196b4b2-60c1-7450-a18e-fe17ade654c0\n",
      "🍩 https://wandb.ai/capecape/paris-woprkshop-2025/r/call/0196b4b2-7cc3-7913-999a-c6e3431b4fd7\n",
      "🍩 https://wandb.ai/capecape/paris-woprkshop-2025/r/call/0196b4b2-881e-7641-9f6a-a79a84f6a15c\n",
      "🍩 https://wandb.ai/capecape/paris-woprkshop-2025/r/call/0196b4b2-88b6-7101-921b-fbc55c19c19f\n",
      "🍩 https://wandb.ai/capecape/paris-woprkshop-2025/r/call/0196b4b2-adb9-72b2-ac35-1fccda309a39\n",
      "🍩 https://wandb.ai/capecape/paris-woprkshop-2025/r/call/0196b4b2-aea8-7a11-86ba-b12f1edcac1f\n",
      "🍩 https://wandb.ai/capecape/paris-woprkshop-2025/r/call/0196b4b2-bebe-77d0-b22d-61e07d31731b\n",
      "🍩 https://wandb.ai/capecape/paris-woprkshop-2025/r/call/0196b4b2-f72d-7b40-81ad-203e571290f2\n",
      "🍩 https://wandb.ai/capecape/paris-woprkshop-2025/r/call/0196b4b3-0acd-76f2-9802-95118dce5ad7\n",
      "🍩 https://wandb.ai/capecape/paris-woprkshop-2025/r/call/0196b4b3-0efd-73f3-b366-a7633af2a770\n",
      "🍩 https://wandb.ai/capecape/paris-woprkshop-2025/r/call/0196b4b3-4c40-7f31-99bb-354d6c228c36\n",
      "🍩 https://wandb.ai/capecape/paris-woprkshop-2025/r/call/0196b4b3-74ce-7481-8743-1bfbf2732dbe\n",
      "🍩 https://wandb.ai/capecape/paris-woprkshop-2025/r/call/0196b4b3-e8b8-7980-a210-437181a2686a\n",
      "🍩 https://wandb.ai/capecape/paris-woprkshop-2025/r/call/0196b4b3-ea23-7683-9f0d-4c92969f7169\n",
      "🍩 https://wandb.ai/capecape/paris-woprkshop-2025/r/call/0196b4b4-3059-74b1-b71b-15a63cde9b9e\n",
      "🍩 https://wandb.ai/capecape/paris-woprkshop-2025/r/call/0196b4b4-3a40-7ed1-a6fc-55fb08fef681\n",
      "🍩 https://wandb.ai/capecape/paris-woprkshop-2025/r/call/0196b4b4-3ecf-74a0-bd66-ab541f01db35\n",
      "🍩 https://wandb.ai/capecape/paris-woprkshop-2025/r/call/0196b4b4-6d67-7ef3-952c-ef03fd3ecbe3\n",
      "🍩 https://wandb.ai/capecape/paris-woprkshop-2025/r/call/0196b4b4-c30a-7940-94ee-591cb83a929e\n",
      "🍩 https://wandb.ai/capecape/paris-woprkshop-2025/r/call/0196b4b4-cd68-7e82-bc7b-08aea003aa15\n",
      "🍩 https://wandb.ai/capecape/paris-woprkshop-2025/r/call/0196b4b4-dcad-76a2-9c6a-e880851a4003\n",
      "🍩 https://wandb.ai/capecape/paris-woprkshop-2025/r/call/0196b4f1-9cef-7222-946b-dada54f069e9\n",
      "🍩 https://wandb.ai/capecape/paris-woprkshop-2025/r/call/0196b4f1-9cf2-75f1-9670-91ae80849040\n",
      "🍩 https://wandb.ai/capecape/paris-woprkshop-2025/r/call/0196b4f1-9cf2-75f1-9670-914df64dfc7a\n",
      "🍩 https://wandb.ai/capecape/paris-woprkshop-2025/r/call/0196b4f1-9cf2-75f1-9670-91d36dd592a1\n",
      "🍩 https://wandb.ai/capecape/paris-woprkshop-2025/r/call/0196b4f1-afdb-7ec3-b949-548cdfe77adf\n",
      "🍩 https://wandb.ai/capecape/paris-woprkshop-2025/r/call/0196b4f1-cb60-7952-95fe-c99d99b4d9e7\n",
      "🍩 https://wandb.ai/capecape/paris-woprkshop-2025/r/call/0196b4f1-ce20-7cd1-951c-f4118a400d1f\n",
      "🍩 https://wandb.ai/capecape/paris-woprkshop-2025/r/call/0196b4f1-d90e-7f10-be77-8e4050125b26\n",
      "🍩 https://wandb.ai/capecape/paris-woprkshop-2025/r/call/0196b4f1-e7b6-7111-af06-4c8f7c4143bb\n",
      "🍩 https://wandb.ai/capecape/paris-woprkshop-2025/r/call/0196b4f1-fa48-7142-86b1-480e4f8d8f8e\n",
      "🍩 https://wandb.ai/capecape/paris-woprkshop-2025/r/call/0196b4f1-ffc1-74b2-85b9-bda64e9ca785\n",
      "🍩 https://wandb.ai/capecape/paris-woprkshop-2025/r/call/0196b4f2-023b-7f72-aaaa-819d3e3d8c57\n",
      "🍩 https://wandb.ai/capecape/paris-woprkshop-2025/r/call/0196b4f2-0d26-7d02-a4cc-0660cd412bf5\n",
      "🍩 https://wandb.ai/capecape/paris-woprkshop-2025/r/call/0196b4f2-164d-7ed3-b0c6-45fedc6a2eab\n",
      "🍩 https://wandb.ai/capecape/paris-woprkshop-2025/r/call/0196b4f2-17fc-7ca0-9ede-3c783c841b51\n",
      "🍩 https://wandb.ai/capecape/paris-woprkshop-2025/r/call/0196b4f2-196b-70a1-a734-3c6504cac99b\n",
      "🍩 https://wandb.ai/capecape/paris-woprkshop-2025/r/call/0196b4f2-202e-7160-8b5d-db8a4b7ead37\n",
      "🍩 https://wandb.ai/capecape/paris-woprkshop-2025/r/call/0196b4f2-24c2-7833-97f9-07f2f90132f0\n",
      "🍩 https://wandb.ai/capecape/paris-woprkshop-2025/r/call/0196b4f2-2b3b-75a3-909a-96d7ee126851\n",
      "🍩 https://wandb.ai/capecape/paris-woprkshop-2025/r/call/0196b4f2-3f0e-7c10-acb2-7070b07622f9\n",
      "🍩 https://wandb.ai/capecape/paris-woprkshop-2025/r/call/0196b4f2-4c75-7e00-aac3-b1b0d6e4694f\n",
      "🍩 https://wandb.ai/capecape/paris-woprkshop-2025/r/call/0196b4f2-6190-7920-b16a-8b4f02036b0e\n",
      "🍩 https://wandb.ai/capecape/paris-woprkshop-2025/r/call/0196b4f2-6a3b-75d3-ab58-5d85a69c3598\n",
      "🍩 https://wandb.ai/capecape/paris-woprkshop-2025/r/call/0196b4f2-7048-7553-b77e-5b5f23d5e7fa\n",
      "🍩 https://wandb.ai/capecape/paris-woprkshop-2025/r/call/0196b4f2-79f8-7b21-a8b3-d97d72265054\n",
      "🍩 https://wandb.ai/capecape/paris-woprkshop-2025/r/call/0196b4f2-7c2d-7e70-9d04-9ebeb332ab46\n",
      "🍩 https://wandb.ai/capecape/paris-woprkshop-2025/r/call/0196b4f2-8c0e-79d2-baa3-591938ec4a54\n",
      "🍩 https://wandb.ai/capecape/paris-woprkshop-2025/r/call/0196b4f2-8dd2-7ef1-b31f-03728aaa61d6\n",
      "🍩 https://wandb.ai/capecape/paris-woprkshop-2025/r/call/0196b4f2-9dec-7923-be57-0e5e84e7d7ce\n",
      "🍩 https://wandb.ai/capecape/paris-woprkshop-2025/r/call/0196b4f2-a2b1-7ea2-83b2-842590c353e0\n",
      "🍩 https://wandb.ai/capecape/paris-woprkshop-2025/r/call/0196b4f2-aa3e-79e2-ab66-ac16eeb899e8\n",
      "🍩 https://wandb.ai/capecape/paris-woprkshop-2025/r/call/0196b4f2-b07e-73e3-84d1-75c4f7e9dcdb\n",
      "🍩 https://wandb.ai/capecape/paris-woprkshop-2025/r/call/0196b4f2-bc86-7e53-b528-392fb8e86377\n",
      "🍩 https://wandb.ai/capecape/paris-woprkshop-2025/r/call/0196b4f2-bc9c-7a30-a1df-03fd0c11c74a\n",
      "🍩 https://wandb.ai/capecape/paris-woprkshop-2025/r/call/0196b4f2-c359-77e1-b609-9b476faa1700\n",
      "🍩 https://wandb.ai/capecape/paris-woprkshop-2025/r/call/0196b4f2-cd17-75d3-91dd-78d9511c5394\n",
      "🍩 https://wandb.ai/capecape/paris-woprkshop-2025/r/call/0196b4f2-cf66-71e1-b12f-4d66fa54ce4d\n",
      "🍩 https://wandb.ai/capecape/paris-woprkshop-2025/r/call/0196b4f2-cfae-7261-8fb2-0533731f81c5\n",
      "🍩 https://wandb.ai/capecape/paris-woprkshop-2025/r/call/0196b4f2-d3d8-76c2-b67b-c78e92000e48\n",
      "🍩 https://wandb.ai/capecape/paris-woprkshop-2025/r/call/0196b4f2-d5d1-7860-a5a2-ade481512128\n",
      "🍩 https://wandb.ai/capecape/paris-woprkshop-2025/r/call/0196b4f2-db34-7eb0-b318-80dd6890da64\n",
      "🍩 https://wandb.ai/capecape/paris-woprkshop-2025/r/call/0196b4f2-e1bf-73d3-bc22-9397ddd03b63\n",
      "🍩 https://wandb.ai/capecape/paris-woprkshop-2025/r/call/0196b4f2-e566-7eb1-939b-7ff6b29b9500\n",
      "🍩 https://wandb.ai/capecape/paris-woprkshop-2025/r/call/0196b4f2-f8fc-7040-bd57-3068ac8c3c34\n",
      "🍩 https://wandb.ai/capecape/paris-woprkshop-2025/r/call/0196b4f2-ffd7-7da3-819c-85524e588eed\n",
      "🍩 https://wandb.ai/capecape/paris-woprkshop-2025/r/call/0196b4f3-0d10-72d2-8bdd-03208af7c09e\n",
      "🍩 https://wandb.ai/capecape/paris-woprkshop-2025/r/call/0196b4f3-116c-7cc1-8c0c-5c15f3ec1715\n",
      "🍩 https://wandb.ai/capecape/paris-woprkshop-2025/r/call/0196b4f3-16ed-7282-9c8d-d211e847a6af\n",
      "🍩 https://wandb.ai/capecape/paris-woprkshop-2025/r/call/0196b4f3-1d45-7a00-b020-d392f1e58500\n",
      "🍩 https://wandb.ai/capecape/paris-woprkshop-2025/r/call/0196b4f3-1f09-73b0-864f-f51bfc29894f\n",
      "🍩 https://wandb.ai/capecape/paris-woprkshop-2025/r/call/0196b4f3-1fd0-75d2-84c0-2d3f82d98baa\n",
      "🍩 https://wandb.ai/capecape/paris-woprkshop-2025/r/call/0196b4f3-207f-7793-a881-aa15a392dbf5\n",
      "🍩 https://wandb.ai/capecape/paris-woprkshop-2025/r/call/0196b4f3-26c1-7852-8f5a-f2ae0d160216\n",
      "🍩 https://wandb.ai/capecape/paris-woprkshop-2025/r/call/0196b4f3-2c29-72c3-81bf-17162159781a\n",
      "🍩 https://wandb.ai/capecape/paris-woprkshop-2025/r/call/0196b4f3-2f63-7d42-b680-4ca298b98fdb\n",
      "🍩 https://wandb.ai/capecape/paris-woprkshop-2025/r/call/0196b4f3-3093-70b1-9c27-c9c7ce41ea15\n",
      "🍩 https://wandb.ai/capecape/paris-woprkshop-2025/r/call/0196b4f3-35ea-7932-837d-ef7d2cca7b6f\n",
      "🍩 https://wandb.ai/capecape/paris-woprkshop-2025/r/call/0196b4f3-3644-7913-ac0b-656e16990e52\n",
      "🍩 https://wandb.ai/capecape/paris-woprkshop-2025/r/call/0196b4f3-4ac7-7620-8644-5441eed8057e\n",
      "🍩 https://wandb.ai/capecape/paris-woprkshop-2025/r/call/0196b4f3-4ee7-79f3-bad3-8eefe7af5ce4\n",
      "🍩 https://wandb.ai/capecape/paris-woprkshop-2025/r/call/0196b4f3-5a26-78e0-9f9a-a926381dee0c\n",
      "🍩 https://wandb.ai/capecape/paris-woprkshop-2025/r/call/0196b4f3-6c1c-7d73-834a-31d5012c2266\n",
      "🍩 https://wandb.ai/capecape/paris-woprkshop-2025/r/call/0196b4f3-6ef9-7f60-acf5-b7e0036f44ce\n",
      "🍩 https://wandb.ai/capecape/paris-woprkshop-2025/r/call/0196b4f3-8055-74f3-90aa-7455f490667a\n",
      "🍩 https://wandb.ai/capecape/paris-woprkshop-2025/r/call/0196b4f3-87dc-7bb2-aab7-2a497ca34b19\n",
      "🍩 https://wandb.ai/capecape/paris-woprkshop-2025/r/call/0196b4f3-8c0c-7293-9542-35db0f489686\n",
      "🍩 https://wandb.ai/capecape/paris-woprkshop-2025/r/call/0196b4f3-9869-7762-9643-9367b2db73ee\n",
      "🍩 https://wandb.ai/capecape/paris-woprkshop-2025/r/call/0196b4f3-9bcc-7133-8873-a407fb4ca582\n",
      "🍩 https://wandb.ai/capecape/paris-woprkshop-2025/r/call/0196b4f3-a847-73d3-a9d8-b91a295ecd28\n",
      "🍩 https://wandb.ai/capecape/paris-woprkshop-2025/r/call/0196b4f3-a88b-70f3-85d4-259d84f9f4d2\n",
      "🍩 https://wandb.ai/capecape/paris-woprkshop-2025/r/call/0196b4f3-ae2b-7041-8d94-ef015c4f6c74\n",
      "🍩 https://wandb.ai/capecape/paris-woprkshop-2025/r/call/0196b4f3-afd5-7452-b729-c240da383c82\n",
      "🍩 https://wandb.ai/capecape/paris-woprkshop-2025/r/call/0196b4f3-beb9-7850-86fd-34a4a2f8a8d0\n",
      "🍩 https://wandb.ai/capecape/paris-woprkshop-2025/r/call/0196b4f3-c4d5-7f73-9282-4cd14320d7bb\n",
      "🍩 https://wandb.ai/capecape/paris-woprkshop-2025/r/call/0196b4f3-c651-75f1-9eb2-259df7d3da72\n"
     ]
    },
    {
     "name": "stdout",
     "output_type": "stream",
     "text": [
      "Hello! An AI agent is a system designed to perceive its environment and take actions to achieve specific goals. Here's a simplified breakdown of how an AI agent typically works:\n",
      "\n",
      "### 1. **Perception**\n",
      "   - **Sensors**: The agent uses sensors to gather data from its environment. These sensors can be physical (like cameras, microphones, or temperature sensors) or virtual (like data feeds from the internet).\n",
      "   - **Data Processing**: The raw data collected by the sensors is processed to extract meaningful information. This might involve image recognition, natural language processing, or other forms of data analysis.\n",
      "\n",
      "### 2. **Decision Making**\n",
      "   - **Model**: The agent uses a model to make decisions. This model can be based on rules, machine learning algorithms, or a combination of both.\n",
      "   - **Learning**: If the agent is based on machine learning, it may update its model over time based on new data and feedback. This is often done through techniques like reinforcement learning, supervised learning, or unsupervised learning.\n",
      "   - **Optimization**: The agent aims to optimize its actions to achieve its goals. This might involve minimizing costs, maximizing rewards, or achieving specific outcomes.\n",
      "\n",
      "### 3. **Action**\n",
      "   - **Actuators**: The agent uses actuators to perform actions in the environment. These can be physical (like robotic arms, motors, or speakers) or virtual (like sending commands to a software system).\n",
      "   - **Execution**: The agent executes the actions determined by its decision-making process.\n",
      "\n",
      "### 4. **Feedback Loop**\n",
      "   - **Monitoring**: The agent monitors the results of its actions to see if they achieve the desired outcomes.\n",
      "   - **Adaptation**: Based on the feedback, the agent may adjust its model or strategy to improve future performance.\n",
      "\n",
      "### Key Components\n",
      "- **Environment**: The world in which the agent operates.\n",
      "- **Actuators**: Devices that allow the agent to interact with the environment.\n",
      "- **Sensors**: Devices that allow the agent to perceive the environment.\n",
      "- **Agent Function**: The core logic that determines the agent's actions based on its perceptions and goals.\n",
      "\n",
      "### Types of AI Agents\n",
      "- **Simple Reflex Agents**: React to the current percept (input) without using any internal state.\n",
      "- **Model-Based Reflex Agents**: Use an internal model of the world to make decisions.\n",
      "- **Goal-Based Agents**: Have a goal and use a search algorithm to find a sequence of actions that achieve the goal.\n",
      "- **Utility-Based Agents**: Choose actions based on a utility function that assigns a value to each possible outcome.\n",
      "- **Learning Agents**: Improve their performance over time by learning from experience.\n",
      "\n",
      "### Example\n",
      "Consider a self-driving car:\n",
      "- **Perception**: Cameras and sensors detect other vehicles, pedestrians, and road conditions.\n",
      "- **Decision Making**: The car's AI uses a combination of rules and machine learning to decide the best path and speed.\n",
      "- **Action**: The car's actuators (steering, brakes, accelerator) execute the decisions.\n",
      "- **Feedback Loop**: The car continuously monitors its actions and adjusts its decisions based on new data.\n",
      "\n",
      "This is a high-level overview, and the specifics can vary greatly depending on the application and the complexity of the AI agent.\n"
     ]
    }
   ],
   "source": [
    "# most of the time you would want to define your own operations to trace, for instance to call the model.\n",
    "# You just need to add the @weave.op decorator to the function and it will be traced.\n",
    "\n",
    "@weave.op\n",
    "def call_model(model_name: str, messages: List[Dict[str, Any]], **kwargs) -> str:\n",
    "    \"Call a model with the given messages and kwargs.\"\n",
    "    response = client.chat.complete(\n",
    "        model=model_name,\n",
    "        messages=messages,\n",
    "        **kwargs\n",
    "    )\n",
    "\n",
    "    return response.choices[0].message\n",
    "\n",
    "response = call_model(model_name=MISTRAL_SMALL_MODEL, messages=messages)\n",
    "print(response.content)"
   ]
  },
  {
   "cell_type": "markdown",
   "id": "4e97c8b6",
   "metadata": {},
   "source": [
    "![](images/02_nested_trace.png)"
   ]
  },
  {
   "cell_type": "markdown",
   "id": "75409570",
   "metadata": {},
   "source": [
    "\n",
    "## 2. Introducing Tool Calling\n",
    "\n",
    "Agents become much more powerful when they can use **tools** – external functions or APIs – to get information or perform actions beyond the LLM's internal knowledge. To allow an LLM to use a tool, we need to provide it with a description (schema) of the tool, including its name, purpose, and expected arguments.\n",
    "\n",
    "Check the Mistral docs for function calling: https://docs.mistral.ai/capabilities/function_calling/\n",
    "\n",
    "![](images/03_func_call.png)\n",
    "\n",
    "First, let's define a simple Python function we want the LLM to be able to call. We add `@weave.op` to trace when this function actually gets executed.\n"
   ]
  },
  {
   "cell_type": "code",
   "execution_count": 7,
   "id": "2ede106b",
   "metadata": {},
   "outputs": [],
   "source": [
    "@weave.op \n",
    "def add_numbers(a: int, b: int) -> int:\n",
    "    \"\"\"Adds two numbers.\n",
    "    Args:\n",
    "        a: The first number.\n",
    "        b: The second number.\n",
    "    \"\"\"\n",
    "    return a + b"
   ]
  },
  {
   "cell_type": "code",
   "execution_count": 8,
   "id": "a691123a",
   "metadata": {},
   "outputs": [
    {
     "data": {
      "text/plain": [
       "3"
      ]
     },
     "execution_count": 8,
     "metadata": {},
     "output_type": "execute_result"
    }
   ],
   "source": [
    "add_numbers(1, 2)"
   ]
  },
  {
   "cell_type": "code",
   "execution_count": 9,
   "id": "ffcbfd9a",
   "metadata": {},
   "outputs": [
    {
     "ename": "ValidationError",
     "evalue": "2 validation errors for Unmarshaller\nbody.nullable[list[Tool]].0\n  Input should be a valid dictionary or instance of Tool [type=model_type, input_value=<function add_numbers at 0x1307d6ac0>, input_type=function]\n    For further information visit https://errors.pydantic.dev/2.11/v/model_type\nbody.Unset\n  Input should be a valid dictionary or instance of Unset [type=model_type, input_value=[<function add_numbers at 0x1307d6ac0>], input_type=list]\n    For further information visit https://errors.pydantic.dev/2.11/v/model_type",
     "output_type": "error",
     "traceback": [
      "\u001b[31m---------------------------------------------------------------------------\u001b[39m",
      "\u001b[31mValidationError\u001b[39m                           Traceback (most recent call last)",
      "\u001b[36mCell\u001b[39m\u001b[36m \u001b[39m\u001b[32mIn[9]\u001b[39m\u001b[32m, line 2\u001b[39m\n\u001b[32m      1\u001b[39m \u001b[38;5;66;03m# this doesn't work...\u001b[39;00m\n\u001b[32m----> \u001b[39m\u001b[32m2\u001b[39m \u001b[43mcall_model\u001b[49m\u001b[43m(\u001b[49m\u001b[43mmodel_name\u001b[49m\u001b[43m=\u001b[49m\u001b[43mMISTRAL_SMALL_MODEL\u001b[49m\u001b[43m,\u001b[49m\u001b[43m \u001b[49m\u001b[43mmessages\u001b[49m\u001b[43m=\u001b[49m\u001b[43mmessages\u001b[49m\u001b[43m,\u001b[49m\u001b[43m \u001b[49m\u001b[43mtools\u001b[49m\u001b[43m=\u001b[49m\u001b[43m[\u001b[49m\u001b[43madd_numbers\u001b[49m\u001b[43m]\u001b[49m\u001b[43m)\u001b[49m\n",
      "\u001b[36mFile \u001b[39m\u001b[32m~/work/phd_researcher/.venv/lib/python3.12/site-packages/weave/trace/op.py:670\u001b[39m, in \u001b[36mop.<locals>.op_deco.<locals>.create_wrapper.<locals>.wrapper\u001b[39m\u001b[34m(*args, **kwargs)\u001b[39m\n\u001b[32m    668\u001b[39m \u001b[38;5;129m@wraps\u001b[39m(func)\n\u001b[32m    669\u001b[39m \u001b[38;5;28;01mdef\u001b[39;00m\u001b[38;5;250m \u001b[39m\u001b[34mwrapper\u001b[39m(*args: Any, **kwargs: Any) -> Any:\n\u001b[32m--> \u001b[39m\u001b[32m670\u001b[39m     res, _ = \u001b[43m_call_sync_func\u001b[49m\u001b[43m(\u001b[49m\n\u001b[32m    671\u001b[39m \u001b[43m        \u001b[49m\u001b[43mcast\u001b[49m\u001b[43m(\u001b[49m\u001b[43mOp\u001b[49m\u001b[43m,\u001b[49m\u001b[43m \u001b[49m\u001b[43mwrapper\u001b[49m\u001b[43m)\u001b[49m\u001b[43m,\u001b[49m\u001b[43m \u001b[49m\u001b[43m*\u001b[49m\u001b[43margs\u001b[49m\u001b[43m,\u001b[49m\u001b[43m \u001b[49m\u001b[43m__should_raise\u001b[49m\u001b[43m=\u001b[49m\u001b[38;5;28;43;01mTrue\u001b[39;49;00m\u001b[43m,\u001b[49m\u001b[43m \u001b[49m\u001b[43m*\u001b[49m\u001b[43m*\u001b[49m\u001b[43mkwargs\u001b[49m\n\u001b[32m    672\u001b[39m \u001b[43m    \u001b[49m\u001b[43m)\u001b[49m\n\u001b[32m    673\u001b[39m     \u001b[38;5;28;01mreturn\u001b[39;00m res\n",
      "\u001b[36mFile \u001b[39m\u001b[32m~/work/phd_researcher/.venv/lib/python3.12/site-packages/weave/trace/op.py:412\u001b[39m, in \u001b[36m_call_sync_func\u001b[39m\u001b[34m(op, __weave, __should_raise, __require_explicit_finish, *args, **kwargs)\u001b[39m\n\u001b[32m    409\u001b[39m     \u001b[38;5;28;01mreturn\u001b[39;00m output\n\u001b[32m    411\u001b[39m \u001b[38;5;28;01mtry\u001b[39;00m:\n\u001b[32m--> \u001b[39m\u001b[32m412\u001b[39m     res = \u001b[43mfunc\u001b[49m\u001b[43m(\u001b[49m\u001b[43m*\u001b[49m\u001b[43margs\u001b[49m\u001b[43m,\u001b[49m\u001b[43m \u001b[49m\u001b[43m*\u001b[49m\u001b[43m*\u001b[49m\u001b[43mkwargs\u001b[49m\u001b[43m)\u001b[49m\n\u001b[32m    413\u001b[39m \u001b[38;5;28;01mexcept\u001b[39;00m \u001b[38;5;167;01mException\u001b[39;00m \u001b[38;5;28;01mas\u001b[39;00m e:\n\u001b[32m    414\u001b[39m     finish(exception=e)\n",
      "\u001b[36mCell\u001b[39m\u001b[36m \u001b[39m\u001b[32mIn[6]\u001b[39m\u001b[32m, line 7\u001b[39m, in \u001b[36mcall_model\u001b[39m\u001b[34m(model_name, messages, **kwargs)\u001b[39m\n\u001b[32m      4\u001b[39m \u001b[38;5;129m@weave\u001b[39m.op\n\u001b[32m      5\u001b[39m \u001b[38;5;28;01mdef\u001b[39;00m\u001b[38;5;250m \u001b[39m\u001b[34mcall_model\u001b[39m(model_name: \u001b[38;5;28mstr\u001b[39m, messages: List[Dict[\u001b[38;5;28mstr\u001b[39m, Any]], **kwargs) -> \u001b[38;5;28mstr\u001b[39m:\n\u001b[32m      6\u001b[39m     \u001b[33m\"\u001b[39m\u001b[33mCall a model with the given messages and kwargs.\u001b[39m\u001b[33m\"\u001b[39m\n\u001b[32m----> \u001b[39m\u001b[32m7\u001b[39m     response = \u001b[43mclient\u001b[49m\u001b[43m.\u001b[49m\u001b[43mchat\u001b[49m\u001b[43m.\u001b[49m\u001b[43mcomplete\u001b[49m\u001b[43m(\u001b[49m\n\u001b[32m      8\u001b[39m \u001b[43m        \u001b[49m\u001b[43mmodel\u001b[49m\u001b[43m=\u001b[49m\u001b[43mmodel_name\u001b[49m\u001b[43m,\u001b[49m\n\u001b[32m      9\u001b[39m \u001b[43m        \u001b[49m\u001b[43mmessages\u001b[49m\u001b[43m=\u001b[49m\u001b[43mmessages\u001b[49m\u001b[43m,\u001b[49m\n\u001b[32m     10\u001b[39m \u001b[43m        \u001b[49m\u001b[43m*\u001b[49m\u001b[43m*\u001b[49m\u001b[43mkwargs\u001b[49m\n\u001b[32m     11\u001b[39m \u001b[43m    \u001b[49m\u001b[43m)\u001b[49m\n\u001b[32m     13\u001b[39m     \u001b[38;5;28;01mreturn\u001b[39;00m response.choices[\u001b[32m0\u001b[39m].message\n",
      "\u001b[36mFile \u001b[39m\u001b[32m~/work/phd_researcher/.venv/lib/python3.12/site-packages/weave/trace/op.py:670\u001b[39m, in \u001b[36mop.<locals>.op_deco.<locals>.create_wrapper.<locals>.wrapper\u001b[39m\u001b[34m(*args, **kwargs)\u001b[39m\n\u001b[32m    668\u001b[39m \u001b[38;5;129m@wraps\u001b[39m(func)\n\u001b[32m    669\u001b[39m \u001b[38;5;28;01mdef\u001b[39;00m\u001b[38;5;250m \u001b[39m\u001b[34mwrapper\u001b[39m(*args: Any, **kwargs: Any) -> Any:\n\u001b[32m--> \u001b[39m\u001b[32m670\u001b[39m     res, _ = \u001b[43m_call_sync_func\u001b[49m\u001b[43m(\u001b[49m\n\u001b[32m    671\u001b[39m \u001b[43m        \u001b[49m\u001b[43mcast\u001b[49m\u001b[43m(\u001b[49m\u001b[43mOp\u001b[49m\u001b[43m,\u001b[49m\u001b[43m \u001b[49m\u001b[43mwrapper\u001b[49m\u001b[43m)\u001b[49m\u001b[43m,\u001b[49m\u001b[43m \u001b[49m\u001b[43m*\u001b[49m\u001b[43margs\u001b[49m\u001b[43m,\u001b[49m\u001b[43m \u001b[49m\u001b[43m__should_raise\u001b[49m\u001b[43m=\u001b[49m\u001b[38;5;28;43;01mTrue\u001b[39;49;00m\u001b[43m,\u001b[49m\u001b[43m \u001b[49m\u001b[43m*\u001b[49m\u001b[43m*\u001b[49m\u001b[43mkwargs\u001b[49m\n\u001b[32m    672\u001b[39m \u001b[43m    \u001b[49m\u001b[43m)\u001b[49m\n\u001b[32m    673\u001b[39m     \u001b[38;5;28;01mreturn\u001b[39;00m res\n",
      "\u001b[36mFile \u001b[39m\u001b[32m~/work/phd_researcher/.venv/lib/python3.12/site-packages/weave/trace/op.py:412\u001b[39m, in \u001b[36m_call_sync_func\u001b[39m\u001b[34m(op, __weave, __should_raise, __require_explicit_finish, *args, **kwargs)\u001b[39m\n\u001b[32m    409\u001b[39m     \u001b[38;5;28;01mreturn\u001b[39;00m output\n\u001b[32m    411\u001b[39m \u001b[38;5;28;01mtry\u001b[39;00m:\n\u001b[32m--> \u001b[39m\u001b[32m412\u001b[39m     res = \u001b[43mfunc\u001b[49m\u001b[43m(\u001b[49m\u001b[43m*\u001b[49m\u001b[43margs\u001b[49m\u001b[43m,\u001b[49m\u001b[43m \u001b[49m\u001b[43m*\u001b[49m\u001b[43m*\u001b[49m\u001b[43mkwargs\u001b[49m\u001b[43m)\u001b[49m\n\u001b[32m    413\u001b[39m \u001b[38;5;28;01mexcept\u001b[39;00m \u001b[38;5;167;01mException\u001b[39;00m \u001b[38;5;28;01mas\u001b[39;00m e:\n\u001b[32m    414\u001b[39m     finish(exception=e)\n",
      "\u001b[36mFile \u001b[39m\u001b[32m~/work/phd_researcher/.venv/lib/python3.12/site-packages/mistralai/chat.py:178\u001b[39m, in \u001b[36mChat.complete\u001b[39m\u001b[34m(self, model, messages, temperature, top_p, max_tokens, stream, stop, random_seed, response_format, tools, tool_choice, presence_penalty, frequency_penalty, n, prediction, parallel_tool_calls, safe_prompt, retries, server_url, timeout_ms, http_headers)\u001b[39m\n\u001b[32m    163\u001b[39m \u001b[38;5;28;01melse\u001b[39;00m:\n\u001b[32m    164\u001b[39m     base_url = \u001b[38;5;28mself\u001b[39m._get_url(base_url, url_variables)\n\u001b[32m    166\u001b[39m request = models.ChatCompletionRequest(\n\u001b[32m    167\u001b[39m     model=model,\n\u001b[32m    168\u001b[39m     temperature=temperature,\n\u001b[32m    169\u001b[39m     top_p=top_p,\n\u001b[32m    170\u001b[39m     max_tokens=max_tokens,\n\u001b[32m    171\u001b[39m     stream=stream,\n\u001b[32m    172\u001b[39m     stop=stop,\n\u001b[32m    173\u001b[39m     random_seed=random_seed,\n\u001b[32m    174\u001b[39m     messages=utils.get_pydantic_model(messages, List[models.Messages]),\n\u001b[32m    175\u001b[39m     response_format=utils.get_pydantic_model(\n\u001b[32m    176\u001b[39m         response_format, Optional[models.ResponseFormat]\n\u001b[32m    177\u001b[39m     ),\n\u001b[32m--> \u001b[39m\u001b[32m178\u001b[39m     tools=\u001b[43mutils\u001b[49m\u001b[43m.\u001b[49m\u001b[43mget_pydantic_model\u001b[49m\u001b[43m(\u001b[49m\u001b[43mtools\u001b[49m\u001b[43m,\u001b[49m\u001b[43m \u001b[49m\u001b[43mOptionalNullable\u001b[49m\u001b[43m[\u001b[49m\u001b[43mList\u001b[49m\u001b[43m[\u001b[49m\u001b[43mmodels\u001b[49m\u001b[43m.\u001b[49m\u001b[43mTool\u001b[49m\u001b[43m]\u001b[49m\u001b[43m]\u001b[49m\u001b[43m)\u001b[49m,\n\u001b[32m    179\u001b[39m     tool_choice=utils.get_pydantic_model(\n\u001b[32m    180\u001b[39m         tool_choice, Optional[models.ChatCompletionRequestToolChoice]\n\u001b[32m    181\u001b[39m     ),\n\u001b[32m    182\u001b[39m     presence_penalty=presence_penalty,\n\u001b[32m    183\u001b[39m     frequency_penalty=frequency_penalty,\n\u001b[32m    184\u001b[39m     n=n,\n\u001b[32m    185\u001b[39m     prediction=utils.get_pydantic_model(\n\u001b[32m    186\u001b[39m         prediction, Optional[models.Prediction]\n\u001b[32m    187\u001b[39m     ),\n\u001b[32m    188\u001b[39m     parallel_tool_calls=parallel_tool_calls,\n\u001b[32m    189\u001b[39m     safe_prompt=safe_prompt,\n\u001b[32m    190\u001b[39m )\n\u001b[32m    192\u001b[39m req = \u001b[38;5;28mself\u001b[39m._build_request(\n\u001b[32m    193\u001b[39m     method=\u001b[33m\"\u001b[39m\u001b[33mPOST\u001b[39m\u001b[33m\"\u001b[39m,\n\u001b[32m    194\u001b[39m     path=\u001b[33m\"\u001b[39m\u001b[33m/v1/chat/completions\u001b[39m\u001b[33m\"\u001b[39m,\n\u001b[32m   (...)\u001b[39m\u001b[32m    208\u001b[39m     timeout_ms=timeout_ms,\n\u001b[32m    209\u001b[39m )\n\u001b[32m    211\u001b[39m \u001b[38;5;28;01mif\u001b[39;00m retries == UNSET:\n",
      "\u001b[36mFile \u001b[39m\u001b[32m~/work/phd_researcher/.venv/lib/python3.12/site-packages/mistralai/utils/serializers.py:206\u001b[39m, in \u001b[36mget_pydantic_model\u001b[39m\u001b[34m(data, typ)\u001b[39m\n\u001b[32m    204\u001b[39m \u001b[38;5;28;01mdef\u001b[39;00m\u001b[38;5;250m \u001b[39m\u001b[34mget_pydantic_model\u001b[39m(data: Any, typ: Any) -> Any:\n\u001b[32m    205\u001b[39m     \u001b[38;5;28;01mif\u001b[39;00m \u001b[38;5;129;01mnot\u001b[39;00m _contains_pydantic_model(data):\n\u001b[32m--> \u001b[39m\u001b[32m206\u001b[39m         \u001b[38;5;28;01mreturn\u001b[39;00m \u001b[43munmarshal\u001b[49m\u001b[43m(\u001b[49m\u001b[43mdata\u001b[49m\u001b[43m,\u001b[49m\u001b[43m \u001b[49m\u001b[43mtyp\u001b[49m\u001b[43m)\u001b[49m\n\u001b[32m    208\u001b[39m     \u001b[38;5;28;01mreturn\u001b[39;00m data\n",
      "\u001b[36mFile \u001b[39m\u001b[32m~/work/phd_researcher/.venv/lib/python3.12/site-packages/mistralai/utils/serializers.py:147\u001b[39m, in \u001b[36munmarshal\u001b[39m\u001b[34m(val, typ)\u001b[39m\n\u001b[32m    140\u001b[39m \u001b[38;5;28;01mdef\u001b[39;00m\u001b[38;5;250m \u001b[39m\u001b[34munmarshal\u001b[39m(val, typ: Any) -> Any:\n\u001b[32m    141\u001b[39m     unmarshaller = create_model(\n\u001b[32m    142\u001b[39m         \u001b[33m\"\u001b[39m\u001b[33mUnmarshaller\u001b[39m\u001b[33m\"\u001b[39m,\n\u001b[32m    143\u001b[39m         body=(typ, ...),\n\u001b[32m    144\u001b[39m         __config__=ConfigDict(populate_by_name=\u001b[38;5;28;01mTrue\u001b[39;00m, arbitrary_types_allowed=\u001b[38;5;28;01mTrue\u001b[39;00m),\n\u001b[32m    145\u001b[39m     )\n\u001b[32m--> \u001b[39m\u001b[32m147\u001b[39m     m = \u001b[43munmarshaller\u001b[49m\u001b[43m(\u001b[49m\u001b[43mbody\u001b[49m\u001b[43m=\u001b[49m\u001b[43mval\u001b[49m\u001b[43m)\u001b[49m\n\u001b[32m    149\u001b[39m     \u001b[38;5;66;03m# pyright: ignore[reportAttributeAccessIssue]\u001b[39;00m\n\u001b[32m    150\u001b[39m     \u001b[38;5;28;01mreturn\u001b[39;00m m.body\n",
      "\u001b[36mFile \u001b[39m\u001b[32m~/work/phd_researcher/.venv/lib/python3.12/site-packages/pydantic/main.py:253\u001b[39m, in \u001b[36mBaseModel.__init__\u001b[39m\u001b[34m(self, **data)\u001b[39m\n\u001b[32m    251\u001b[39m \u001b[38;5;66;03m# `__tracebackhide__` tells pytest and some other tools to omit this function from tracebacks\u001b[39;00m\n\u001b[32m    252\u001b[39m __tracebackhide__ = \u001b[38;5;28;01mTrue\u001b[39;00m\n\u001b[32m--> \u001b[39m\u001b[32m253\u001b[39m validated_self = \u001b[38;5;28;43mself\u001b[39;49m\u001b[43m.\u001b[49m\u001b[43m__pydantic_validator__\u001b[49m\u001b[43m.\u001b[49m\u001b[43mvalidate_python\u001b[49m\u001b[43m(\u001b[49m\u001b[43mdata\u001b[49m\u001b[43m,\u001b[49m\u001b[43m \u001b[49m\u001b[43mself_instance\u001b[49m\u001b[43m=\u001b[49m\u001b[38;5;28;43mself\u001b[39;49m\u001b[43m)\u001b[49m\n\u001b[32m    254\u001b[39m \u001b[38;5;28;01mif\u001b[39;00m \u001b[38;5;28mself\u001b[39m \u001b[38;5;129;01mis\u001b[39;00m \u001b[38;5;129;01mnot\u001b[39;00m validated_self:\n\u001b[32m    255\u001b[39m     warnings.warn(\n\u001b[32m    256\u001b[39m         \u001b[33m'\u001b[39m\u001b[33mA custom validator is returning a value other than `self`.\u001b[39m\u001b[38;5;130;01m\\n\u001b[39;00m\u001b[33m'\u001b[39m\n\u001b[32m    257\u001b[39m         \u001b[33m\"\u001b[39m\u001b[33mReturning anything other than `self` from a top level model validator isn\u001b[39m\u001b[33m'\u001b[39m\u001b[33mt supported when validating via `__init__`.\u001b[39m\u001b[38;5;130;01m\\n\u001b[39;00m\u001b[33m\"\u001b[39m\n\u001b[32m    258\u001b[39m         \u001b[33m'\u001b[39m\u001b[33mSee the `model_validator` docs (https://docs.pydantic.dev/latest/concepts/validators/#model-validators) for more details.\u001b[39m\u001b[33m'\u001b[39m,\n\u001b[32m    259\u001b[39m         stacklevel=\u001b[32m2\u001b[39m,\n\u001b[32m    260\u001b[39m     )\n",
      "\u001b[31mValidationError\u001b[39m: 2 validation errors for Unmarshaller\nbody.nullable[list[Tool]].0\n  Input should be a valid dictionary or instance of Tool [type=model_type, input_value=<function add_numbers at 0x1307d6ac0>, input_type=function]\n    For further information visit https://errors.pydantic.dev/2.11/v/model_type\nbody.Unset\n  Input should be a valid dictionary or instance of Unset [type=model_type, input_value=[<function add_numbers at 0x1307d6ac0>], input_type=list]\n    For further information visit https://errors.pydantic.dev/2.11/v/model_type"
     ]
    }
   ],
   "source": [
    "# this doesn't work...\n",
    "call_model(model_name=MISTRAL_SMALL_MODEL, messages=messages, tools=[add_numbers])"
   ]
  },
  {
   "cell_type": "markdown",
   "id": "b082a58a",
   "metadata": {},
   "source": [
    "> We need to manually create the JSON schema describing this tool in a format that models *Mistral* understand."
   ]
  },
  {
   "cell_type": "code",
   "execution_count": 10,
   "id": "190a9063",
   "metadata": {},
   "outputs": [],
   "source": [
    "# Manually define the tool schema\n",
    "tool_add_numbers_schema = {\n",
    "    \"type\": \"function\",\n",
    "    \"function\": {\n",
    "        \"name\": \"add_numbers\",\n",
    "        \"description\": \"Adds two numbers.\",\n",
    "        \"parameters\": {\n",
    "            \"type\": \"object\",\n",
    "            \"properties\": {\n",
    "                \"a\": {\n",
    "                    \"type\": \"integer\",\n",
    "                    \"description\": \"The first number.\"\n",
    "                },\n",
    "                \"b\": {\n",
    "                    \"type\": \"integer\",\n",
    "                    \"description\": \"The second number.\"\n",
    "                }\n",
    "            },\n",
    "            \"required\": [\"a\", \"b\"]\n",
    "        }\n",
    "    }\n",
    "}"
   ]
  },
  {
   "cell_type": "markdown",
   "id": "f8b6dfd4",
   "metadata": {},
   "source": [
    "Now, we make an LLM call, passing the `tools` parameter with our schema. We ask a question that should trigger the tool."
   ]
  },
  {
   "cell_type": "code",
   "execution_count": 11,
   "id": "0e7d2900",
   "metadata": {},
   "outputs": [
    {
     "name": "stdout",
     "output_type": "stream",
     "text": [
      "🍩 https://wandb.ai/capecape/paris-woprkshop-2025/r/call/0196b435-3c31-7c70-b110-c1fec92012b0\n"
     ]
    },
    {
     "data": {
      "text/html": [
       "<pre style=\"white-space:pre;overflow-x:auto;line-height:normal;font-family:Menlo,'DejaVu Sans Mono',consolas,'Courier New',monospace\"><span style=\"color: #800080; text-decoration-color: #800080; font-weight: bold\">AssistantMessage</span><span style=\"font-weight: bold\">(</span>\n",
       "<span style=\"color: #7fbf7f; text-decoration-color: #7fbf7f\">│   </span><span style=\"color: #808000; text-decoration-color: #808000\">content</span>=<span style=\"color: #008000; text-decoration-color: #008000\">''</span>,\n",
       "<span style=\"color: #7fbf7f; text-decoration-color: #7fbf7f\">│   </span><span style=\"color: #808000; text-decoration-color: #808000\">tool_calls</span>=<span style=\"font-weight: bold\">[</span>\n",
       "<span style=\"color: #7fbf7f; text-decoration-color: #7fbf7f\">│   │   </span><span style=\"color: #800080; text-decoration-color: #800080; font-weight: bold\">ToolCall</span><span style=\"font-weight: bold\">(</span>\n",
       "<span style=\"color: #7fbf7f; text-decoration-color: #7fbf7f\">│   │   │   </span><span style=\"color: #808000; text-decoration-color: #808000\">function</span>=<span style=\"color: #800080; text-decoration-color: #800080; font-weight: bold\">FunctionCall</span><span style=\"font-weight: bold\">(</span><span style=\"color: #808000; text-decoration-color: #808000\">name</span>=<span style=\"color: #008000; text-decoration-color: #008000\">'add_numbers'</span>, <span style=\"color: #808000; text-decoration-color: #808000\">arguments</span>=<span style=\"color: #008000; text-decoration-color: #008000\">'{\"a\": 77, \"b\": 11}'</span><span style=\"font-weight: bold\">)</span>,\n",
       "<span style=\"color: #7fbf7f; text-decoration-color: #7fbf7f\">│   │   │   </span><span style=\"color: #808000; text-decoration-color: #808000\">id</span>=<span style=\"color: #008000; text-decoration-color: #008000\">'kZv6pUpOz'</span>,\n",
       "<span style=\"color: #7fbf7f; text-decoration-color: #7fbf7f\">│   │   │   </span><span style=\"color: #808000; text-decoration-color: #808000\">type</span>=<span style=\"color: #800080; text-decoration-color: #800080; font-style: italic\">None</span>,\n",
       "<span style=\"color: #7fbf7f; text-decoration-color: #7fbf7f\">│   │   │   </span><span style=\"color: #808000; text-decoration-color: #808000\">index</span>=<span style=\"color: #008080; text-decoration-color: #008080; font-weight: bold\">0</span>\n",
       "<span style=\"color: #7fbf7f; text-decoration-color: #7fbf7f\">│   │   </span><span style=\"font-weight: bold\">)</span>\n",
       "<span style=\"color: #7fbf7f; text-decoration-color: #7fbf7f\">│   </span><span style=\"font-weight: bold\">]</span>,\n",
       "<span style=\"color: #7fbf7f; text-decoration-color: #7fbf7f\">│   </span><span style=\"color: #808000; text-decoration-color: #808000\">prefix</span>=<span style=\"color: #ff0000; text-decoration-color: #ff0000; font-style: italic\">False</span>,\n",
       "<span style=\"color: #7fbf7f; text-decoration-color: #7fbf7f\">│   </span><span style=\"color: #808000; text-decoration-color: #808000\">role</span>=<span style=\"color: #008000; text-decoration-color: #008000\">'assistant'</span>\n",
       "<span style=\"font-weight: bold\">)</span>\n",
       "</pre>\n"
      ],
      "text/plain": [
       "\u001b[1;35mAssistantMessage\u001b[0m\u001b[1m(\u001b[0m\n",
       "\u001b[2;32m│   \u001b[0m\u001b[33mcontent\u001b[0m=\u001b[32m''\u001b[0m,\n",
       "\u001b[2;32m│   \u001b[0m\u001b[33mtool_calls\u001b[0m=\u001b[1m[\u001b[0m\n",
       "\u001b[2;32m│   │   \u001b[0m\u001b[1;35mToolCall\u001b[0m\u001b[1m(\u001b[0m\n",
       "\u001b[2;32m│   │   │   \u001b[0m\u001b[33mfunction\u001b[0m=\u001b[1;35mFunctionCall\u001b[0m\u001b[1m(\u001b[0m\u001b[33mname\u001b[0m=\u001b[32m'add_numbers'\u001b[0m, \u001b[33marguments\u001b[0m=\u001b[32m'\u001b[0m\u001b[32m{\u001b[0m\u001b[32m\"a\": 77, \"b\": 11\u001b[0m\u001b[32m}\u001b[0m\u001b[32m'\u001b[0m\u001b[1m)\u001b[0m,\n",
       "\u001b[2;32m│   │   │   \u001b[0m\u001b[33mid\u001b[0m=\u001b[32m'kZv6pUpOz'\u001b[0m,\n",
       "\u001b[2;32m│   │   │   \u001b[0m\u001b[33mtype\u001b[0m=\u001b[3;35mNone\u001b[0m,\n",
       "\u001b[2;32m│   │   │   \u001b[0m\u001b[33mindex\u001b[0m=\u001b[1;36m0\u001b[0m\n",
       "\u001b[2;32m│   │   \u001b[0m\u001b[1m)\u001b[0m\n",
       "\u001b[2;32m│   \u001b[0m\u001b[1m]\u001b[0m,\n",
       "\u001b[2;32m│   \u001b[0m\u001b[33mprefix\u001b[0m=\u001b[3;91mFalse\u001b[0m,\n",
       "\u001b[2;32m│   \u001b[0m\u001b[33mrole\u001b[0m=\u001b[32m'assistant'\u001b[0m\n",
       "\u001b[1m)\u001b[0m\n"
      ]
     },
     "metadata": {},
     "output_type": "display_data"
    }
   ],
   "source": [
    "messages = [\n",
    "    {\"role\": \"system\", \"content\": \"You are a helpful assistant that can use tools to answer questions.\"},\n",
    "    {\"role\": \"user\", \"content\": \"My lucky numbers are 77 and 11. What is their sum?\"}]\n",
    "response = call_model(model_name=MISTRAL_SMALL_MODEL, messages=messages, tools=[tool_add_numbers_schema])\n",
    "pprint(response)"
   ]
  },
  {
   "cell_type": "markdown",
   "id": "092fdded",
   "metadata": {},
   "source": [
    "## Manual Tool Call\n",
    "The LLM's response might contain a request to call our tool (`response.choices[0].message.tool_calls`) or it might respond directly (`response.choices[0].message.content`). If it requests a tool call, we need to:\n",
    "\n",
    "1. Parse the arguments it provides.\n",
    "2. Execute our actual Python function (`add_numbers`) with those arguments.\n",
    "3. (In a real agent loop) Send the result back to the LLM in a new message with `role=\"tool\"`."
   ]
  },
  {
   "cell_type": "markdown",
   "id": "10f1ea6c",
   "metadata": {},
   "source": [
    "Let's manually call the tools in the response."
   ]
  },
  {
   "cell_type": "code",
   "execution_count": 12,
   "id": "b8e64e83",
   "metadata": {},
   "outputs": [
    {
     "name": "stdout",
     "output_type": "stream",
     "text": [
      "LLM requested a tool call:\n",
      "  - Tool: add_numbers, Args: {\"a\": 77, \"b\": 11}\n",
      "🍩 https://wandb.ai/capecape/paris-woprkshop-2025/r/call/0196b435-6813-7c83-9de1-65830a4b7f3e\n",
      "88\n"
     ]
    },
    {
     "name": "stdout",
     "output_type": "stream",
     "text": [
      "🍩 https://wandb.ai/capecape/paris-woprkshop-2025/r/call/0196b437-59ea-7550-96a6-c22503443eb7\n",
      "🍩 https://wandb.ai/capecape/paris-woprkshop-2025/r/call/0196b44a-1824-7411-897d-dbb26333bf40\n",
      "🍩 https://wandb.ai/capecape/paris-woprkshop-2025/r/call/0196b44b-7b9f-7802-9ae9-f40b20b50313\n",
      "🍩 https://wandb.ai/capecape/paris-woprkshop-2025/r/call/0196b44d-c9d7-7e91-aeb2-91154dabffb6\n",
      "🍩 https://wandb.ai/capecape/paris-woprkshop-2025/r/call/0196b485-893c-7290-89ab-01364f287d12\n",
      "🍩 https://wandb.ai/capecape/paris-woprkshop-2025/r/call/0196b48e-e221-7852-abb7-b81024bcae2f\n",
      "🍩 https://wandb.ai/capecape/paris-woprkshop-2025/r/call/0196b492-1a1f-7971-b310-8b66365ace5f\n",
      "🍩 https://wandb.ai/capecape/paris-woprkshop-2025/r/call/0196b4ad-0020-7882-8afb-d834207df1dc\n",
      "🍩 https://wandb.ai/capecape/paris-woprkshop-2025/r/call/0196b4ad-bb2e-7242-8350-0b1593acbe2f\n",
      "🍩 https://wandb.ai/capecape/paris-woprkshop-2025/r/call/0196b4ad-d94a-73b1-8868-b983b67e6840\n",
      "🍩 https://wandb.ai/capecape/paris-woprkshop-2025/r/call/0196b4ad-d950-7612-bce1-be62fb36e747\n",
      "🍩 https://wandb.ai/capecape/paris-woprkshop-2025/r/call/0196b4ad-f635-7733-944e-1b3d7f4b9cf3\n",
      "🍩 https://wandb.ai/capecape/paris-woprkshop-2025/r/call/0196b4ae-0b01-70c3-b6aa-e08a3c115d8a\n",
      "🍩 https://wandb.ai/capecape/paris-woprkshop-2025/r/call/0196b4ae-1a44-7522-961a-10d120076b00\n",
      "🍩 https://wandb.ai/capecape/paris-woprkshop-2025/r/call/0196b4ae-214c-7ba3-8ec6-51e96b767554\n",
      "🍩 https://wandb.ai/capecape/paris-woprkshop-2025/r/call/0196b4ae-31fc-7ed0-ac06-7e8acea8242a\n",
      "🍩 https://wandb.ai/capecape/paris-woprkshop-2025/r/call/0196b4ae-5792-79d2-ae53-eaa19e2610ad\n",
      "🍩 https://wandb.ai/capecape/paris-woprkshop-2025/r/call/0196b4ae-7f6e-77d0-832e-adfc151792a8\n",
      "🍩 https://wandb.ai/capecape/paris-woprkshop-2025/r/call/0196b4ae-8741-7df3-a173-1ebf357b7320\n",
      "🍩 https://wandb.ai/capecape/paris-woprkshop-2025/r/call/0196b4ae-97c4-72d1-ac79-6ceb3ec1732c\n",
      "🍩 https://wandb.ai/capecape/paris-woprkshop-2025/r/call/0196b4ae-a4a6-7681-841e-1fe42369c34f\n",
      "🍩 https://wandb.ai/capecape/paris-woprkshop-2025/r/call/0196b4ae-c411-79d1-bff4-443ece05347e\n",
      "🍩 https://wandb.ai/capecape/paris-woprkshop-2025/r/call/0196b4ae-ca70-7af2-a7c3-4331bc19709e\n",
      "🍩 https://wandb.ai/capecape/paris-woprkshop-2025/r/call/0196b4ae-d612-73a0-8b0f-1eea13ef50d4\n",
      "🍩 https://wandb.ai/capecape/paris-woprkshop-2025/r/call/0196b4ae-da30-7cc0-a383-338d181f342d\n",
      "🍩 https://wandb.ai/capecape/paris-woprkshop-2025/r/call/0196b4ae-ee12-7a02-bb19-b64e8c4cf0c0\n",
      "🍩 https://wandb.ai/capecape/paris-woprkshop-2025/r/call/0196b4ae-f766-7c20-b38a-851d2c191d75\n",
      "🍩 https://wandb.ai/capecape/paris-woprkshop-2025/r/call/0196b4af-0986-7193-b199-85cccffc9727\n",
      "🍩 https://wandb.ai/capecape/paris-woprkshop-2025/r/call/0196b4af-1dc2-7723-a99a-537803ab5241\n",
      "🍩 https://wandb.ai/capecape/paris-woprkshop-2025/r/call/0196b4af-2b88-7123-9c67-8adc8a04ab80\n",
      "🍩 https://wandb.ai/capecape/paris-woprkshop-2025/r/call/0196b4af-46be-7982-b41d-8702c2543682\n",
      "🍩 https://wandb.ai/capecape/paris-woprkshop-2025/r/call/0196b4af-4f3b-7a30-be8a-c706daa63482\n",
      "🍩 https://wandb.ai/capecape/paris-woprkshop-2025/r/call/0196b4af-5a65-7403-8b7c-d96506483307\n",
      "🍩 https://wandb.ai/capecape/paris-woprkshop-2025/r/call/0196b4af-7a58-7240-aa42-b2ee3d65569f\n",
      "🍩 https://wandb.ai/capecape/paris-woprkshop-2025/r/call/0196b4af-7f7c-73f0-b68b-38ac2f489e66\n",
      "🍩 https://wandb.ai/capecape/paris-woprkshop-2025/r/call/0196b4af-96b5-7851-8bd3-dd698e4745dd\n",
      "🍩 https://wandb.ai/capecape/paris-woprkshop-2025/r/call/0196b4af-b676-7240-ae3f-7fe09e4699a2\n",
      "🍩 https://wandb.ai/capecape/paris-woprkshop-2025/r/call/0196b4af-c5ac-7070-afad-e9b40dbd9ce9\n",
      "🍩 https://wandb.ai/capecape/paris-woprkshop-2025/r/call/0196b4b0-2ed5-74c3-ac83-915dfa85264a\n",
      "🍩 https://wandb.ai/capecape/paris-woprkshop-2025/r/call/0196b4b0-5c3c-71d2-b3e8-e78f447d59cb\n",
      "🍩 https://wandb.ai/capecape/paris-woprkshop-2025/r/call/0196b4b0-9569-7b02-951a-c116c918c9a6\n",
      "🍩 https://wandb.ai/capecape/paris-woprkshop-2025/r/call/0196b4b0-fb1f-7472-adf1-8be2c8737d67\n",
      "🍩 https://wandb.ai/capecape/paris-woprkshop-2025/r/call/0196b4b1-2c6b-7192-b780-256ba879f5ba\n",
      "🍩 https://wandb.ai/capecape/paris-woprkshop-2025/r/call/0196b4b1-6e50-7130-b790-86ea7ad31abd\n",
      "🍩 https://wandb.ai/capecape/paris-woprkshop-2025/r/call/0196b4b1-9bbe-7140-9141-d0f4a36c7c48\n",
      "🍩 https://wandb.ai/capecape/paris-woprkshop-2025/r/call/0196b4b2-34f3-7660-b05d-a1dd735c602a\n",
      "🍩 https://wandb.ai/capecape/paris-woprkshop-2025/r/call/0196b4b2-7384-7e82-b52a-ab987b38288d\n",
      "🍩 https://wandb.ai/capecape/paris-woprkshop-2025/r/call/0196b4b2-a604-7383-a4a2-ca33e6c57a90\n",
      "🍩 https://wandb.ai/capecape/paris-woprkshop-2025/r/call/0196b4b2-dbb2-7e13-a9d3-8657966c28f0\n",
      "🍩 https://wandb.ai/capecape/paris-woprkshop-2025/r/call/0196b4b3-8229-7980-881c-6119772f570c\n",
      "🍩 https://wandb.ai/capecape/paris-woprkshop-2025/r/call/0196b4b3-b4ee-7dc0-a289-e2833f3d14a5\n",
      "🍩 https://wandb.ai/capecape/paris-woprkshop-2025/r/call/0196b4b3-f663-79e0-9548-207b4b6003df\n",
      "🍩 https://wandb.ai/capecape/paris-woprkshop-2025/r/call/0196b4b4-51ca-7101-b8e3-3422a1d12d74\n",
      "🍩 https://wandb.ai/capecape/paris-woprkshop-2025/r/call/0196b4b4-8ffb-71a2-a1a4-3180c36c820b\n",
      "🍩 https://wandb.ai/capecape/paris-woprkshop-2025/r/call/0196b4f1-9cf0-7a32-87d1-d440f952c45a\n",
      "🍩 https://wandb.ai/capecape/paris-woprkshop-2025/r/call/0196b4f1-9cf2-75f1-9670-9171d226891f\n",
      "🍩 https://wandb.ai/capecape/paris-woprkshop-2025/r/call/0196b4f1-cafa-7690-b709-0c21cd56f2c6\n",
      "🍩 https://wandb.ai/capecape/paris-woprkshop-2025/r/call/0196b4f1-f184-72c0-b785-50b425bc974e\n",
      "🍩 https://wandb.ai/capecape/paris-woprkshop-2025/r/call/0196b4f2-1347-7fe3-a10a-54c47482bf60\n",
      "🍩 https://wandb.ai/capecape/paris-woprkshop-2025/r/call/0196b4f2-3527-7891-bb6a-eb81bb2e5a01\n",
      "🍩 https://wandb.ai/capecape/paris-woprkshop-2025/r/call/0196b4f2-43d6-77a1-86d5-c642ee70bae3\n",
      "🍩 https://wandb.ai/capecape/paris-woprkshop-2025/r/call/0196b4f2-554d-7772-a3d8-99c761b52f32\n",
      "🍩 https://wandb.ai/capecape/paris-woprkshop-2025/r/call/0196b4f2-74dc-7ad1-83d0-da967b17f136\n",
      "🍩 https://wandb.ai/capecape/paris-woprkshop-2025/r/call/0196b4f2-838b-7d02-8025-9b3b2f9e0676\n",
      "🍩 https://wandb.ai/capecape/paris-woprkshop-2025/r/call/0196b4f2-c222-75a3-ae50-75d991517215\n",
      "🍩 https://wandb.ai/capecape/paris-woprkshop-2025/r/call/0196b4f2-dffc-7292-bcf9-3cb157809eb4\n",
      "🍩 https://wandb.ai/capecape/paris-woprkshop-2025/r/call/0196b4f3-12f1-7411-ae94-a3cfd496eb3c\n",
      "🍩 https://wandb.ai/capecape/paris-woprkshop-2025/r/call/0196b4f3-2069-7a72-aaf8-e7a4a64d4bd8\n",
      "🍩 https://wandb.ai/capecape/paris-woprkshop-2025/r/call/0196b4f3-283c-7d10-a771-596333e675d5\n",
      "🍩 https://wandb.ai/capecape/paris-woprkshop-2025/r/call/0196b4f3-3bae-7f33-894b-855b08915c8e\n",
      "🍩 https://wandb.ai/capecape/paris-woprkshop-2025/r/call/0196b4f3-404f-7260-9591-af530123151a\n",
      "🍩 https://wandb.ai/capecape/paris-woprkshop-2025/r/call/0196b4f3-4ccd-7e53-a2a9-5adc7c391776\n",
      "🍩 https://wandb.ai/capecape/paris-woprkshop-2025/r/call/0196b4f3-5862-7141-abf7-fc3a1d950dc2\n",
      "🍩 https://wandb.ai/capecape/paris-woprkshop-2025/r/call/0196b4f3-5e02-7be2-a287-dafac60acf8a\n",
      "🍩 https://wandb.ai/capecape/paris-woprkshop-2025/r/call/0196b4f3-648c-7dd2-9e5f-faf8eb2166de\n",
      "🍩 https://wandb.ai/capecape/paris-woprkshop-2025/r/call/0196b4f3-8867-73b0-a0f6-ecee32f48d95\n",
      "🍩 https://wandb.ai/capecape/paris-woprkshop-2025/r/call/0196b4f3-964f-7283-9404-cab48a416cd7\n",
      "🍩 https://wandb.ai/capecape/paris-woprkshop-2025/r/call/0196b4f3-c6b1-7ac1-a381-17fad665e2d1\n"
     ]
    }
   ],
   "source": [
    "if response.tool_calls:\n",
    "    print(\"LLM requested a tool call:\")\n",
    "    for tool_call in response.tool_calls:\n",
    "        function_name = tool_call.function.name\n",
    "        function_args_str = tool_call.function.arguments\n",
    "        function_args = json.loads(function_args_str)\n",
    "        print(f\"  - Tool: {function_name}, Args: {function_args_str}\")\n",
    "        if function_name == \"add_numbers\":\n",
    "            tool_result_content = add_numbers(**function_args)\n",
    "\n",
    "print(tool_result_content)"
   ]
  },
  {
   "cell_type": "markdown",
   "id": "e8f38a9f",
   "metadata": {},
   "source": [
    "We need to add the tool call result to the messages (there is actually 2 messages to add)\n",
    "- the response from the assistant that decided to call the tool\n",
    "- the tool output"
   ]
  },
  {
   "cell_type": "code",
   "execution_count": 13,
   "id": "dd2ca3b8",
   "metadata": {},
   "outputs": [],
   "source": [
    "messages.append(response.model_dump())"
   ]
  },
  {
   "cell_type": "code",
   "execution_count": 14,
   "id": "d13d8f5a",
   "metadata": {},
   "outputs": [],
   "source": [
    "messages.append({\n",
    "    \"tool_call_id\": tool_call.id,\n",
    "    \"role\": \"tool\",\n",
    "    \"name\": function_name,\n",
    "    \"content\": str(tool_result_content)\n",
    "})"
   ]
  },
  {
   "cell_type": "code",
   "execution_count": 15,
   "id": "a0992e3a",
   "metadata": {},
   "outputs": [
    {
     "data": {
      "text/plain": [
       "[{'role': 'system',\n",
       "  'content': 'You are a helpful assistant that can use tools to answer questions.'},\n",
       " {'role': 'user',\n",
       "  'content': 'My lucky numbers are 77 and 11. What is their sum?'},\n",
       " {'content': '',\n",
       "  'tool_calls': [{'function': {'name': 'add_numbers',\n",
       "     'arguments': '{\"a\": 77, \"b\": 11}'},\n",
       "    'id': 'kZv6pUpOz',\n",
       "    'type': None,\n",
       "    'index': 0}],\n",
       "  'prefix': False,\n",
       "  'role': 'assistant'},\n",
       " {'tool_call_id': 'kZv6pUpOz',\n",
       "  'role': 'tool',\n",
       "  'name': 'add_numbers',\n",
       "  'content': '88'}]"
      ]
     },
     "execution_count": 15,
     "metadata": {},
     "output_type": "execute_result"
    }
   ],
   "source": [
    "messages"
   ]
  },
  {
   "cell_type": "markdown",
   "id": "f98c76bf",
   "metadata": {},
   "source": [
    "You should have a sequence of messages like this:\n"
   ]
  },
  {
   "cell_type": "code",
   "execution_count": 18,
   "id": "a5621c18",
   "metadata": {},
   "outputs": [
    {
     "data": {
      "text/plain": [
       "['system', 'user', 'assistant', 'tool']"
      ]
     },
     "execution_count": 18,
     "metadata": {},
     "output_type": "execute_result"
    }
   ],
   "source": [
    "[m[\"role\"] for m in messages]"
   ]
  },
  {
   "cell_type": "markdown",
   "id": "50a4b05f",
   "metadata": {},
   "source": [
    "Now call the model again with the new messages and it will use the tool call result to answer the question"
   ]
  },
  {
   "cell_type": "code",
   "execution_count": 19,
   "id": "fbf845aa",
   "metadata": {},
   "outputs": [
    {
     "name": "stdout",
     "output_type": "stream",
     "text": [
      "🍩 https://wandb.ai/capecape/paris-woprkshop-2025/r/call/0196b436-5c07-7960-92c7-c2095c3dd573\n",
      "The sum of 77 and 11 is 88.\n"
     ]
    }
   ],
   "source": [
    "final_response = call_model(model_name=MISTRAL_SMALL_MODEL, messages=messages)\n",
    "print(final_response.content)"
   ]
  },
  {
   "cell_type": "markdown",
   "id": "0e01abc5",
   "metadata": {},
   "source": [
    "## 3. Simplifying Tool Definition with a Processor Function\n",
    "\n",
    "Manually writing JSON schemas is tedious and error-prone. We can automate this by inspecting our Python function's signature, type hints, and docstring.\n",
    "\n",
    "First, let's define a helper function (`generate_tool_schema`) that takes a Python function and generates the schema.\n"
   ]
  },
  {
   "cell_type": "code",
   "execution_count": 20,
   "id": "61ab93b4",
   "metadata": {},
   "outputs": [],
   "source": [
    "def generate_tool_schema(func: Callable) -> dict:\n",
    "    \"\"\"Given a Python function, generate a tool-compatible JSON schema.\n",
    "    Handles basic types and Enums. Assumes docstrings are formatted for arg descriptions.\n",
    "    \"\"\"\n",
    "    signature = inspect.signature(func)\n",
    "    parameters = signature.parameters\n",
    "    type_hints = get_type_hints(func)\n",
    "\n",
    "    schema = {\n",
    "        \"type\": \"function\",\n",
    "        \"function\": {\n",
    "            \"name\": func.__name__,\n",
    "            \"description\": inspect.getdoc(func).split(\"\\\\n\")[0] if inspect.getdoc(func) else \"\",\n",
    "            \"parameters\": {\n",
    "                \"type\": \"object\",\n",
    "                \"properties\": {},\n",
    "                \"required\": [],\n",
    "            },\n",
    "        },\n",
    "    }\n",
    "\n",
    "    docstring = inspect.getdoc(func)\n",
    "    param_descriptions = {}\n",
    "    if docstring:\n",
    "        args_section = False\n",
    "        current_param = None\n",
    "        for line in docstring.split('\\\\n'):\n",
    "            line_stripped = line.strip()\n",
    "            if line_stripped.lower().startswith((\"args:\", \"arguments:\", \"parameters:\")):\n",
    "                args_section = True\n",
    "                continue\n",
    "            if args_section:\n",
    "                if \":\" in line_stripped:\n",
    "                    param_name, desc = line_stripped.split(\":\", 1)\n",
    "                    param_descriptions[param_name.strip()] = desc.strip()\n",
    "                elif line_stripped and not line_stripped.startswith(\" \"): # Heuristic: end of args section\n",
    "                     args_section = False\n",
    "\n",
    "    for name, param in parameters.items():\n",
    "        is_required = param.default == inspect.Parameter.empty\n",
    "        param_type = type_hints.get(name, Any)\n",
    "        json_type = \"string\"\n",
    "        param_schema = {}\n",
    "\n",
    "        # Basic type mapping\n",
    "        if param_type == str: json_type = \"string\"\n",
    "        elif param_type == int: json_type = \"integer\"\n",
    "        elif param_type == float: json_type = \"number\"\n",
    "        elif param_type == bool: json_type = \"boolean\"\n",
    "        elif hasattr(param_type, '__origin__') and param_type.__origin__ is list: # Handle List[type]\n",
    "             item_type = param_type.__args__[0] if param_type.__args__ else Any\n",
    "             if item_type == str: param_schema = {\"type\": \"array\", \"items\": {\"type\": \"string\"}}\n",
    "             elif item_type == int: param_schema = {\"type\": \"array\", \"items\": {\"type\": \"integer\"}}\n",
    "             # Add more list item types if needed\n",
    "             else: param_schema = {\"type\": \"array\", \"items\": {\"type\": \"string\"}} # Default list item type\n",
    "        elif hasattr(param_type, \"__members__\") and issubclass(param_type, Enum): # Handle Enum\n",
    "             json_type = \"string\"\n",
    "             param_schema[\"enum\"] = [e.value for e in param_type]\n",
    "\n",
    "        if not param_schema: # If not set by List or Enum\n",
    "            param_schema[\"type\"] = json_type\n",
    "\n",
    "        param_schema[\"description\"] = param_descriptions.get(name, \"\")\n",
    "\n",
    "        if param.default != inspect.Parameter.empty and param.default is not None:\n",
    "             param_schema[\"default\"] = param.default # Note: OpenAI schema doesn't officially use default, but useful metadata\n",
    "\n",
    "        schema[\"function\"][\"parameters\"][\"properties\"][name] = param_schema\n",
    "        if is_required:\n",
    "            schema[\"function\"][\"parameters\"][\"required\"].append(name)\n",
    "    return schema"
   ]
  },
  {
   "cell_type": "markdown",
   "id": "8d193839",
   "metadata": {},
   "source": [
    "Now we can use this function to automatically generate the schema for our tool."
   ]
  },
  {
   "cell_type": "code",
   "execution_count": 21,
   "id": "187d550c",
   "metadata": {},
   "outputs": [
    {
     "data": {
      "text/html": [
       "<pre style=\"white-space:pre;overflow-x:auto;line-height:normal;font-family:Menlo,'DejaVu Sans Mono',consolas,'Courier New',monospace\"><span style=\"font-weight: bold\">{</span>\n",
       "<span style=\"color: #7fbf7f; text-decoration-color: #7fbf7f\">│   </span><span style=\"color: #008000; text-decoration-color: #008000\">'type'</span>: <span style=\"color: #008000; text-decoration-color: #008000\">'function'</span>,\n",
       "<span style=\"color: #7fbf7f; text-decoration-color: #7fbf7f\">│   </span><span style=\"color: #008000; text-decoration-color: #008000\">'function'</span>: <span style=\"font-weight: bold\">{</span>\n",
       "<span style=\"color: #7fbf7f; text-decoration-color: #7fbf7f\">│   │   </span><span style=\"color: #008000; text-decoration-color: #008000\">'name'</span>: <span style=\"color: #008000; text-decoration-color: #008000\">'add_numbers'</span>,\n",
       "<span style=\"color: #7fbf7f; text-decoration-color: #7fbf7f\">│   │   </span><span style=\"color: #008000; text-decoration-color: #008000\">'description'</span>: <span style=\"color: #008000; text-decoration-color: #008000\">'Adds two numbers.\\nArgs:\\n    a: The first number.\\n    b: The second number.'</span>,\n",
       "<span style=\"color: #7fbf7f; text-decoration-color: #7fbf7f\">│   │   </span><span style=\"color: #008000; text-decoration-color: #008000\">'parameters'</span>: <span style=\"font-weight: bold\">{</span>\n",
       "<span style=\"color: #7fbf7f; text-decoration-color: #7fbf7f\">│   │   │   </span><span style=\"color: #008000; text-decoration-color: #008000\">'type'</span>: <span style=\"color: #008000; text-decoration-color: #008000\">'object'</span>,\n",
       "<span style=\"color: #7fbf7f; text-decoration-color: #7fbf7f\">│   │   │   </span><span style=\"color: #008000; text-decoration-color: #008000\">'properties'</span>: <span style=\"font-weight: bold\">{</span>\n",
       "<span style=\"color: #7fbf7f; text-decoration-color: #7fbf7f\">│   │   │   │   </span><span style=\"color: #008000; text-decoration-color: #008000\">'a'</span>: <span style=\"font-weight: bold\">{</span><span style=\"color: #008000; text-decoration-color: #008000\">'type'</span>: <span style=\"color: #008000; text-decoration-color: #008000\">'integer'</span>, <span style=\"color: #008000; text-decoration-color: #008000\">'description'</span>: <span style=\"color: #008000; text-decoration-color: #008000\">''</span><span style=\"font-weight: bold\">}</span>,\n",
       "<span style=\"color: #7fbf7f; text-decoration-color: #7fbf7f\">│   │   │   │   </span><span style=\"color: #008000; text-decoration-color: #008000\">'b'</span>: <span style=\"font-weight: bold\">{</span><span style=\"color: #008000; text-decoration-color: #008000\">'type'</span>: <span style=\"color: #008000; text-decoration-color: #008000\">'integer'</span>, <span style=\"color: #008000; text-decoration-color: #008000\">'description'</span>: <span style=\"color: #008000; text-decoration-color: #008000\">''</span><span style=\"font-weight: bold\">}</span>\n",
       "<span style=\"color: #7fbf7f; text-decoration-color: #7fbf7f\">│   │   │   </span><span style=\"font-weight: bold\">}</span>,\n",
       "<span style=\"color: #7fbf7f; text-decoration-color: #7fbf7f\">│   │   │   </span><span style=\"color: #008000; text-decoration-color: #008000\">'required'</span>: <span style=\"font-weight: bold\">[</span><span style=\"color: #008000; text-decoration-color: #008000\">'a'</span>, <span style=\"color: #008000; text-decoration-color: #008000\">'b'</span><span style=\"font-weight: bold\">]</span>\n",
       "<span style=\"color: #7fbf7f; text-decoration-color: #7fbf7f\">│   │   </span><span style=\"font-weight: bold\">}</span>\n",
       "<span style=\"color: #7fbf7f; text-decoration-color: #7fbf7f\">│   </span><span style=\"font-weight: bold\">}</span>\n",
       "<span style=\"font-weight: bold\">}</span>\n",
       "</pre>\n"
      ],
      "text/plain": [
       "\u001b[1m{\u001b[0m\n",
       "\u001b[2;32m│   \u001b[0m\u001b[32m'type'\u001b[0m: \u001b[32m'function'\u001b[0m,\n",
       "\u001b[2;32m│   \u001b[0m\u001b[32m'function'\u001b[0m: \u001b[1m{\u001b[0m\n",
       "\u001b[2;32m│   │   \u001b[0m\u001b[32m'name'\u001b[0m: \u001b[32m'add_numbers'\u001b[0m,\n",
       "\u001b[2;32m│   │   \u001b[0m\u001b[32m'description'\u001b[0m: \u001b[32m'Adds two numbers.\\nArgs:\\n    a: The first number.\\n    b: The second number.'\u001b[0m,\n",
       "\u001b[2;32m│   │   \u001b[0m\u001b[32m'parameters'\u001b[0m: \u001b[1m{\u001b[0m\n",
       "\u001b[2;32m│   │   │   \u001b[0m\u001b[32m'type'\u001b[0m: \u001b[32m'object'\u001b[0m,\n",
       "\u001b[2;32m│   │   │   \u001b[0m\u001b[32m'properties'\u001b[0m: \u001b[1m{\u001b[0m\n",
       "\u001b[2;32m│   │   │   │   \u001b[0m\u001b[32m'a'\u001b[0m: \u001b[1m{\u001b[0m\u001b[32m'type'\u001b[0m: \u001b[32m'integer'\u001b[0m, \u001b[32m'description'\u001b[0m: \u001b[32m''\u001b[0m\u001b[1m}\u001b[0m,\n",
       "\u001b[2;32m│   │   │   │   \u001b[0m\u001b[32m'b'\u001b[0m: \u001b[1m{\u001b[0m\u001b[32m'type'\u001b[0m: \u001b[32m'integer'\u001b[0m, \u001b[32m'description'\u001b[0m: \u001b[32m''\u001b[0m\u001b[1m}\u001b[0m\n",
       "\u001b[2;32m│   │   │   \u001b[0m\u001b[1m}\u001b[0m,\n",
       "\u001b[2;32m│   │   │   \u001b[0m\u001b[32m'required'\u001b[0m: \u001b[1m[\u001b[0m\u001b[32m'a'\u001b[0m, \u001b[32m'b'\u001b[0m\u001b[1m]\u001b[0m\n",
       "\u001b[2;32m│   │   \u001b[0m\u001b[1m}\u001b[0m\n",
       "\u001b[2;32m│   \u001b[0m\u001b[1m}\u001b[0m\n",
       "\u001b[1m}\u001b[0m\n"
      ]
     },
     "metadata": {},
     "output_type": "display_data"
    }
   ],
   "source": [
    "tool_schema = generate_tool_schema(add_numbers)\n",
    "pprint(tool_schema)"
   ]
  },
  {
   "cell_type": "markdown",
   "id": "7867416e",
   "metadata": {},
   "source": [
    "Now, we define a `function_tool` \"processor\". This isn't a decorator in the `@` syntax sense here, but a function that we call *after* defining our tool function. It uses `generate_tool_schema` to attach the schema to the function object itself.\n"
   ]
  },
  {
   "cell_type": "code",
   "execution_count": 22,
   "id": "015ed9a3",
   "metadata": {},
   "outputs": [],
   "source": [
    "def function_tool(func: Callable) -> Callable:\n",
    "    \"\"\"Attaches a tool schema to the function and marks it as a tool.\n",
    "    Call this *after* defining your function: my_func = function_tool(my_func)\n",
    "    \"\"\"\n",
    "    try:\n",
    "        func.tool_schema = generate_tool_schema(func)\n",
    "        func.is_tool = True # Mark it as a tool\n",
    "    except Exception as e:\n",
    "        print(f\"Error processing tool {func.__name__}: {e}\")\n",
    "        # Optionally raise or mark as failed\n",
    "        func.tool_schema = None\n",
    "        func.is_tool = False\n",
    "    return func"
   ]
  },
  {
   "cell_type": "markdown",
   "id": "504243c6",
   "metadata": {},
   "source": [
    "We can use this function to automatically generate the schema for our tool, as a decorator or after the function is defined."
   ]
  },
  {
   "cell_type": "code",
   "execution_count": 23,
   "id": "8c424f21",
   "metadata": {},
   "outputs": [
    {
     "data": {
      "text/html": [
       "<pre style=\"white-space:pre;overflow-x:auto;line-height:normal;font-family:Menlo,'DejaVu Sans Mono',consolas,'Courier New',monospace\"><span style=\"font-weight: bold\">{</span>\n",
       "<span style=\"color: #7fbf7f; text-decoration-color: #7fbf7f\">│   </span><span style=\"color: #008000; text-decoration-color: #008000\">'type'</span>: <span style=\"color: #008000; text-decoration-color: #008000\">'function'</span>,\n",
       "<span style=\"color: #7fbf7f; text-decoration-color: #7fbf7f\">│   </span><span style=\"color: #008000; text-decoration-color: #008000\">'function'</span>: <span style=\"font-weight: bold\">{</span>\n",
       "<span style=\"color: #7fbf7f; text-decoration-color: #7fbf7f\">│   │   </span><span style=\"color: #008000; text-decoration-color: #008000\">'name'</span>: <span style=\"color: #008000; text-decoration-color: #008000\">'add_numbers'</span>,\n",
       "<span style=\"color: #7fbf7f; text-decoration-color: #7fbf7f\">│   │   </span><span style=\"color: #008000; text-decoration-color: #008000\">'description'</span>: <span style=\"color: #008000; text-decoration-color: #008000\">'Adds two numbers.\\nArgs:\\n    a: The first number.\\n    b: The second number.'</span>,\n",
       "<span style=\"color: #7fbf7f; text-decoration-color: #7fbf7f\">│   │   </span><span style=\"color: #008000; text-decoration-color: #008000\">'parameters'</span>: <span style=\"font-weight: bold\">{</span>\n",
       "<span style=\"color: #7fbf7f; text-decoration-color: #7fbf7f\">│   │   │   </span><span style=\"color: #008000; text-decoration-color: #008000\">'type'</span>: <span style=\"color: #008000; text-decoration-color: #008000\">'object'</span>,\n",
       "<span style=\"color: #7fbf7f; text-decoration-color: #7fbf7f\">│   │   │   </span><span style=\"color: #008000; text-decoration-color: #008000\">'properties'</span>: <span style=\"font-weight: bold\">{</span>\n",
       "<span style=\"color: #7fbf7f; text-decoration-color: #7fbf7f\">│   │   │   │   </span><span style=\"color: #008000; text-decoration-color: #008000\">'a'</span>: <span style=\"font-weight: bold\">{</span><span style=\"color: #008000; text-decoration-color: #008000\">'type'</span>: <span style=\"color: #008000; text-decoration-color: #008000\">'integer'</span>, <span style=\"color: #008000; text-decoration-color: #008000\">'description'</span>: <span style=\"color: #008000; text-decoration-color: #008000\">''</span><span style=\"font-weight: bold\">}</span>,\n",
       "<span style=\"color: #7fbf7f; text-decoration-color: #7fbf7f\">│   │   │   │   </span><span style=\"color: #008000; text-decoration-color: #008000\">'b'</span>: <span style=\"font-weight: bold\">{</span><span style=\"color: #008000; text-decoration-color: #008000\">'type'</span>: <span style=\"color: #008000; text-decoration-color: #008000\">'integer'</span>, <span style=\"color: #008000; text-decoration-color: #008000\">'description'</span>: <span style=\"color: #008000; text-decoration-color: #008000\">''</span><span style=\"font-weight: bold\">}</span>\n",
       "<span style=\"color: #7fbf7f; text-decoration-color: #7fbf7f\">│   │   │   </span><span style=\"font-weight: bold\">}</span>,\n",
       "<span style=\"color: #7fbf7f; text-decoration-color: #7fbf7f\">│   │   │   </span><span style=\"color: #008000; text-decoration-color: #008000\">'required'</span>: <span style=\"font-weight: bold\">[</span><span style=\"color: #008000; text-decoration-color: #008000\">'a'</span>, <span style=\"color: #008000; text-decoration-color: #008000\">'b'</span><span style=\"font-weight: bold\">]</span>\n",
       "<span style=\"color: #7fbf7f; text-decoration-color: #7fbf7f\">│   │   </span><span style=\"font-weight: bold\">}</span>\n",
       "<span style=\"color: #7fbf7f; text-decoration-color: #7fbf7f\">│   </span><span style=\"font-weight: bold\">}</span>\n",
       "<span style=\"font-weight: bold\">}</span>\n",
       "</pre>\n"
      ],
      "text/plain": [
       "\u001b[1m{\u001b[0m\n",
       "\u001b[2;32m│   \u001b[0m\u001b[32m'type'\u001b[0m: \u001b[32m'function'\u001b[0m,\n",
       "\u001b[2;32m│   \u001b[0m\u001b[32m'function'\u001b[0m: \u001b[1m{\u001b[0m\n",
       "\u001b[2;32m│   │   \u001b[0m\u001b[32m'name'\u001b[0m: \u001b[32m'add_numbers'\u001b[0m,\n",
       "\u001b[2;32m│   │   \u001b[0m\u001b[32m'description'\u001b[0m: \u001b[32m'Adds two numbers.\\nArgs:\\n    a: The first number.\\n    b: The second number.'\u001b[0m,\n",
       "\u001b[2;32m│   │   \u001b[0m\u001b[32m'parameters'\u001b[0m: \u001b[1m{\u001b[0m\n",
       "\u001b[2;32m│   │   │   \u001b[0m\u001b[32m'type'\u001b[0m: \u001b[32m'object'\u001b[0m,\n",
       "\u001b[2;32m│   │   │   \u001b[0m\u001b[32m'properties'\u001b[0m: \u001b[1m{\u001b[0m\n",
       "\u001b[2;32m│   │   │   │   \u001b[0m\u001b[32m'a'\u001b[0m: \u001b[1m{\u001b[0m\u001b[32m'type'\u001b[0m: \u001b[32m'integer'\u001b[0m, \u001b[32m'description'\u001b[0m: \u001b[32m''\u001b[0m\u001b[1m}\u001b[0m,\n",
       "\u001b[2;32m│   │   │   │   \u001b[0m\u001b[32m'b'\u001b[0m: \u001b[1m{\u001b[0m\u001b[32m'type'\u001b[0m: \u001b[32m'integer'\u001b[0m, \u001b[32m'description'\u001b[0m: \u001b[32m''\u001b[0m\u001b[1m}\u001b[0m\n",
       "\u001b[2;32m│   │   │   \u001b[0m\u001b[1m}\u001b[0m,\n",
       "\u001b[2;32m│   │   │   \u001b[0m\u001b[32m'required'\u001b[0m: \u001b[1m[\u001b[0m\u001b[32m'a'\u001b[0m, \u001b[32m'b'\u001b[0m\u001b[1m]\u001b[0m\n",
       "\u001b[2;32m│   │   \u001b[0m\u001b[1m}\u001b[0m\n",
       "\u001b[2;32m│   \u001b[0m\u001b[1m}\u001b[0m\n",
       "\u001b[1m}\u001b[0m\n"
      ]
     },
     "metadata": {},
     "output_type": "display_data"
    }
   ],
   "source": [
    "add_numbers = function_tool(add_numbers)\n",
    "pprint(add_numbers.tool_schema)\n"
   ]
  },
  {
   "cell_type": "code",
   "execution_count": 24,
   "id": "8c651811",
   "metadata": {},
   "outputs": [
    {
     "data": {
      "text/plain": [
       "{'type': 'function',\n",
       " 'function': {'name': 'add_numbers',\n",
       "  'description': 'Adds two numbers.\\nArgs:\\n    a: The first number.\\n    b: The second number.',\n",
       "  'parameters': {'type': 'object',\n",
       "   'properties': {'a': {'type': 'integer', 'description': ''},\n",
       "    'b': {'type': 'integer', 'description': ''}},\n",
       "   'required': ['a', 'b']}}}"
      ]
     },
     "execution_count": 24,
     "metadata": {},
     "output_type": "execute_result"
    }
   ],
   "source": [
    "add_numbers.tool_schema"
   ]
  },
  {
   "cell_type": "markdown",
   "id": "d7280921",
   "metadata": {},
   "source": [
    "and call the tool =)"
   ]
  },
  {
   "cell_type": "code",
   "execution_count": 25,
   "id": "70bd946a",
   "metadata": {},
   "outputs": [
    {
     "data": {
      "text/plain": [
       "3"
      ]
     },
     "execution_count": 25,
     "metadata": {},
     "output_type": "execute_result"
    }
   ],
   "source": [
    "add_numbers(1, 2)"
   ]
  },
  {
   "cell_type": "markdown",
   "id": "265ef16e",
   "metadata": {},
   "source": [
    "### 3.1 Real Example using an API based tool"
   ]
  },
  {
   "cell_type": "markdown",
   "id": "5227a8a9",
   "metadata": {},
   "source": [
    "Let's create a real example hitting an API: The pokemon API"
   ]
  },
  {
   "cell_type": "code",
   "execution_count": 27,
   "id": "7972869e",
   "metadata": {},
   "outputs": [],
   "source": [
    "@weave.op \n",
    "@function_tool # <- we can use the decorator to automatically generate the tool schema\n",
    "def get_pokemon_info(pokemon_name: str) -> str:\n",
    "    \"\"\"Fetches minimal information (name, ID, weight) for a specific Pokemon. Weight is in hectograms.\n",
    "\n",
    "    Args:\n",
    "        pokemon_name: The name or Pokedex ID of the Pokemon.\n",
    "    \"\"\"\n",
    "    base_url = \"https://pokeapi.co/api/v2/pokemon/\"\n",
    "    try:\n",
    "        response = requests.get(f\"{base_url}{pokemon_name.lower().strip()}\")\n",
    "        response.raise_for_status() # Raise HTTPError for bad responses (4xx or 5xx)\n",
    "        data = response.json()\n",
    "        info = {\n",
    "            \"name\": data.get('name', 'Unknown').capitalize(),\n",
    "            \"id\": data.get('id', -1),\n",
    "            \"weight\": data.get('weight', -1) # Weight in hectograms\n",
    "        }\n",
    "        return info\n",
    "    except Exception as e:\n",
    "        return {\"error\": f\"Error fetching pokemon {pokemon_name}: {str(e)}\"}"
   ]
  },
  {
   "cell_type": "code",
   "execution_count": 29,
   "id": "af6c3b9a",
   "metadata": {},
   "outputs": [
    {
     "data": {
      "text/plain": [
       "{'type': 'function',\n",
       " 'function': {'name': 'get_pokemon_info',\n",
       "  'description': 'Fetches minimal information (name, ID, weight) for a specific Pokemon. Weight is in hectograms.\\n\\nArgs:\\n    pokemon_name: The name or Pokedex ID of the Pokemon.',\n",
       "  'parameters': {'type': 'object',\n",
       "   'properties': {'pokemon_name': {'type': 'string', 'description': ''}},\n",
       "   'required': ['pokemon_name']}}}"
      ]
     },
     "execution_count": 29,
     "metadata": {},
     "output_type": "execute_result"
    }
   ],
   "source": [
    "get_pokemon_info.tool_schema"
   ]
  },
  {
   "cell_type": "code",
   "execution_count": 30,
   "id": "fb22b679",
   "metadata": {},
   "outputs": [
    {
     "name": "stdout",
     "output_type": "stream",
     "text": [
      "🍩 https://wandb.ai/capecape/paris-woprkshop-2025/r/call/0196b438-52fe-7e10-a107-677affd7607d\n",
      "🍩 https://wandb.ai/capecape/paris-woprkshop-2025/r/call/0196b438-db90-7150-ba99-c7b89c91a5b6\n",
      "🍩 https://wandb.ai/capecape/paris-woprkshop-2025/r/call/0196b438-dbe6-7bd3-9465-f100c06e917e\n",
      "🍩 https://wandb.ai/capecape/paris-woprkshop-2025/r/call/0196b44d-0634-7561-ae11-f89a3fc65594\n",
      "🍩 https://wandb.ai/capecape/paris-woprkshop-2025/r/call/0196b48e-ea50-72d0-b4d0-11f3392ca3fd\n",
      "🍩 https://wandb.ai/capecape/paris-woprkshop-2025/r/call/0196b490-7360-7cd0-870c-f03bdbfe122d\n",
      "🍩 https://wandb.ai/capecape/paris-woprkshop-2025/r/call/0196b491-02d0-7c30-adc8-96ddcb649904\n",
      "🍩 https://wandb.ai/capecape/paris-woprkshop-2025/r/call/0196b4ac-e0a6-7153-a405-2f86a5f1a48d\n",
      "🍩 https://wandb.ai/capecape/paris-woprkshop-2025/r/call/0196b4ac-f297-7cd1-b2d3-1cd530a96291\n",
      "🍩 https://wandb.ai/capecape/paris-woprkshop-2025/r/call/0196b4ad-1b6e-7f70-9283-dce5187db8af\n",
      "🍩 https://wandb.ai/capecape/paris-woprkshop-2025/r/call/0196b4ad-5f32-7f12-a744-b92087584c50\n",
      "🍩 https://wandb.ai/capecape/paris-woprkshop-2025/r/call/0196b4ad-7629-7273-bd89-902d42d6bb2a\n",
      "🍩 https://wandb.ai/capecape/paris-woprkshop-2025/r/call/0196b4ad-a062-71c0-a248-131b33436d27\n",
      "🍩 https://wandb.ai/capecape/paris-woprkshop-2025/r/call/0196b4ad-c765-7651-bb1d-95b3e18cdfd9\n",
      "🍩 https://wandb.ai/capecape/paris-woprkshop-2025/r/call/0196b4ad-d7ce-7ff1-af89-4b1da8f2d6e9\n",
      "🍩 https://wandb.ai/capecape/paris-woprkshop-2025/r/call/0196b4ad-d94a-73b1-8868-b9b0f786e1e8\n",
      "🍩 https://wandb.ai/capecape/paris-woprkshop-2025/r/call/0196b4ad-d94d-73a3-8f20-a55a2d2eeaa1\n",
      "🍩 https://wandb.ai/capecape/paris-woprkshop-2025/r/call/0196b4ad-e92b-7f92-9393-2c826e6b0064\n",
      "🍩 https://wandb.ai/capecape/paris-woprkshop-2025/r/call/0196b4ad-e9a3-70a0-b928-fc6bc814c0ff\n",
      "🍩 https://wandb.ai/capecape/paris-woprkshop-2025/r/call/0196b4ad-f0ff-7363-bd7b-b6ee3567e14f\n",
      "🍩 https://wandb.ai/capecape/paris-woprkshop-2025/r/call/0196b4ad-f662-7b43-99d4-22bd9fb86010\n",
      "🍩 https://wandb.ai/capecape/paris-woprkshop-2025/r/call/0196b4ad-ffe8-72b3-b4c9-d917d02d49a7\n",
      "🍩 https://wandb.ai/capecape/paris-woprkshop-2025/r/call/0196b4ae-0932-7bf1-8256-7c8d32430efa\n",
      "🍩 https://wandb.ai/capecape/paris-woprkshop-2025/r/call/0196b4ae-12a6-7bc2-8297-2923a0377ef5\n",
      "🍩 https://wandb.ai/capecape/paris-woprkshop-2025/r/call/0196b4ae-3467-73b2-90d5-a1df3012f9fe\n",
      "🍩 https://wandb.ai/capecape/paris-woprkshop-2025/r/call/0196b4ae-3747-7ee3-84a4-3d0f30529dc2\n",
      "🍩 https://wandb.ai/capecape/paris-woprkshop-2025/r/call/0196b4ae-4258-7ea2-b210-5edb19271ed4\n",
      "🍩 https://wandb.ai/capecape/paris-woprkshop-2025/r/call/0196b4ae-490f-74d1-998f-d03c8638e5cb\n",
      "🍩 https://wandb.ai/capecape/paris-woprkshop-2025/r/call/0196b4ae-53dd-7712-bf68-58ef3897e407\n",
      "🍩 https://wandb.ai/capecape/paris-woprkshop-2025/r/call/0196b4ae-6716-7592-aeb9-d408d1df3c93\n",
      "🍩 https://wandb.ai/capecape/paris-woprkshop-2025/r/call/0196b4ae-711c-73b1-8bcc-f0aa4e8729df\n",
      "🍩 https://wandb.ai/capecape/paris-woprkshop-2025/r/call/0196b4ae-78c3-7d93-bdb8-e176c7cd65ee\n",
      "🍩 https://wandb.ai/capecape/paris-woprkshop-2025/r/call/0196b4ae-7c98-7fb0-821a-53a5aaa7e2c5\n",
      "🍩 https://wandb.ai/capecape/paris-woprkshop-2025/r/call/0196b4ae-86f2-7a22-9740-06431122437b\n",
      "🍩 https://wandb.ai/capecape/paris-woprkshop-2025/r/call/0196b4ae-940c-77c0-9bb0-93ba15c36d36\n",
      "🍩 https://wandb.ai/capecape/paris-woprkshop-2025/r/call/0196b4ae-94ed-78a2-a927-ed3f081ceb04\n",
      "🍩 https://wandb.ai/capecape/paris-woprkshop-2025/r/call/0196b4ae-99da-7e92-926a-e349cba1395f\n",
      "🍩 https://wandb.ai/capecape/paris-woprkshop-2025/r/call/0196b4ae-9dcc-7cd1-a756-70239d7af1c9\n",
      "🍩 https://wandb.ai/capecape/paris-woprkshop-2025/r/call/0196b4ae-a67e-7152-aae7-d8b83db9d870\n",
      "🍩 https://wandb.ai/capecape/paris-woprkshop-2025/r/call/0196b4ae-ab50-71f1-9b6b-61d72e752a44\n",
      "🍩 https://wandb.ai/capecape/paris-woprkshop-2025/r/call/0196b4ae-b62e-7d52-b991-1890144388a8\n",
      "🍩 https://wandb.ai/capecape/paris-woprkshop-2025/r/call/0196b4ae-c059-7a02-b615-498ae2325323\n",
      "🍩 https://wandb.ai/capecape/paris-woprkshop-2025/r/call/0196b4ae-c1f3-7ba2-9482-907c7344f4f1\n",
      "🍩 https://wandb.ai/capecape/paris-woprkshop-2025/r/call/0196b4ae-c372-7b92-930b-56a352684c7e\n",
      "🍩 https://wandb.ai/capecape/paris-woprkshop-2025/r/call/0196b4ae-c659-75e1-9e8f-365f67e77e0e\n",
      "🍩 https://wandb.ai/capecape/paris-woprkshop-2025/r/call/0196b4ae-ca52-7260-8adf-e7d3bc025bb0\n",
      "🍩 https://wandb.ai/capecape/paris-woprkshop-2025/r/call/0196b4ae-d2e2-7e31-b991-7222988c7cdc\n",
      "🍩 https://wandb.ai/capecape/paris-woprkshop-2025/r/call/0196b4ae-d75f-7a10-8bca-b77e93e2826d\n",
      "🍩 https://wandb.ai/capecape/paris-woprkshop-2025/r/call/0196b4ae-d7df-76e1-a801-d999f100e93e\n",
      "🍩 https://wandb.ai/capecape/paris-woprkshop-2025/r/call/0196b4ae-debf-73f1-b43f-1b5dd1335769\n",
      "🍩 https://wandb.ai/capecape/paris-woprkshop-2025/r/call/0196b4ae-e4a7-7c63-9132-4491c30cd2b7\n",
      "🍩 https://wandb.ai/capecape/paris-woprkshop-2025/r/call/0196b4ae-f3a8-7a73-8f86-4bacf6034455\n",
      "🍩 https://wandb.ai/capecape/paris-woprkshop-2025/r/call/0196b4ae-f414-7350-8421-5e52930a0b81\n",
      "🍩 https://wandb.ai/capecape/paris-woprkshop-2025/r/call/0196b4ae-fdee-7dd0-b89a-4ee74f51217b\n",
      "🍩 https://wandb.ai/capecape/paris-woprkshop-2025/r/call/0196b4ae-fe66-7a31-b819-e072917500d3\n",
      "🍩 https://wandb.ai/capecape/paris-woprkshop-2025/r/call/0196b4af-080c-7c91-bae6-718454d68ac2\n",
      "🍩 https://wandb.ai/capecape/paris-woprkshop-2025/r/call/0196b4af-11e9-7f41-b12d-01d04bd5c634\n",
      "🍩 https://wandb.ai/capecape/paris-woprkshop-2025/r/call/0196b4af-146f-7c01-ae24-92a3c2ddcbad\n",
      "🍩 https://wandb.ai/capecape/paris-woprkshop-2025/r/call/0196b4af-2543-7750-a8db-060672e667b7\n",
      "🍩 https://wandb.ai/capecape/paris-woprkshop-2025/r/call/0196b4af-2a4d-7990-8f9d-3deca4cab3f6\n",
      "🍩 https://wandb.ai/capecape/paris-woprkshop-2025/r/call/0196b4af-3201-7ea1-a150-fb760ea03d62\n",
      "🍩 https://wandb.ai/capecape/paris-woprkshop-2025/r/call/0196b4af-3c45-7d32-962d-7dcc3f5b7e8e\n",
      "🍩 https://wandb.ai/capecape/paris-woprkshop-2025/r/call/0196b4af-41db-7c60-9a74-8cd91802fea2\n",
      "🍩 https://wandb.ai/capecape/paris-woprkshop-2025/r/call/0196b4af-504d-7ef2-a878-b8d8c3a57e88\n",
      "🍩 https://wandb.ai/capecape/paris-woprkshop-2025/r/call/0196b4af-53ee-73f0-bf39-105e26e3f24c\n",
      "🍩 https://wandb.ai/capecape/paris-woprkshop-2025/r/call/0196b4af-64e3-7883-8859-740c7166c3b8\n",
      "🍩 https://wandb.ai/capecape/paris-woprkshop-2025/r/call/0196b4af-678c-7850-a4b0-ecad2fa634fa\n",
      "🍩 https://wandb.ai/capecape/paris-woprkshop-2025/r/call/0196b4af-6dfa-72d1-b95f-3eefe72a049f\n",
      "🍩 https://wandb.ai/capecape/paris-woprkshop-2025/r/call/0196b4af-7226-7cc2-948c-be44a26db63a\n",
      "🍩 https://wandb.ai/capecape/paris-woprkshop-2025/r/call/0196b4af-74e5-7c91-b9ce-9ab320c367f2\n",
      "🍩 https://wandb.ai/capecape/paris-woprkshop-2025/r/call/0196b4af-7684-7d33-a3aa-ace66c63db75\n",
      "🍩 https://wandb.ai/capecape/paris-woprkshop-2025/r/call/0196b4af-7c52-7de0-b5ae-45d7e095ef03\n",
      "🍩 https://wandb.ai/capecape/paris-woprkshop-2025/r/call/0196b4af-8a6d-7b80-b15d-282f8d24e8cc\n",
      "🍩 https://wandb.ai/capecape/paris-woprkshop-2025/r/call/0196b4af-8d07-7810-9264-ff9c1d3ad470\n",
      "🍩 https://wandb.ai/capecape/paris-woprkshop-2025/r/call/0196b4af-957d-7573-a0d8-ac0229a2cb80\n",
      "🍩 https://wandb.ai/capecape/paris-woprkshop-2025/r/call/0196b4af-95e6-72b0-8d70-41a4f283f6dd\n",
      "🍩 https://wandb.ai/capecape/paris-woprkshop-2025/r/call/0196b4af-a5ee-7eb3-ab52-6e65a73778ba\n",
      "🍩 https://wandb.ai/capecape/paris-woprkshop-2025/r/call/0196b4af-e7a2-79e1-aa99-469aa9f2c9b0\n",
      "🍩 https://wandb.ai/capecape/paris-woprkshop-2025/r/call/0196b4af-f99f-7b01-8176-513c47d71d76\n",
      "🍩 https://wandb.ai/capecape/paris-woprkshop-2025/r/call/0196b4b0-0cec-7531-abcc-638000e16dbe\n",
      "🍩 https://wandb.ai/capecape/paris-woprkshop-2025/r/call/0196b4b0-4bbc-71a0-a672-32324bd0bf96\n",
      "🍩 https://wandb.ai/capecape/paris-woprkshop-2025/r/call/0196b4b0-591d-7373-86ae-db1437883d7c\n",
      "🍩 https://wandb.ai/capecape/paris-woprkshop-2025/r/call/0196b4b0-6cd4-7260-9500-19e92d0894e1\n",
      "🍩 https://wandb.ai/capecape/paris-woprkshop-2025/r/call/0196b4b0-7fe5-7062-b9c4-77430a6e8a60\n",
      "🍩 https://wandb.ai/capecape/paris-woprkshop-2025/r/call/0196b4b0-9f2b-7fc3-81ba-70d3eba74132\n",
      "🍩 https://wandb.ai/capecape/paris-woprkshop-2025/r/call/0196b4b0-be6c-7582-9117-58928743c289\n",
      "🍩 https://wandb.ai/capecape/paris-woprkshop-2025/r/call/0196b4b0-db7b-7810-bdc1-ca50442967ce\n",
      "🍩 https://wandb.ai/capecape/paris-woprkshop-2025/r/call/0196b4b0-fc22-7122-b5c3-c15ed59f8243\n",
      "🍩 https://wandb.ai/capecape/paris-woprkshop-2025/r/call/0196b4b1-4e90-7093-9696-bb836c1b436b\n",
      "🍩 https://wandb.ai/capecape/paris-woprkshop-2025/r/call/0196b4b1-57f6-7f51-b500-48b37a5f1385\n",
      "🍩 https://wandb.ai/capecape/paris-woprkshop-2025/r/call/0196b4b1-8d0b-7742-941e-7bc07460ae1f\n",
      "🍩 https://wandb.ai/capecape/paris-woprkshop-2025/r/call/0196b4b1-badd-7941-a518-15c143780363\n",
      "🍩 https://wandb.ai/capecape/paris-woprkshop-2025/r/call/0196b4b1-de16-77f1-9622-de003639e97a\n",
      "🍩 https://wandb.ai/capecape/paris-woprkshop-2025/r/call/0196b4b1-f166-7f32-81e6-b31e6c74290e\n",
      "🍩 https://wandb.ai/capecape/paris-woprkshop-2025/r/call/0196b4b2-1aaf-7cd1-be47-06c6b7e4f05c\n",
      "🍩 https://wandb.ai/capecape/paris-woprkshop-2025/r/call/0196b4b2-27fe-75d3-9e02-522a3ab8c7a0\n",
      "🍩 https://wandb.ai/capecape/paris-woprkshop-2025/r/call/0196b4b2-54fc-7481-a99e-b6e972a3730d\n",
      "🍩 https://wandb.ai/capecape/paris-woprkshop-2025/r/call/0196b4b2-d64e-75c3-81ed-4c7392212b29\n",
      "🍩 https://wandb.ai/capecape/paris-woprkshop-2025/r/call/0196b4b2-e1a8-7f00-b632-17655f4269ed\n",
      "🍩 https://wandb.ai/capecape/paris-woprkshop-2025/r/call/0196b4b3-2c25-76d2-90b5-3366407ad183\n",
      "🍩 https://wandb.ai/capecape/paris-woprkshop-2025/r/call/0196b4b3-6734-7212-b864-7fa75846dc83\n",
      "🍩 https://wandb.ai/capecape/paris-woprkshop-2025/r/call/0196b4b3-8cb1-7a81-b93c-7e37818480fd\n",
      "🍩 https://wandb.ai/capecape/paris-woprkshop-2025/r/call/0196b4b3-aad2-7710-a823-a812ff7b4b7d\n",
      "🍩 https://wandb.ai/capecape/paris-woprkshop-2025/r/call/0196b4b3-b982-7151-905e-c6426002169f\n",
      "🍩 https://wandb.ai/capecape/paris-woprkshop-2025/r/call/0196b4b3-dcf5-71d3-a45f-3d9677dcb6b1\n",
      "🍩 https://wandb.ai/capecape/paris-woprkshop-2025/r/call/0196b4b3-fb54-73d2-bd42-74c4f3b4f955\n",
      "🍩 https://wandb.ai/capecape/paris-woprkshop-2025/r/call/0196b4b4-5119-70d3-a055-f10c0f372fac\n",
      "🍩 https://wandb.ai/capecape/paris-woprkshop-2025/r/call/0196b4b4-6158-79e1-a394-bce9c337cb76\n",
      "🍩 https://wandb.ai/capecape/paris-woprkshop-2025/r/call/0196b4b4-8111-7c43-8e3c-9cfd11d8a518\n",
      "🍩 https://wandb.ai/capecape/paris-woprkshop-2025/r/call/0196b4b4-9070-7ed1-a43a-56334abf4662\n",
      "🍩 https://wandb.ai/capecape/paris-woprkshop-2025/r/call/0196b4f1-9cf1-7531-828e-eb6dd89e54b9\n",
      "🍩 https://wandb.ai/capecape/paris-woprkshop-2025/r/call/0196b4f1-9cf1-7531-828e-ebc88eedab3b\n",
      "🍩 https://wandb.ai/capecape/paris-woprkshop-2025/r/call/0196b4f1-adef-72a2-b305-b05a8af804c6\n",
      "🍩 https://wandb.ai/capecape/paris-woprkshop-2025/r/call/0196b4f1-c919-7ed2-8dbb-fbdb4c08811b\n",
      "🍩 https://wandb.ai/capecape/paris-woprkshop-2025/r/call/0196b4f1-db9b-7ff0-85f7-747c50f733b9\n",
      "🍩 https://wandb.ai/capecape/paris-woprkshop-2025/r/call/0196b4f1-ea34-75f1-9ecf-4a533b6fc864\n",
      "🍩 https://wandb.ai/capecape/paris-woprkshop-2025/r/call/0196b4f2-1a10-7381-915a-436db9e2066a\n",
      "🍩 https://wandb.ai/capecape/paris-woprkshop-2025/r/call/0196b4f2-1c02-7403-a417-89a58ad97a57\n",
      "🍩 https://wandb.ai/capecape/paris-woprkshop-2025/r/call/0196b4f2-25f0-72d2-aec1-ba73913408f9\n",
      "🍩 https://wandb.ai/capecape/paris-woprkshop-2025/r/call/0196b4f2-391a-77d2-a3a3-baf67630cadd\n",
      "🍩 https://wandb.ai/capecape/paris-woprkshop-2025/r/call/0196b4f2-6150-7250-97d9-066bc7408013\n",
      "🍩 https://wandb.ai/capecape/paris-woprkshop-2025/r/call/0196b4f2-724b-7b91-bc9f-88ebbe28fd86\n",
      "🍩 https://wandb.ai/capecape/paris-woprkshop-2025/r/call/0196b4f2-79df-7742-ad56-8eb26c719d0a\n",
      "🍩 https://wandb.ai/capecape/paris-woprkshop-2025/r/call/0196b4f2-831e-78d1-b3cc-2835c477bda9\n",
      "🍩 https://wandb.ai/capecape/paris-woprkshop-2025/r/call/0196b4f2-8912-7ff2-bbeb-289319547562\n",
      "🍩 https://wandb.ai/capecape/paris-woprkshop-2025/r/call/0196b4f2-8f7d-7c01-9fdc-4d94556fe60c\n",
      "🍩 https://wandb.ai/capecape/paris-woprkshop-2025/r/call/0196b4f2-9911-7f82-a864-15fe98c90865\n",
      "🍩 https://wandb.ai/capecape/paris-woprkshop-2025/r/call/0196b4f2-9eb8-7870-bdf2-bb029f68dd9f\n",
      "🍩 https://wandb.ai/capecape/paris-woprkshop-2025/r/call/0196b4f2-9f54-71b0-9405-b26f038f9881\n",
      "🍩 https://wandb.ai/capecape/paris-woprkshop-2025/r/call/0196b4f2-b26c-7b72-b44a-14ac3c78435e\n",
      "🍩 https://wandb.ai/capecape/paris-woprkshop-2025/r/call/0196b4f2-cdd1-7740-af14-de07102ecbb7\n",
      "🍩 https://wandb.ai/capecape/paris-woprkshop-2025/r/call/0196b4f2-d253-7b40-91b4-1f345b041a13\n",
      "🍩 https://wandb.ai/capecape/paris-woprkshop-2025/r/call/0196b4f2-dcab-7960-8e3f-394ebe8b3a67\n",
      "🍩 https://wandb.ai/capecape/paris-woprkshop-2025/r/call/0196b4f2-de21-7400-b0e1-4e25331fce7b\n",
      "🍩 https://wandb.ai/capecape/paris-woprkshop-2025/r/call/0196b4f2-e9c6-75b0-b217-63f9b80e9265\n",
      "🍩 https://wandb.ai/capecape/paris-woprkshop-2025/r/call/0196b4f2-edf5-7843-b5f8-bcf85074c97e\n",
      "🍩 https://wandb.ai/capecape/paris-woprkshop-2025/r/call/0196b4f2-f545-78c1-a776-d9c969b61f46\n",
      "🍩 https://wandb.ai/capecape/paris-woprkshop-2025/r/call/0196b4f2-fa7f-7802-b7e6-67a9507b82c5\n",
      "🍩 https://wandb.ai/capecape/paris-woprkshop-2025/r/call/0196b4f3-0177-7dd0-a819-1f6382d22fd5\n",
      "🍩 https://wandb.ai/capecape/paris-woprkshop-2025/r/call/0196b4f3-1b54-7e22-addc-f931595324d5\n",
      "🍩 https://wandb.ai/capecape/paris-woprkshop-2025/r/call/0196b4f3-1e9c-7051-95f0-625f2d3297c0\n",
      "🍩 https://wandb.ai/capecape/paris-woprkshop-2025/r/call/0196b4f3-2253-71a0-8286-9ca5714f9e61\n",
      "🍩 https://wandb.ai/capecape/paris-woprkshop-2025/r/call/0196b4f3-3208-7162-b5c2-7191f9a01665\n",
      "🍩 https://wandb.ai/capecape/paris-woprkshop-2025/r/call/0196b4f3-4b84-7091-9726-0885b0a645c1\n",
      "🍩 https://wandb.ai/capecape/paris-woprkshop-2025/r/call/0196b4f3-4ce8-7bf3-8a96-f88b2bb316ae\n",
      "🍩 https://wandb.ai/capecape/paris-woprkshop-2025/r/call/0196b4f3-5a00-75e1-8f9a-df43b7a13e32\n",
      "🍩 https://wandb.ai/capecape/paris-woprkshop-2025/r/call/0196b4f3-5c56-7613-b3d1-66783c533bcc\n",
      "🍩 https://wandb.ai/capecape/paris-woprkshop-2025/r/call/0196b4f3-6a63-7ba3-8aef-ccd97d3baf09\n",
      "🍩 https://wandb.ai/capecape/paris-woprkshop-2025/r/call/0196b4f3-6f4d-7f30-944f-7751f170f0fe\n",
      "🍩 https://wandb.ai/capecape/paris-woprkshop-2025/r/call/0196b4f3-7d0d-79a2-9bd0-9ba52586467a\n",
      "🍩 https://wandb.ai/capecape/paris-woprkshop-2025/r/call/0196b4f3-7e01-7df2-82fa-39013e907903\n",
      "🍩 https://wandb.ai/capecape/paris-woprkshop-2025/r/call/0196b4f3-8cbf-7fe3-9558-4a70f607171a\n",
      "🍩 https://wandb.ai/capecape/paris-woprkshop-2025/r/call/0196b4f3-90e1-7103-b666-a02a38695f27\n",
      "🍩 https://wandb.ai/capecape/paris-woprkshop-2025/r/call/0196b4f3-9b2a-7862-bbe7-b99a0a9cd9b1\n",
      "🍩 https://wandb.ai/capecape/paris-woprkshop-2025/r/call/0196b4f3-a84a-7df0-bdf3-c41103303083\n",
      "🍩 https://wandb.ai/capecape/paris-woprkshop-2025/r/call/0196b4f3-b2f7-7b41-ba62-8dfa382a331c\n",
      "🍩 https://wandb.ai/capecape/paris-woprkshop-2025/r/call/0196b4f3-b762-76a0-aef0-c53bda707e5c\n",
      "🍩 https://wandb.ai/capecape/paris-woprkshop-2025/r/call/0196b4f3-c3aa-7e30-a1fc-d766518911a5\n",
      "🍩 https://wandb.ai/capecape/paris-woprkshop-2025/r/call/0196b4f3-ca8f-7fd1-a8fc-0151d3bc89df\n"
     ]
    },
    {
     "data": {
      "text/plain": [
       "{'name': 'Pikachu', 'id': 25, 'weight': 60}"
      ]
     },
     "execution_count": 30,
     "metadata": {},
     "output_type": "execute_result"
    }
   ],
   "source": [
    "get_pokemon_info(\"pikachu\")"
   ]
  },
  {
   "cell_type": "code",
   "execution_count": 31,
   "id": "82a073e8",
   "metadata": {},
   "outputs": [
    {
     "name": "stdout",
     "output_type": "stream",
     "text": [
      "🍩 https://wandb.ai/capecape/paris-woprkshop-2025/r/call/0196b438-7d86-7251-a6b6-e1bd7298920a\n",
      "🍩 https://wandb.ai/capecape/paris-woprkshop-2025/r/call/0196b438-f8a2-7ef3-a8e1-f23b962af356\n",
      "🍩 https://wandb.ai/capecape/paris-woprkshop-2025/r/call/0196b449-cddb-7f00-8920-147bbbf91f7d\n",
      "🍩 https://wandb.ai/capecape/paris-woprkshop-2025/r/call/0196b451-0a9c-7ae1-9390-87469ea2c103\n",
      "🍩 https://wandb.ai/capecape/paris-woprkshop-2025/r/call/0196b485-f515-7bd1-a2d9-2269d0e88e4c\n",
      "🍩 https://wandb.ai/capecape/paris-woprkshop-2025/r/call/0196b4ad-1023-70b1-a2cb-df6ee3279a72\n",
      "🍩 https://wandb.ai/capecape/paris-woprkshop-2025/r/call/0196b4ad-4d13-7f12-9642-f95c8df8e488\n",
      "🍩 https://wandb.ai/capecape/paris-woprkshop-2025/r/call/0196b4ad-bb49-7020-bda3-b044f21ed396\n",
      "🍩 https://wandb.ai/capecape/paris-woprkshop-2025/r/call/0196b4ad-ec0d-74a3-b453-da1876678a68\n",
      "🍩 https://wandb.ai/capecape/paris-woprkshop-2025/r/call/0196b4ae-024c-7f73-a024-40ea6ea4f6f4\n",
      "🍩 https://wandb.ai/capecape/paris-woprkshop-2025/r/call/0196b4ae-0981-7430-9354-9f566a876d82\n",
      "🍩 https://wandb.ai/capecape/paris-woprkshop-2025/r/call/0196b4ae-18f6-7d02-99f8-2e7c0140076c\n",
      "🍩 https://wandb.ai/capecape/paris-woprkshop-2025/r/call/0196b4ae-1b93-7173-baf1-9acae1308756\n",
      "🍩 https://wandb.ai/capecape/paris-woprkshop-2025/r/call/0196b4ae-2887-7282-9495-023d6bacbf73\n",
      "🍩 https://wandb.ai/capecape/paris-woprkshop-2025/r/call/0196b4ae-4660-72e2-a7de-2ec45b6d693d\n",
      "🍩 https://wandb.ai/capecape/paris-woprkshop-2025/r/call/0196b4ae-4d5f-7383-aeaf-80441ce2af9d\n",
      "🍩 https://wandb.ai/capecape/paris-woprkshop-2025/r/call/0196b4ae-64d1-7192-82e8-0fad3ee88543\n",
      "🍩 https://wandb.ai/capecape/paris-woprkshop-2025/r/call/0196b4ae-68c9-71b0-86d3-6730e8d6cc61\n",
      "🍩 https://wandb.ai/capecape/paris-woprkshop-2025/r/call/0196b4ae-6f79-7da2-816d-74c8c0eac809\n",
      "🍩 https://wandb.ai/capecape/paris-woprkshop-2025/r/call/0196b4ae-7bf4-79a0-957f-c2e5a0d44496\n",
      "🍩 https://wandb.ai/capecape/paris-woprkshop-2025/r/call/0196b4ae-8663-7a01-baf1-479fe3fb23e2\n",
      "🍩 https://wandb.ai/capecape/paris-woprkshop-2025/r/call/0196b4ae-91a7-7a42-9e8a-6495f5b64b22\n",
      "🍩 https://wandb.ai/capecape/paris-woprkshop-2025/r/call/0196b4ae-9889-7972-9e3b-13637afa0f0c\n",
      "🍩 https://wandb.ai/capecape/paris-woprkshop-2025/r/call/0196b4ae-aa5d-7673-871e-5192662cfdad\n",
      "🍩 https://wandb.ai/capecape/paris-woprkshop-2025/r/call/0196b4ae-bcd5-7c33-bf44-4362c7663e74\n",
      "🍩 https://wandb.ai/capecape/paris-woprkshop-2025/r/call/0196b4ae-c4f7-72b3-858d-0ca19d0a1d2a\n",
      "🍩 https://wandb.ai/capecape/paris-woprkshop-2025/r/call/0196b4ae-cfda-7173-8acb-2b339d1d553d\n",
      "🍩 https://wandb.ai/capecape/paris-woprkshop-2025/r/call/0196b4ae-e3df-7371-877a-bbc393eebb6d\n",
      "🍩 https://wandb.ai/capecape/paris-woprkshop-2025/r/call/0196b4ae-eda2-7f40-b2f1-62c5380065ab\n",
      "🍩 https://wandb.ai/capecape/paris-woprkshop-2025/r/call/0196b4af-1135-75a2-bbea-f0bdd1898b16\n",
      "🍩 https://wandb.ai/capecape/paris-woprkshop-2025/r/call/0196b4af-28a1-78e2-ab8c-5b215dc4a656\n",
      "🍩 https://wandb.ai/capecape/paris-woprkshop-2025/r/call/0196b4af-3b6f-7f02-bcc6-d8248c244995\n",
      "🍩 https://wandb.ai/capecape/paris-woprkshop-2025/r/call/0196b4af-44e6-7980-8d45-b4ab60772320\n",
      "🍩 https://wandb.ai/capecape/paris-woprkshop-2025/r/call/0196b4af-58ca-7951-b8b7-af6ddd3ebae1\n",
      "🍩 https://wandb.ai/capecape/paris-woprkshop-2025/r/call/0196b4af-652d-7c60-a7d9-d319a684727d\n",
      "🍩 https://wandb.ai/capecape/paris-woprkshop-2025/r/call/0196b4af-7bf3-74a2-ab29-227564e757d1\n",
      "🍩 https://wandb.ai/capecape/paris-woprkshop-2025/r/call/0196b4af-837d-7c32-96b1-59254733f100\n",
      "🍩 https://wandb.ai/capecape/paris-woprkshop-2025/r/call/0196b4af-86fe-7db0-85b6-a3faf9d06660\n",
      "🍩 https://wandb.ai/capecape/paris-woprkshop-2025/r/call/0196b4af-953b-7450-842a-920d275792c4\n",
      "🍩 https://wandb.ai/capecape/paris-woprkshop-2025/r/call/0196b4b0-3bcb-7533-9cc9-a4415ada8fae\n",
      "🍩 https://wandb.ai/capecape/paris-woprkshop-2025/r/call/0196b4b0-66c3-7e12-b9ba-ae06ca43083b\n",
      "🍩 https://wandb.ai/capecape/paris-woprkshop-2025/r/call/0196b4b0-8910-7932-9e0b-7f4128b2976d\n",
      "🍩 https://wandb.ai/capecape/paris-woprkshop-2025/r/call/0196b4b0-eb5e-7593-a863-c42ad45cc1e9\n",
      "🍩 https://wandb.ai/capecape/paris-woprkshop-2025/r/call/0196b4b1-1d16-7440-a86a-72d6ab3f5b34\n",
      "🍩 https://wandb.ai/capecape/paris-woprkshop-2025/r/call/0196b4b1-6ebf-7002-b941-ff164850ad40\n",
      "🍩 https://wandb.ai/capecape/paris-woprkshop-2025/r/call/0196b4b1-a60a-7d92-b6c9-993c6bac6d25\n",
      "🍩 https://wandb.ai/capecape/paris-woprkshop-2025/r/call/0196b4b2-2a9b-7723-affb-a85f0dfa2f61\n",
      "🍩 https://wandb.ai/capecape/paris-woprkshop-2025/r/call/0196b4b2-6fab-78b0-9746-68b29a7993c0\n",
      "🍩 https://wandb.ai/capecape/paris-woprkshop-2025/r/call/0196b4b2-9c08-7de3-be58-8757a3d43d73\n",
      "🍩 https://wandb.ai/capecape/paris-woprkshop-2025/r/call/0196b4b2-cb8d-77d0-ab33-26a61496a576\n",
      "🍩 https://wandb.ai/capecape/paris-woprkshop-2025/r/call/0196b4b3-18f5-7853-9ab2-ae502faceba4\n",
      "🍩 https://wandb.ai/capecape/paris-woprkshop-2025/r/call/0196b4b3-530e-7783-8364-4a507dd5fbca\n",
      "🍩 https://wandb.ai/capecape/paris-woprkshop-2025/r/call/0196b4b3-7e0b-7721-b9fa-e73caec678af\n",
      "🍩 https://wandb.ai/capecape/paris-woprkshop-2025/r/call/0196b4b4-2d35-7d63-adfc-8214e9c3bdae\n",
      "🍩 https://wandb.ai/capecape/paris-woprkshop-2025/r/call/0196b4b4-632a-7280-9cbe-bba8f9a3c902\n",
      "🍩 https://wandb.ai/capecape/paris-woprkshop-2025/r/call/0196b4b4-b525-73e0-9ef2-9d04ac19ffcc\n",
      "🍩 https://wandb.ai/capecape/paris-woprkshop-2025/r/call/0196b4f1-9cf0-7a32-87d1-d414001eaece\n",
      "🍩 https://wandb.ai/capecape/paris-woprkshop-2025/r/call/0196b4f1-9cf1-7531-828e-eb9f8fad3e20\n",
      "🍩 https://wandb.ai/capecape/paris-woprkshop-2025/r/call/0196b4f1-cd2b-7cb0-8dc0-7840a6995267\n",
      "🍩 https://wandb.ai/capecape/paris-woprkshop-2025/r/call/0196b4f2-08a6-7562-b39c-5e36e891d2d8\n",
      "🍩 https://wandb.ai/capecape/paris-woprkshop-2025/r/call/0196b4f2-0f2f-7633-824d-42d3788158c6\n",
      "🍩 https://wandb.ai/capecape/paris-woprkshop-2025/r/call/0196b4f2-1cbf-7513-a3d5-1b94a260c690\n",
      "🍩 https://wandb.ai/capecape/paris-woprkshop-2025/r/call/0196b4f2-3573-7780-b393-51b6e199d354\n",
      "🍩 https://wandb.ai/capecape/paris-woprkshop-2025/r/call/0196b4f2-45c7-7040-88cd-7c99b69121c8\n",
      "🍩 https://wandb.ai/capecape/paris-woprkshop-2025/r/call/0196b4f2-5c90-7cf2-a990-158d994ff415\n",
      "🍩 https://wandb.ai/capecape/paris-woprkshop-2025/r/call/0196b4f2-9429-70d3-8644-861ff15680bb\n",
      "🍩 https://wandb.ai/capecape/paris-woprkshop-2025/r/call/0196b4f2-9f71-7bb3-a17e-b5236bf5c7e2\n",
      "🍩 https://wandb.ai/capecape/paris-woprkshop-2025/r/call/0196b4f2-aae2-7d51-b84f-9445215d46f5\n",
      "🍩 https://wandb.ai/capecape/paris-woprkshop-2025/r/call/0196b4f2-d9fd-7831-bff1-19837807cf81\n",
      "🍩 https://wandb.ai/capecape/paris-woprkshop-2025/r/call/0196b4f2-ebb1-7a21-9216-266df66b596d\n",
      "🍩 https://wandb.ai/capecape/paris-woprkshop-2025/r/call/0196b4f2-ef89-7331-97ac-5b17cad9d7f6\n",
      "🍩 https://wandb.ai/capecape/paris-woprkshop-2025/r/call/0196b4f3-0729-7263-95b3-441c87121c0b\n",
      "🍩 https://wandb.ai/capecape/paris-woprkshop-2025/r/call/0196b4f3-0dd2-7a41-8757-56f48940f1c6\n",
      "🍩 https://wandb.ai/capecape/paris-woprkshop-2025/r/call/0196b4f3-118d-7e32-9ea4-64dd8ce0f3c8\n",
      "🍩 https://wandb.ai/capecape/paris-woprkshop-2025/r/call/0196b4f3-2592-7952-b70f-3fa345010b68\n",
      "🍩 https://wandb.ai/capecape/paris-woprkshop-2025/r/call/0196b4f3-2b89-7310-b52e-dc96943e8482\n",
      "🍩 https://wandb.ai/capecape/paris-woprkshop-2025/r/call/0196b4f3-2e8a-7d81-82c0-d6fcdc1d719e\n",
      "🍩 https://wandb.ai/capecape/paris-woprkshop-2025/r/call/0196b4f3-38c0-7793-a07f-b65ae4f4aec1\n",
      "🍩 https://wandb.ai/capecape/paris-woprkshop-2025/r/call/0196b4f3-5e16-71a1-a688-a0edb28c0a43\n",
      "🍩 https://wandb.ai/capecape/paris-woprkshop-2025/r/call/0196b4f3-6ae3-7451-b0d0-a5fba421ce21\n",
      "🍩 https://wandb.ai/capecape/paris-woprkshop-2025/r/call/0196b4f3-a1c8-7cf1-abe8-98598ba6ac8c\n",
      "🍩 https://wandb.ai/capecape/paris-woprkshop-2025/r/call/0196b4f3-ba58-7b71-9915-5f9244ee442d\n"
     ]
    },
    {
     "data": {
      "text/html": [
       "<pre style=\"white-space:pre;overflow-x:auto;line-height:normal;font-family:Menlo,'DejaVu Sans Mono',consolas,'Courier New',monospace\"><span style=\"color: #800080; text-decoration-color: #800080; font-weight: bold\">AssistantMessage</span><span style=\"font-weight: bold\">(</span>\n",
       "<span style=\"color: #7fbf7f; text-decoration-color: #7fbf7f\">│   </span><span style=\"color: #808000; text-decoration-color: #808000\">content</span>=<span style=\"color: #008000; text-decoration-color: #008000\">''</span>,\n",
       "<span style=\"color: #7fbf7f; text-decoration-color: #7fbf7f\">│   </span><span style=\"color: #808000; text-decoration-color: #808000\">tool_calls</span>=<span style=\"font-weight: bold\">[</span>\n",
       "<span style=\"color: #7fbf7f; text-decoration-color: #7fbf7f\">│   │   </span><span style=\"color: #800080; text-decoration-color: #800080; font-weight: bold\">ToolCall</span><span style=\"font-weight: bold\">(</span>\n",
       "<span style=\"color: #7fbf7f; text-decoration-color: #7fbf7f\">│   │   │   </span><span style=\"color: #808000; text-decoration-color: #808000\">function</span>=<span style=\"color: #800080; text-decoration-color: #800080; font-weight: bold\">FunctionCall</span><span style=\"font-weight: bold\">(</span><span style=\"color: #808000; text-decoration-color: #808000\">name</span>=<span style=\"color: #008000; text-decoration-color: #008000\">'get_pokemon_info'</span>, <span style=\"color: #808000; text-decoration-color: #808000\">arguments</span>=<span style=\"color: #008000; text-decoration-color: #008000\">'{\"pokemon_name\": \"Pikachu\"}'</span><span style=\"font-weight: bold\">)</span>,\n",
       "<span style=\"color: #7fbf7f; text-decoration-color: #7fbf7f\">│   │   │   </span><span style=\"color: #808000; text-decoration-color: #808000\">id</span>=<span style=\"color: #008000; text-decoration-color: #008000\">'TiekqiK6c'</span>,\n",
       "<span style=\"color: #7fbf7f; text-decoration-color: #7fbf7f\">│   │   │   </span><span style=\"color: #808000; text-decoration-color: #808000\">type</span>=<span style=\"color: #800080; text-decoration-color: #800080; font-style: italic\">None</span>,\n",
       "<span style=\"color: #7fbf7f; text-decoration-color: #7fbf7f\">│   │   │   </span><span style=\"color: #808000; text-decoration-color: #808000\">index</span>=<span style=\"color: #008080; text-decoration-color: #008080; font-weight: bold\">0</span>\n",
       "<span style=\"color: #7fbf7f; text-decoration-color: #7fbf7f\">│   │   </span><span style=\"font-weight: bold\">)</span>\n",
       "<span style=\"color: #7fbf7f; text-decoration-color: #7fbf7f\">│   </span><span style=\"font-weight: bold\">]</span>,\n",
       "<span style=\"color: #7fbf7f; text-decoration-color: #7fbf7f\">│   </span><span style=\"color: #808000; text-decoration-color: #808000\">prefix</span>=<span style=\"color: #ff0000; text-decoration-color: #ff0000; font-style: italic\">False</span>,\n",
       "<span style=\"color: #7fbf7f; text-decoration-color: #7fbf7f\">│   </span><span style=\"color: #808000; text-decoration-color: #808000\">role</span>=<span style=\"color: #008000; text-decoration-color: #008000\">'assistant'</span>\n",
       "<span style=\"font-weight: bold\">)</span>\n",
       "</pre>\n"
      ],
      "text/plain": [
       "\u001b[1;35mAssistantMessage\u001b[0m\u001b[1m(\u001b[0m\n",
       "\u001b[2;32m│   \u001b[0m\u001b[33mcontent\u001b[0m=\u001b[32m''\u001b[0m,\n",
       "\u001b[2;32m│   \u001b[0m\u001b[33mtool_calls\u001b[0m=\u001b[1m[\u001b[0m\n",
       "\u001b[2;32m│   │   \u001b[0m\u001b[1;35mToolCall\u001b[0m\u001b[1m(\u001b[0m\n",
       "\u001b[2;32m│   │   │   \u001b[0m\u001b[33mfunction\u001b[0m=\u001b[1;35mFunctionCall\u001b[0m\u001b[1m(\u001b[0m\u001b[33mname\u001b[0m=\u001b[32m'get_pokemon_info'\u001b[0m, \u001b[33marguments\u001b[0m=\u001b[32m'\u001b[0m\u001b[32m{\u001b[0m\u001b[32m\"pokemon_name\": \"Pikachu\"\u001b[0m\u001b[32m}\u001b[0m\u001b[32m'\u001b[0m\u001b[1m)\u001b[0m,\n",
       "\u001b[2;32m│   │   │   \u001b[0m\u001b[33mid\u001b[0m=\u001b[32m'TiekqiK6c'\u001b[0m,\n",
       "\u001b[2;32m│   │   │   \u001b[0m\u001b[33mtype\u001b[0m=\u001b[3;35mNone\u001b[0m,\n",
       "\u001b[2;32m│   │   │   \u001b[0m\u001b[33mindex\u001b[0m=\u001b[1;36m0\u001b[0m\n",
       "\u001b[2;32m│   │   \u001b[0m\u001b[1m)\u001b[0m\n",
       "\u001b[2;32m│   \u001b[0m\u001b[1m]\u001b[0m,\n",
       "\u001b[2;32m│   \u001b[0m\u001b[33mprefix\u001b[0m=\u001b[3;91mFalse\u001b[0m,\n",
       "\u001b[2;32m│   \u001b[0m\u001b[33mrole\u001b[0m=\u001b[32m'assistant'\u001b[0m\n",
       "\u001b[1m)\u001b[0m\n"
      ]
     },
     "metadata": {},
     "output_type": "display_data"
    }
   ],
   "source": [
    "messages = [\n",
    "    {\"role\": \"system\", \"content\": \"You are a helpful assistant that can use tools to answer questions.\"},\n",
    "    {\"role\": \"user\", \"content\": \"What is the weight of Pikachu?\"}]\n",
    "\n",
    "response = call_model(model_name=MISTRAL_SMALL_MODEL, messages=messages, tools=[get_pokemon_info.tool_schema])\n",
    "pprint(response)"
   ]
  },
  {
   "cell_type": "markdown",
   "id": "d7350625",
   "metadata": {},
   "source": [
    "Let's create some helper functions to perform the tool calls"
   ]
  },
  {
   "cell_type": "code",
   "execution_count": 69,
   "id": "0938e29b",
   "metadata": {},
   "outputs": [],
   "source": [
    "from mistralai import ToolCall\n",
    "\n",
    "def get_tool(tools: list[Callable], name: str) -> Callable:\n",
    "    for t in tools:\n",
    "        if t.__name__ == name:\n",
    "            return t\n",
    "    raise KeyError(f\"No tool with name {name} found\")\n",
    "\n",
    "def perform_tool_calls(tools: list[Callable], tool_calls: list[ToolCall]) -> list[dict]:\n",
    "    \"Perform the tool calls and return the messages with the tool call results\"\n",
    "    messages = []\n",
    "    for tool_call in tool_calls:\n",
    "        print(f\"Performing tool call: {tool_call.function.name}\")\n",
    "        print(f\"  - Args: {tool_call.function.arguments}\")\n",
    "        function_name = tool_call.function.name\n",
    "        function_args = json.loads(tool_call.function.arguments)\n",
    "        tool = get_tool(tools, function_name)\n",
    "        tool_response = tool(**function_args)\n",
    "        print(f\"  - Response: {tool_response}\")\n",
    "        messages.append({\n",
    "            \"tool_call_id\": tool_call.id,\n",
    "            \"role\": \"tool\",\n",
    "            \"content\": str(tool_response),\n",
    "        })\n",
    "    return messages"
   ]
  },
  {
   "cell_type": "code",
   "execution_count": 70,
   "id": "c5881ecb",
   "metadata": {},
   "outputs": [
    {
     "name": "stdout",
     "output_type": "stream",
     "text": [
      "Performing tool call: get_pokemon_info\n",
      "  - Args: {\"pokemon_name\": \"Pikachu\"}\n",
      "  - Response: {'name': 'Pikachu', 'id': 25, 'weight': 60}\n",
      "Pikachu weighs 60 pounds.\n"
     ]
    }
   ],
   "source": [
    "\n",
    "# add the tool call result to the messages\n",
    "messages.append(response.model_dump())\n",
    "messages.extend(perform_tool_calls(tools=[get_pokemon_info], tool_calls=response.tool_calls))\n",
    "\n",
    "final_response = call_model(model_name=MISTRAL_SMALL_MODEL, messages=messages)\n",
    "print(final_response.content)\n"
   ]
  },
  {
   "cell_type": "markdown",
   "id": "b3956939",
   "metadata": {},
   "source": [
    "Let's wrap this in a function and add a few more tools."
   ]
  },
  {
   "cell_type": "code",
   "execution_count": 71,
   "id": "10ab1b81",
   "metadata": {},
   "outputs": [],
   "source": [
    "@weave.op\n",
    "def pokedex(pokemon_question: str) -> str:\n",
    "    messages = [\n",
    "        {\"role\": \"system\", \"content\": \"You are a helpful assistant that can use tools to answer questions.\"},\n",
    "        {\"role\": \"user\", \"content\": pokemon_question}]\n",
    "\n",
    "    # call model with tools\n",
    "    response = call_model(\n",
    "        model_name=MISTRAL_SMALL_MODEL, \n",
    "        messages=messages, \n",
    "        tools=[get_pokemon_info.tool_schema, \n",
    "            add_numbers.tool_schema])\n",
    "\n",
    "    # add the response to the messages\n",
    "    messages.append(response.model_dump())\n",
    "\n",
    "    # perform the tool calls\n",
    "    messages.extend(perform_tool_calls(tools=[get_pokemon_info, add_numbers], tool_calls=response.tool_calls))\n",
    "\n",
    "    final_response = call_model(model_name=MISTRAL_SMALL_MODEL, messages=messages)\n",
    "    return final_response.content"
   ]
  },
  {
   "cell_type": "code",
   "execution_count": 72,
   "id": "bc0183b1",
   "metadata": {},
   "outputs": [
    {
     "name": "stdout",
     "output_type": "stream",
     "text": [
      "Performing tool call: get_pokemon_info\n",
      "  - Args: {\"pokemon_name\": \"pikachu\"}\n",
      "  - Response: {'name': 'Pikachu', 'id': 25, 'weight': 60}\n",
      "Performing tool call: get_pokemon_info\n",
      "  - Args: {\"pokemon_name\": \"caterpie\"}\n",
      "  - Response: {'name': 'Caterpie', 'id': 10, 'weight': 29}\n",
      "Performing tool call: get_pokemon_info\n",
      "  - Args: {\"pokemon_name\": \"butterfree\"}\n",
      "  - Response: {'name': 'Butterfree', 'id': 12, 'weight': 320}\n"
     ]
    },
    {
     "data": {
      "text/plain": [
       "\"The combined weight of Ash's first 3 Pokémon is 409 units.\""
      ]
     },
     "execution_count": 72,
     "metadata": {},
     "output_type": "execute_result"
    }
   ],
   "source": [
    "pokedex(\"What is the combined weight of Ash's first 3 pokemons?\")"
   ]
  },
  {
   "cell_type": "markdown",
   "id": "dedaa4a4",
   "metadata": {},
   "source": [
    "![](images/04_pokedex.png)\n",
    "\n",
    "This is \"Almost\" an agent, but it's missing the loop. Let's add that next."
   ]
  },
  {
   "cell_type": "markdown",
   "id": "efd890f5",
   "metadata": {},
   "source": [
    "## 4. Implementing a Basic Agentic Loop\n",
    "\n",
    "Let's implement a basic agentic loop. We'll use the `pokedex` function we just created. The implementation we have above has some limitations:\n",
    "- Its a single turn, so if it fails to answer my question in one pass it is over.\n",
    "\n",
    "![](images/05_agent.png)\n",
    "\n",
    "From the really good [Anthropic Building Effective Agents](https://www.anthropic.com/engineering/building-effective-agents) article and encourage people to read it."
   ]
  },
  {
   "cell_type": "markdown",
   "id": "1737003e",
   "metadata": {},
   "source": [
    "A simple for loop"
   ]
  },
  {
   "cell_type": "code",
   "execution_count": 73,
   "id": "63bc2975",
   "metadata": {},
   "outputs": [],
   "source": [
    "@weave.op\n",
    "def pokedex_loop(pokemon_question: str, max_turns: int = 4, tools = [get_pokemon_info, add_numbers]) -> str:\n",
    "    messages = [\n",
    "        {\"role\": \"system\", \"content\": \"You are a helpful assistant that can use tools to answer questions.\"},\n",
    "        {\"role\": \"user\", \"content\": pokemon_question}]\n",
    "\n",
    "    \n",
    "    for turn in range(max_turns):\n",
    "        print(f\"--- Agent Loop Turn {turn + 1}/{max_turns} ---\")\n",
    "\n",
    "        # call model with tools\n",
    "        response = call_model(\n",
    "            model_name=MISTRAL_SMALL_MODEL, \n",
    "            messages=messages, \n",
    "            tools=[t.tool_schema for t in tools])\n",
    "\n",
    "        # add the response to the messages\n",
    "        messages.append(response.model_dump())\n",
    "\n",
    "        # if the LLM requested tool calls, perform them\n",
    "        if response.tool_calls:\n",
    "            print(\"LLM requested tool calls:\")\n",
    "            # perform the tool calls\n",
    "            tool_outputs = perform_tool_calls(tools=[get_pokemon_info, add_numbers], tool_calls=response.tool_calls)\n",
    "            messages.extend(tool_outputs)\n",
    "        # LLM gave content response\n",
    "        elif response.content:\n",
    "            print(f\"LLM content response: {response.content}\")\n",
    "            return response.content\n",
    "        else:\n",
    "            print(\"LLM response had neither content nor tool calls. Stopping loop.\")\n",
    "            break"
   ]
  },
  {
   "cell_type": "code",
   "execution_count": 74,
   "id": "fecad3a4",
   "metadata": {},
   "outputs": [
    {
     "name": "stdout",
     "output_type": "stream",
     "text": [
      "--- Agent Loop Turn 1/4 ---\n",
      "LLM requested tool calls:\n",
      "Performing tool call: get_pokemon_info\n",
      "  - Args: {\"pokemon_name\": \"pikachu\"}\n",
      "  - Response: {'name': 'Pikachu', 'id': 25, 'weight': 60}\n",
      "Performing tool call: get_pokemon_info\n",
      "  - Args: {\"pokemon_name\": \"caterpie\"}\n",
      "  - Response: {'name': 'Caterpie', 'id': 10, 'weight': 29}\n",
      "Performing tool call: get_pokemon_info\n",
      "  - Args: {\"pokemon_name\": \"pidgey\"}\n",
      "  - Response: {'name': 'Pidgey', 'id': 16, 'weight': 18}\n",
      "--- Agent Loop Turn 2/4 ---\n",
      "LLM requested tool calls:\n",
      "Performing tool call: add_numbers\n",
      "  - Args: {\"a\": 60, \"b\": 29}\n",
      "  - Response: 89\n",
      "Performing tool call: add_numbers\n",
      "  - Args: {\"a\": 60, \"b\": 18}\n",
      "  - Response: 78\n",
      "--- Agent Loop Turn 3/4 ---\n",
      "LLM content response: The combined weight of Ash's first 3 pokemons is 167 hectograms.\n"
     ]
    },
    {
     "data": {
      "text/plain": [
       "\"The combined weight of Ash's first 3 pokemons is 167 hectograms.\""
      ]
     },
     "execution_count": 74,
     "metadata": {},
     "output_type": "execute_result"
    }
   ],
   "source": [
    "pokedex_loop(\"What is the combined weight of Ash's first 3 pokemons?\")"
   ]
  },
  {
   "cell_type": "code",
   "execution_count": 75,
   "id": "83e96dfe",
   "metadata": {},
   "outputs": [
    {
     "name": "stdout",
     "output_type": "stream",
     "text": [
      "--- Agent Loop Turn 1/4 ---\n",
      "LLM requested tool calls:\n",
      "Performing tool call: get_pokemon_info\n",
      "  - Args: {\"pokemon_name\": \"pikachu\"}\n",
      "  - Response: {'name': 'Pikachu', 'id': 25, 'weight': 60}\n",
      "Performing tool call: get_pokemon_info\n",
      "  - Args: {\"pokemon_name\": \"caterpie\"}\n",
      "  - Response: {'name': 'Caterpie', 'id': 10, 'weight': 29}\n",
      "Performing tool call: get_pokemon_info\n",
      "  - Args: {\"pokemon_name\": \"pidgey\"}\n",
      "  - Response: {'name': 'Pidgey', 'id': 16, 'weight': 18}\n",
      "--- Agent Loop Turn 2/4 ---\n",
      "LLM content response: Ash's first three Pokémon are Pikachu, Caterpie, and Pidgey. Their combined weight is 107 hectograms.\n"
     ]
    },
    {
     "data": {
      "text/plain": [
       "\"Ash's first three Pokémon are Pikachu, Caterpie, and Pidgey. Their combined weight is 107 hectograms.\""
      ]
     },
     "execution_count": 75,
     "metadata": {},
     "output_type": "execute_result"
    }
   ],
   "source": [
    "pokedex_loop(\"Name Ash's first 3 pokemons and calculate their combined weight?\")"
   ]
  },
  {
   "cell_type": "markdown",
   "id": "7c031bde",
   "metadata": {},
   "source": [
    "![](images/06_pokedex_loop.png)"
   ]
  },
  {
   "cell_type": "markdown",
   "id": "238a3967",
   "metadata": {},
   "source": [
    "This one is kind of an hallucination, I was expecting snorlax to be the heaviest pokemon."
   ]
  },
  {
   "cell_type": "code",
   "execution_count": 76,
   "id": "ba8cf35c",
   "metadata": {},
   "outputs": [
    {
     "name": "stdout",
     "output_type": "stream",
     "text": [
      "--- Agent Loop Turn 1/4 ---\n",
      "LLM requested tool calls:\n",
      "Performing tool call: get_pokemon_info\n",
      "  - Args: {\"pokemon_name\": \"1\"}\n",
      "  - Response: {'name': 'Bulbasaur', 'id': 1, 'weight': 69}\n",
      "--- Agent Loop Turn 2/4 ---\n",
      "LLM requested tool calls:\n",
      "Performing tool call: get_pokemon_info\n",
      "  - Args: {\"pokemon_name\": \"2\"}\n",
      "  - Response: {'name': 'Ivysaur', 'id': 2, 'weight': 130}\n",
      "--- Agent Loop Turn 3/4 ---\n",
      "LLM requested tool calls:\n",
      "Performing tool call: get_pokemon_info\n",
      "  - Args: {\"pokemon_name\": \"3\"}\n",
      "  - Response: {'name': 'Venusaur', 'id': 3, 'weight': 1000}\n",
      "--- Agent Loop Turn 4/4 ---\n",
      "LLM content response: The heaviest pokemon is Venusaur, with a weight of 1000 hectograms.\n"
     ]
    },
    {
     "data": {
      "text/plain": [
       "'The heaviest pokemon is Venusaur, with a weight of 1000 hectograms.'"
      ]
     },
     "execution_count": 76,
     "metadata": {},
     "output_type": "execute_result"
    }
   ],
   "source": [
    "pokedex_loop(\"Which is the heaviest pokemon?\")"
   ]
  },
  {
   "cell_type": "markdown",
   "id": "60e589c3",
   "metadata": {},
   "source": [
    "6. Structuring the Agent with Classes\n",
    "\n",
    "The loop above works, but for more complex agents, encapsulating the logic and state within classes is much better. We'll define:\n",
    "- `AgentState`: A Pydantic model to hold the conversation history and potentially other state.\n",
    "- `SimpleAgent`: A class containing the agent's configuration (model, system message, tools) and logic (`step`, `run`)."
   ]
  },
  {
   "cell_type": "code",
   "execution_count": 77,
   "id": "31f65412",
   "metadata": {},
   "outputs": [],
   "source": [
    "class AgentState(BaseModel):\n",
    "    \"\"\"Manages the state of the agent.\"\"\"\n",
    "    messages: List[Dict[str, Any]] = Field(default_factory=list)\n",
    "    step: int = Field(default=0)\n",
    "    final_assistant_content: str | None = None # Populated at the end of a run"
   ]
  },
  {
   "cell_type": "code",
   "execution_count": 82,
   "id": "26f57c8e",
   "metadata": {},
   "outputs": [],
   "source": [
    "class SimpleAgent:\n",
    "    \"\"\"A simple agent class with tracing, state, and tool processing.\"\"\"\n",
    "    def __init__(self, model_name: str, system_message: str, tools: List[Callable]):\n",
    "        self.model_name = model_name\n",
    "        self.system_message = system_message\n",
    "        self.tools = [function_tool(t) for t in tools] # add schemas to the tools\n",
    "    \n",
    "    @weave.op(name=\"SimpleAgent.step\") # Trace each step\n",
    "    def step(self, state: AgentState) -> AgentState:\n",
    "        step = state.step + 1\n",
    "        messages = state.messages\n",
    "        final_assistant_content = None\n",
    "        try:\n",
    "            # call model with tools\n",
    "            response = call_model(\n",
    "                model_name=self.model_name, \n",
    "                messages=messages, \n",
    "                tools=[t.tool_schema for t in self.tools])\n",
    "\n",
    "            # add the response to the messages\n",
    "            messages.append(response.model_dump())\n",
    "\n",
    "            # if the LLM requested tool calls, perform them\n",
    "            if response.tool_calls:\n",
    "                print(\"LLM requested tool calls:\")\n",
    "                # perform the tool calls\n",
    "                tool_outputs = perform_tool_calls(tools=[get_pokemon_info, add_numbers], tool_calls=response.tool_calls)\n",
    "                messages.extend(tool_outputs)\n",
    "\n",
    "            # LLM gave content response\n",
    "            else:\n",
    "                messages.append(response.model_dump())\n",
    "                final_assistant_content = response.content\n",
    "        except Exception as e:\n",
    "            print(f\"ERROR in Agent Step: {e}\")\n",
    "            # Add an error message to history to indicate failure\n",
    "            messages.append({\"role\": \"assistant\", \"content\": f\"Agent error in step: {str(e)}\"})\n",
    "            final_assistant_content = f\"Agent error in step {step}: {str(e)}\"\n",
    "        return AgentState(messages=messages, step=step, final_assistant_content=final_assistant_content)\n",
    "\n",
    "    @weave.op(name=\"SimpleAgent.run\")\n",
    "    def run(self, user_prompt: str, max_turns: int = 10) -> AgentState:\n",
    "        state = AgentState(messages=[\n",
    "            {\"role\": \"system\", \"content\": self.system_message},\n",
    "            {\"role\": \"user\", \"content\": user_prompt}])\n",
    "        for _ in range(max_turns):\n",
    "            print(f\"--- Agent Loop Turn {state.step}/{max_turns} ---\")\n",
    "            state = self.step(state)\n",
    "            if state.final_assistant_content:\n",
    "                return state\n",
    "        return state\n"
   ]
  },
  {
   "cell_type": "markdown",
   "id": "80842566",
   "metadata": {},
   "source": [
    "![](images/07_simple_agent.png)"
   ]
  },
  {
   "cell_type": "code",
   "execution_count": null,
   "id": "6ce6b40a",
   "metadata": {},
   "outputs": [
    {
     "name": "stdout",
     "output_type": "stream",
     "text": [
      "--- Agent Loop Turn 0/10 ---\n",
      "LLM requested tool calls:\n",
      "Performing tool call: get_pokemon_info\n",
      "  - Args: {\"pokemon_name\": \"Pikachu\"}\n",
      "  - Response: {'name': 'Pikachu', 'id': 25, 'weight': 60}\n",
      "Performing tool call: get_pokemon_info\n",
      "  - Args: {\"pokemon_name\": \"Caterpie\"}\n",
      "  - Response: {'name': 'Caterpie', 'id': 10, 'weight': 29}\n",
      "Performing tool call: get_pokemon_info\n",
      "  - Args: {\"pokemon_name\": \"Pidgey\"}\n",
      "  - Response: {'name': 'Pidgey', 'id': 16, 'weight': 18}\n",
      "--- Agent Loop Turn 1/10 ---\n",
      "LLM requested tool calls:\n",
      "Performing tool call: add_numbers\n",
      "  - Args: {\"a\": 60, \"b\": 29}\n",
      "  - Response: 89\n",
      "Performing tool call: add_numbers\n",
      "  - Args: {\"a\": 60, \"b\": 18}\n",
      "  - Response: 78\n",
      "--- Agent Loop Turn 2/10 ---\n",
      "The combined weight of Ash's first 3 pokemons is 89 + 78 = 167 hectograms.\n"
     ]
    }
   ],
   "source": [
    "agent = SimpleAgent(\n",
    "    model_name=MISTRAL_SMALL_MODEL,\n",
    "    system_message=\"You are a helpful assistant that can use tools to answer questions.\",\n",
    "    tools=[get_pokemon_info, add_numbers]\n",
    ")\n",
    "state = agent.run(user_prompt=\"What is the combined weight of Ash's first 3 pokemons?\")\n",
    "print(f\"Final response: {state.final_assistant_content}\")\n"
   ]
  },
  {
   "cell_type": "markdown",
   "id": "4e9cd3c5",
   "metadata": {},
   "source": [
    "Possible improvements to the SimpleAgent:\n",
    "- Give the model info about the state of the conversation, you could inject a message with the model context pressure, steps left, etc.\n",
    "- Structured output. Make the model output a specific format, for instance a JSON with the expected fields.\n",
    "- Add more tools like read and write files, access a database.\n",
    "- Agent handoff: Agent1 does triage and Agent2 executes specific tasks."
   ]
  },
  {
   "cell_type": "markdown",
   "id": "9fe0fe5e",
   "metadata": {},
   "source": [
    "## 10. A more complex agent: PhD Researcher\n",
    "\n",
    "This agent is a PhD assistant that can help with the research process. It can:\n",
    "- Retrieve relevant documents from a database\n",
    "- Critique your manuscript with different personalities\n",
    "- Read and write files\n",
    "- List files in a directory\n",
    "\n",
    "Let me show you how it works.\n"
   ]
  },
  {
   "cell_type": "code",
   "execution_count": 99,
   "id": "6457129a",
   "metadata": {},
   "outputs": [],
   "source": [
    "from pathlib import Path\n",
    "\n",
    "from researcher.preprocess import get_pdf_files, batch_process_files, save_to_jsonl\n",
    "from researcher.rag import ContextualVectorDB"
   ]
  },
  {
   "cell_type": "code",
   "execution_count": 100,
   "id": "8bcaa236",
   "metadata": {},
   "outputs": [
    {
     "data": {
      "text/html": [
       "<pre style=\"white-space:pre;overflow-x:auto;line-height:normal;font-family:Menlo,'DejaVu Sans Mono',consolas,'Courier New',monospace\">/Users/tcapelle/work/phd_researcher/.venv/lib/python3.12/site-packages/rich/live.py:231: UserWarning: install \n",
       "\"ipywidgets\" for Jupyter support\n",
       "  warnings.warn('install \"ipywidgets\" for Jupyter support')\n",
       "</pre>\n"
      ],
      "text/plain": [
       "/Users/tcapelle/work/phd_researcher/.venv/lib/python3.12/site-packages/rich/live.py:231: UserWarning: install \n",
       "\"ipywidgets\" for Jupyter support\n",
       "  warnings.warn('install \"ipywidgets\" for Jupyter support')\n"
      ]
     },
     "metadata": {},
     "output_type": "display_data"
    },
    {
     "name": "stdout",
     "output_type": "stream",
     "text": [
      "Found 4 PDF files in my_data\n"
     ]
    },
    {
     "data": {
      "text/html": [
       "<pre style=\"white-space:pre;overflow-x:auto;line-height:normal;font-family:Menlo,'DejaVu Sans Mono',consolas,'Courier New',monospace\"></pre>\n"
      ],
      "text/plain": []
     },
     "metadata": {},
     "output_type": "display_data"
    }
   ],
   "source": [
    "data_dir = Path(\"my_data\")\n",
    "output_file = data_dir / \"processed_documents.jsonl\"\n",
    "    \n",
    "pdf_files = get_pdf_files(data_dir)\n",
    "print(f\"Found {len(pdf_files)} PDF files in {data_dir}\")\n",
    "\n",
    "# Process all files with specified chunk size and worker count\n",
    "processed_files = batch_process_files(\n",
    "    pdf_files, \n",
    "    max_workers=4,\n",
    ")\n",
    "\n",
    "save_to_jsonl(processed_files, output_file)"
   ]
  },
  {
   "cell_type": "code",
   "execution_count": 101,
   "id": "71ebc83e",
   "metadata": {},
   "outputs": [
    {
     "name": "stderr",
     "output_type": "stream",
     "text": [
      "  2%|▏         | 5/242 [00:11<08:53,  2.25s/it]\n"
     ]
    },
    {
     "ename": "CancelledError",
     "evalue": "",
     "output_type": "error",
     "traceback": [
      "\u001b[31m---------------------------------------------------------------------------\u001b[39m",
      "\u001b[31mCancelledError\u001b[39m                            Traceback (most recent call last)",
      "\u001b[36mCell\u001b[39m\u001b[36m \u001b[39m\u001b[32mIn[101]\u001b[39m\u001b[32m, line 6\u001b[39m\n\u001b[32m      1\u001b[39m db = ContextualVectorDB(\n\u001b[32m      2\u001b[39m     output_file,\n\u001b[32m      3\u001b[39m     max_tokens=\u001b[32m512\u001b[39m, \u001b[38;5;66;03m# Chunk size\u001b[39;00m\n\u001b[32m      4\u001b[39m )\n\u001b[32m----> \u001b[39m\u001b[32m6\u001b[39m db = \u001b[38;5;28;01mawait\u001b[39;00m db.load_data(processed_files, parallel_requests=\u001b[32m10\u001b[39m)\n",
      "\u001b[36mFile \u001b[39m\u001b[32m~/work/phd_researcher/researcher/rag.py:154\u001b[39m, in \u001b[36mContextualVectorDB.load_data\u001b[39m\u001b[34m(self, dataset, parallel_requests)\u001b[39m\n\u001b[32m    151\u001b[39m         tasks.append(process_chunk(doc, chunk))\n\u001b[32m    153\u001b[39m \u001b[38;5;66;03m# Use tqdm_asyncio.gather directly without manual event loop management\u001b[39;00m\n\u001b[32m--> \u001b[39m\u001b[32m154\u001b[39m results = \u001b[38;5;28;01mawait\u001b[39;00m tqdm_asyncio.gather(*tasks)\n\u001b[32m    156\u001b[39m all_chunks = [(doc, chunk) \n\u001b[32m    157\u001b[39m              \u001b[38;5;28;01mfor\u001b[39;00m doc \u001b[38;5;129;01min\u001b[39;00m dataset \n\u001b[32m    158\u001b[39m              \u001b[38;5;28;01mfor\u001b[39;00m chunk \u001b[38;5;129;01min\u001b[39;00m doc[\u001b[33m'\u001b[39m\u001b[33mchunks\u001b[39m\u001b[33m'\u001b[39m]]\n\u001b[32m    160\u001b[39m \u001b[38;5;28;01mfor\u001b[39;00m (doc, chunk), (contextualized_text, usage) \u001b[38;5;129;01min\u001b[39;00m \u001b[38;5;28mzip\u001b[39m(all_chunks, results):\n",
      "\u001b[36mFile \u001b[39m\u001b[32m~/work/phd_researcher/.venv/lib/python3.12/site-packages/tqdm/asyncio.py:79\u001b[39m, in \u001b[36mtqdm_asyncio.gather\u001b[39m\u001b[34m(cls, loop, timeout, total, *fs, **tqdm_kwargs)\u001b[39m\n\u001b[32m     76\u001b[39m     \u001b[38;5;28;01mreturn\u001b[39;00m i, \u001b[38;5;28;01mawait\u001b[39;00m f\n\u001b[32m     78\u001b[39m ifs = [wrap_awaitable(i, f) \u001b[38;5;28;01mfor\u001b[39;00m i, f \u001b[38;5;129;01min\u001b[39;00m \u001b[38;5;28menumerate\u001b[39m(fs)]\n\u001b[32m---> \u001b[39m\u001b[32m79\u001b[39m res = [\u001b[38;5;28;01mawait\u001b[39;00m f \u001b[38;5;28;01mfor\u001b[39;00m f \u001b[38;5;129;01min\u001b[39;00m \u001b[38;5;28mcls\u001b[39m.as_completed(ifs, loop=loop, timeout=timeout,\n\u001b[32m     80\u001b[39m                                          total=total, **tqdm_kwargs)]\n\u001b[32m     81\u001b[39m \u001b[38;5;28;01mreturn\u001b[39;00m [i \u001b[38;5;28;01mfor\u001b[39;00m _, i \u001b[38;5;129;01min\u001b[39;00m \u001b[38;5;28msorted\u001b[39m(res)]\n",
      "\u001b[36mFile \u001b[39m\u001b[32m~/.local/share/uv/python/cpython-3.12.9-macos-aarch64-none/lib/python3.12/asyncio/tasks.py:627\u001b[39m, in \u001b[36mas_completed.<locals>._wait_for_one\u001b[39m\u001b[34m()\u001b[39m\n\u001b[32m    626\u001b[39m \u001b[38;5;28;01masync\u001b[39;00m \u001b[38;5;28;01mdef\u001b[39;00m\u001b[38;5;250m \u001b[39m\u001b[34m_wait_for_one\u001b[39m():\n\u001b[32m--> \u001b[39m\u001b[32m627\u001b[39m     f = \u001b[38;5;28;01mawait\u001b[39;00m done.get()\n\u001b[32m    628\u001b[39m     \u001b[38;5;28;01mif\u001b[39;00m f \u001b[38;5;129;01mis\u001b[39;00m \u001b[38;5;28;01mNone\u001b[39;00m:\n\u001b[32m    629\u001b[39m         \u001b[38;5;66;03m# Dummy value from _on_timeout().\u001b[39;00m\n\u001b[32m    630\u001b[39m         \u001b[38;5;28;01mraise\u001b[39;00m exceptions.TimeoutError\n",
      "\u001b[36mFile \u001b[39m\u001b[32m~/.local/share/uv/python/cpython-3.12.9-macos-aarch64-none/lib/python3.12/asyncio/queues.py:158\u001b[39m, in \u001b[36mQueue.get\u001b[39m\u001b[34m(self)\u001b[39m\n\u001b[32m    156\u001b[39m \u001b[38;5;28mself\u001b[39m._getters.append(getter)\n\u001b[32m    157\u001b[39m \u001b[38;5;28;01mtry\u001b[39;00m:\n\u001b[32m--> \u001b[39m\u001b[32m158\u001b[39m     \u001b[38;5;28;01mawait\u001b[39;00m getter\n\u001b[32m    159\u001b[39m \u001b[38;5;28;01mexcept\u001b[39;00m:\n\u001b[32m    160\u001b[39m     getter.cancel()  \u001b[38;5;66;03m# Just in case getter is not done yet.\u001b[39;00m\n",
      "\u001b[31mCancelledError\u001b[39m: "
     ]
    }
   ],
   "source": [
    "db = ContextualVectorDB(\n",
    "    output_file,\n",
    "    max_tokens=1024, # Chunk size\n",
    ")\n",
    "\n",
    "db = await db.load_data(processed_files, parallel_requests=10)\n",
    "\n"
   ]
  },
  {
   "cell_type": "code",
   "execution_count": null,
   "id": "26d4a786",
   "metadata": {},
   "outputs": [
    {
     "ename": "ValueError",
     "evalue": "No data loaded in the vector database.",
     "output_type": "error",
     "traceback": [
      "\u001b[31m---------------------------------------------------------------------------\u001b[39m",
      "\u001b[31mValueError\u001b[39m                                Traceback (most recent call last)",
      "\u001b[36mCell\u001b[39m\u001b[36m \u001b[39m\u001b[32mIn[96]\u001b[39m\u001b[32m, line 1\u001b[39m\n\u001b[32m----> \u001b[39m\u001b[32m1\u001b[39m \u001b[38;5;28;01mawait\u001b[39;00m db.asearch(\u001b[33m\"\u001b[39m\u001b[33mWhat is the main idea of the paper?\u001b[39m\u001b[33m\"\u001b[39m)\n",
      "\u001b[36mFile \u001b[39m\u001b[32m~/work/phd_researcher/.venv/lib/python3.12/site-packages/weave/trace/op.py:662\u001b[39m, in \u001b[36mop.<locals>.op_deco.<locals>.create_wrapper.<locals>.wrapper\u001b[39m\u001b[34m(*args, **kwargs)\u001b[39m\n\u001b[32m    660\u001b[39m \u001b[38;5;129m@wraps\u001b[39m(func)\n\u001b[32m    661\u001b[39m \u001b[38;5;28;01masync\u001b[39;00m \u001b[38;5;28;01mdef\u001b[39;00m\u001b[38;5;250m \u001b[39m\u001b[34mwrapper\u001b[39m(*args: Any, **kwargs: Any) -> Any:  \u001b[38;5;66;03m# pyright: ignore[reportRedeclaration]\u001b[39;00m\n\u001b[32m--> \u001b[39m\u001b[32m662\u001b[39m     res, _ = \u001b[38;5;28;01mawait\u001b[39;00m _call_async_func(\n\u001b[32m    663\u001b[39m         cast(Op, wrapper), *args, __should_raise=\u001b[38;5;28;01mTrue\u001b[39;00m, **kwargs\n\u001b[32m    664\u001b[39m     )\n\u001b[32m    665\u001b[39m     \u001b[38;5;28;01mreturn\u001b[39;00m res\n",
      "\u001b[36mFile \u001b[39m\u001b[32m~/work/phd_researcher/.venv/lib/python3.12/site-packages/weave/trace/op.py:502\u001b[39m, in \u001b[36m_call_async_func\u001b[39m\u001b[34m(op, __weave, __should_raise, __require_explicit_finish, *args, **kwargs)\u001b[39m\n\u001b[32m    499\u001b[39m     \u001b[38;5;28;01mreturn\u001b[39;00m output\n\u001b[32m    501\u001b[39m \u001b[38;5;28;01mtry\u001b[39;00m:\n\u001b[32m--> \u001b[39m\u001b[32m502\u001b[39m     res = \u001b[38;5;28;01mawait\u001b[39;00m func(*args, **kwargs)\n\u001b[32m    503\u001b[39m \u001b[38;5;28;01mexcept\u001b[39;00m \u001b[38;5;167;01mException\u001b[39;00m \u001b[38;5;28;01mas\u001b[39;00m e:\n\u001b[32m    504\u001b[39m     finish(exception=e)\n",
      "\u001b[36mFile \u001b[39m\u001b[32m~/work/phd_researcher/researcher/rag.py:230\u001b[39m, in \u001b[36mContextualVectorDB.asearch\u001b[39m\u001b[34m(self, query, k)\u001b[39m\n\u001b[32m    227\u001b[39m     \u001b[38;5;28mself\u001b[39m.query_cache[query] = query_embedding\n\u001b[32m    229\u001b[39m \u001b[38;5;28;01mif\u001b[39;00m \u001b[38;5;129;01mnot\u001b[39;00m \u001b[38;5;28mself\u001b[39m.embeddings:\n\u001b[32m--> \u001b[39m\u001b[32m230\u001b[39m     \u001b[38;5;28;01mraise\u001b[39;00m \u001b[38;5;167;01mValueError\u001b[39;00m(\u001b[33m\"\u001b[39m\u001b[33mNo data loaded in the vector database.\u001b[39m\u001b[33m\"\u001b[39m)\n\u001b[32m    232\u001b[39m similarities = np.dot(\u001b[38;5;28mself\u001b[39m.embeddings, query_embedding)\n\u001b[32m    233\u001b[39m top_indices = np.argsort(similarities)[::-\u001b[32m1\u001b[39m][:k]\n",
      "\u001b[31mValueError\u001b[39m: No data loaded in the vector database."
     ]
    }
   ],
   "source": [
    "await db.asearch(\"What is the main idea of the paper?\")"
   ]
  },
  {
   "cell_type": "code",
   "execution_count": null,
   "id": "0e136cea",
   "metadata": {},
   "outputs": [],
   "source": []
  }
 ],
 "metadata": {
  "kernelspec": {
   "display_name": ".venv",
   "language": "python",
   "name": "python3"
  },
  "language_info": {
   "codemirror_mode": {
    "name": "ipython",
    "version": 3
   },
   "file_extension": ".py",
   "mimetype": "text/x-python",
   "name": "python",
   "nbconvert_exporter": "python",
   "pygments_lexer": "ipython3",
   "version": "3.12.9"
  }
 },
 "nbformat": 4,
 "nbformat_minor": 5
}
